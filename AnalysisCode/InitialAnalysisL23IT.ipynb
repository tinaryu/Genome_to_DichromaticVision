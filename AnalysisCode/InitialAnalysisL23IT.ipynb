{
 "cells": [
  {
   "cell_type": "code",
   "execution_count": 2,
   "metadata": {
    "vscode": {
     "languageId": "r"
    }
   },
   "outputs": [
    {
     "name": "stderr",
     "output_type": "stream",
     "text": [
      "\n",
      "Attaching package: 'gplots'\n",
      "\n",
      "\n",
      "The following object is masked from 'package:stats':\n",
      "\n",
      "    lowess\n",
      "\n",
      "\n"
     ]
    }
   ],
   "source": [
    "library(gplots)\n",
    "library(ggplot2)\n",
    "library(ape)\n",
    "library(phylolm);"
   ]
  },
  {
   "cell_type": "code",
   "execution_count": 3,
   "metadata": {
    "vscode": {
     "languageId": "r"
    }
   },
   "outputs": [
    {
     "data": {
      "text/html": [
       "<table class=\"dataframe\">\n",
       "<caption>A matrix: 16 x 2 of type chr</caption>\n",
       "<thead>\n",
       "\t<tr><th></th><th scope=col>species</th><th scope=col>coneType</th></tr>\n",
       "</thead>\n",
       "<tbody>\n",
       "\t<tr><th scope=row>Trichechus_manatus</th><td>Trichechus_manatus    </td><td>0</td></tr>\n",
       "\t<tr><th scope=row>Equus_caballus</th><td>Equus_caballus        </td><td>0</td></tr>\n",
       "\t<tr><th scope=row>Canis_lupus</th><td>Canis_lupus           </td><td>1</td></tr>\n",
       "\t<tr><th scope=row>Spermophilus_dauricus</th><td>Spermophilus_dauricus </td><td>1</td></tr>\n",
       "\t<tr><th scope=row>Ursus_maritimus</th><td>Ursus_maritimus       </td><td>0</td></tr>\n",
       "\t<tr><th scope=row>Pteropus_vampyrus</th><td>Pteropus_vampyrus     </td><td>1</td></tr>\n",
       "\t<tr><th scope=row>Elephantulus_edwardii</th><td>Elephantulus_edwardii </td><td>0</td></tr>\n",
       "\t<tr><th scope=row>Sus_scrofa</th><td>Sus_scrofa            </td><td>0</td></tr>\n",
       "\t<tr><th scope=row>Odocoileus_virginianus</th><td>Odocoileus_virginianus</td><td>1</td></tr>\n",
       "\t<tr><th scope=row>Oryctolagus_cuniculus</th><td>Oryctolagus_cuniculus </td><td>1</td></tr>\n",
       "\t<tr><th scope=row>Ovis_aries</th><td>Ovis_aries            </td><td>0</td></tr>\n",
       "\t<tr><th scope=row>Lemur_catta</th><td>Lemur_catta           </td><td>0</td></tr>\n",
       "\t<tr><th scope=row>Tupaia_chinensis</th><td>Tupaia_chinensis      </td><td>0</td></tr>\n",
       "\t<tr><th scope=row>Enhydra_lutris</th><td>Enhydra_lutris        </td><td>0</td></tr>\n",
       "\t<tr><th scope=row>Felis_catus</th><td>Felis_catus           </td><td>0</td></tr>\n",
       "\t<tr><th scope=row>Cavia_porcellus</th><td>Cavia_porcellus       </td><td>1</td></tr>\n",
       "</tbody>\n",
       "</table>\n"
      ],
      "text/latex": [
       "A matrix: 16 x 2 of type chr\n",
       "\\begin{tabular}{r|ll}\n",
       "  & species & coneType\\\\\n",
       "\\hline\n",
       "\tTrichechus\\_manatus & Trichechus\\_manatus     & 0\\\\\n",
       "\tEquus\\_caballus & Equus\\_caballus         & 0\\\\\n",
       "\tCanis\\_lupus & Canis\\_lupus            & 1\\\\\n",
       "\tSpermophilus\\_dauricus & Spermophilus\\_dauricus  & 1\\\\\n",
       "\tUrsus\\_maritimus & Ursus\\_maritimus        & 0\\\\\n",
       "\tPteropus\\_vampyrus & Pteropus\\_vampyrus      & 1\\\\\n",
       "\tElephantulus\\_edwardii & Elephantulus\\_edwardii  & 0\\\\\n",
       "\tSus\\_scrofa & Sus\\_scrofa             & 0\\\\\n",
       "\tOdocoileus\\_virginianus & Odocoileus\\_virginianus & 1\\\\\n",
       "\tOryctolagus\\_cuniculus & Oryctolagus\\_cuniculus  & 1\\\\\n",
       "\tOvis\\_aries & Ovis\\_aries             & 0\\\\\n",
       "\tLemur\\_catta & Lemur\\_catta            & 0\\\\\n",
       "\tTupaia\\_chinensis & Tupaia\\_chinensis       & 0\\\\\n",
       "\tEnhydra\\_lutris & Enhydra\\_lutris         & 0\\\\\n",
       "\tFelis\\_catus & Felis\\_catus            & 0\\\\\n",
       "\tCavia\\_porcellus & Cavia\\_porcellus        & 1\\\\\n",
       "\\end{tabular}\n"
      ],
      "text/markdown": [
       "\n",
       "A matrix: 16 x 2 of type chr\n",
       "\n",
       "| <!--/--> | species | coneType |\n",
       "|---|---|---|\n",
       "| Trichechus_manatus | Trichechus_manatus     | 0 |\n",
       "| Equus_caballus | Equus_caballus         | 0 |\n",
       "| Canis_lupus | Canis_lupus            | 1 |\n",
       "| Spermophilus_dauricus | Spermophilus_dauricus  | 1 |\n",
       "| Ursus_maritimus | Ursus_maritimus        | 0 |\n",
       "| Pteropus_vampyrus | Pteropus_vampyrus      | 1 |\n",
       "| Elephantulus_edwardii | Elephantulus_edwardii  | 0 |\n",
       "| Sus_scrofa | Sus_scrofa             | 0 |\n",
       "| Odocoileus_virginianus | Odocoileus_virginianus | 1 |\n",
       "| Oryctolagus_cuniculus | Oryctolagus_cuniculus  | 1 |\n",
       "| Ovis_aries | Ovis_aries             | 0 |\n",
       "| Lemur_catta | Lemur_catta            | 0 |\n",
       "| Tupaia_chinensis | Tupaia_chinensis       | 0 |\n",
       "| Enhydra_lutris | Enhydra_lutris         | 0 |\n",
       "| Felis_catus | Felis_catus            | 0 |\n",
       "| Cavia_porcellus | Cavia_porcellus        | 1 |\n",
       "\n"
      ],
      "text/plain": [
       "                       species                coneType\n",
       "Trichechus_manatus     Trichechus_manatus     0       \n",
       "Equus_caballus         Equus_caballus         0       \n",
       "Canis_lupus            Canis_lupus            1       \n",
       "Spermophilus_dauricus  Spermophilus_dauricus  1       \n",
       "Ursus_maritimus        Ursus_maritimus        0       \n",
       "Pteropus_vampyrus      Pteropus_vampyrus      1       \n",
       "Elephantulus_edwardii  Elephantulus_edwardii  0       \n",
       "Sus_scrofa             Sus_scrofa             0       \n",
       "Odocoileus_virginianus Odocoileus_virginianus 1       \n",
       "Oryctolagus_cuniculus  Oryctolagus_cuniculus  1       \n",
       "Ovis_aries             Ovis_aries             0       \n",
       "Lemur_catta            Lemur_catta            0       \n",
       "Tupaia_chinensis       Tupaia_chinensis       0       \n",
       "Enhydra_lutris         Enhydra_lutris         0       \n",
       "Felis_catus            Felis_catus            0       \n",
       "Cavia_porcellus        Cavia_porcellus        1       "
      ]
     },
     "metadata": {},
     "output_type": "display_data"
    }
   ],
   "source": [
    "#Treat SL as 0 and SM as 1\n",
    "species = c('Trichechus_manatus','Equus_caballus','Canis_lupus','Spermophilus_dauricus','Ursus_maritimus','Pteropus_vampyrus','Elephantulus_edwardii','Sus_scrofa','Odocoileus_virginianus','Oryctolagus_cuniculus','Ovis_aries','Lemur_catta','Tupaia_chinensis','Enhydra_lutris','Felis_catus','Cavia_porcellus')\n",
    "coneType = c(0,0,1,1,0,1,0,0,1,1,0,0,0,0,0,1)\n",
    "traitF <- data.frame(species = species, coneType = coneType)\n",
    "rownames(traitF) <- traitF$species\n",
    "traitM <- as.matrix(traitF)\n",
    "traitM"
   ]
  },
  {
   "cell_type": "code",
   "execution_count": 4,
   "metadata": {
    "vscode": {
     "languageId": "r"
    }
   },
   "outputs": [
    {
     "data": {
      "text/html": [
       "<style>\n",
       ".list-inline {list-style: none; margin:0; padding: 0}\n",
       ".list-inline>li {display: inline-block}\n",
       ".list-inline>li:not(:last-child)::after {content: \"\\00b7\"; padding: 0 .5ex}\n",
       "</style>\n",
       "<ol class=list-inline><li>'Trichechus_manatus'</li><li>'Elephantulus_edwardii'</li><li>'Oryctolagus_cuniculus'</li><li>'Cavia_porcellus'</li><li>'Spermophilus_dauricus'</li><li>'Tupaia_chinensis'</li><li>'Lemur_catta'</li><li>'Pteropus_vampyrus'</li><li>'Sus_scrofa'</li><li>'Odocoileus_virginianus'</li><li>'Ovis_aries'</li><li>'Equus_caballus'</li><li>'Felis_catus'</li><li>'Canis_lupus'</li><li>'Ursus_maritimus'</li><li>'Enhydra_lutris'</li></ol>\n"
      ],
      "text/latex": [
       "\\begin{enumerate*}\n",
       "\\item 'Trichechus\\_manatus'\n",
       "\\item 'Elephantulus\\_edwardii'\n",
       "\\item 'Oryctolagus\\_cuniculus'\n",
       "\\item 'Cavia\\_porcellus'\n",
       "\\item 'Spermophilus\\_dauricus'\n",
       "\\item 'Tupaia\\_chinensis'\n",
       "\\item 'Lemur\\_catta'\n",
       "\\item 'Pteropus\\_vampyrus'\n",
       "\\item 'Sus\\_scrofa'\n",
       "\\item 'Odocoileus\\_virginianus'\n",
       "\\item 'Ovis\\_aries'\n",
       "\\item 'Equus\\_caballus'\n",
       "\\item 'Felis\\_catus'\n",
       "\\item 'Canis\\_lupus'\n",
       "\\item 'Ursus\\_maritimus'\n",
       "\\item 'Enhydra\\_lutris'\n",
       "\\end{enumerate*}\n"
      ],
      "text/markdown": [
       "1. 'Trichechus_manatus'\n",
       "2. 'Elephantulus_edwardii'\n",
       "3. 'Oryctolagus_cuniculus'\n",
       "4. 'Cavia_porcellus'\n",
       "5. 'Spermophilus_dauricus'\n",
       "6. 'Tupaia_chinensis'\n",
       "7. 'Lemur_catta'\n",
       "8. 'Pteropus_vampyrus'\n",
       "9. 'Sus_scrofa'\n",
       "10. 'Odocoileus_virginianus'\n",
       "11. 'Ovis_aries'\n",
       "12. 'Equus_caballus'\n",
       "13. 'Felis_catus'\n",
       "14. 'Canis_lupus'\n",
       "15. 'Ursus_maritimus'\n",
       "16. 'Enhydra_lutris'\n",
       "\n",
       "\n"
      ],
      "text/plain": [
       " [1] \"Trichechus_manatus\"     \"Elephantulus_edwardii\"  \"Oryctolagus_cuniculus\" \n",
       " [4] \"Cavia_porcellus\"        \"Spermophilus_dauricus\"  \"Tupaia_chinensis\"      \n",
       " [7] \"Lemur_catta\"            \"Pteropus_vampyrus\"      \"Sus_scrofa\"            \n",
       "[10] \"Odocoileus_virginianus\" \"Ovis_aries\"             \"Equus_caballus\"        \n",
       "[13] \"Felis_catus\"            \"Canis_lupus\"            \"Ursus_maritimus\"       \n",
       "[16] \"Enhydra_lutris\"        "
      ]
     },
     "metadata": {},
     "output_type": "display_data"
    }
   ],
   "source": [
    "zoonomiaPath = '/Users/tinaryu/brain_epigenetics/project/data/Zoonomia_ChrX_lessGC40_241species_30Consensus.tree'\n",
    "zoonomiaTree <- read.tree(file = zoonomiaPath)\n",
    "removeSpecV <- setdiff(zoonomiaTree$tip.label,species)\n",
    "\n",
    "zoonomiaTreeDrop <- drop.tip(zoonomiaTree,removeSpecV)\n",
    "zoonomiaTreeDrop$tip.label"
   ]
  },
  {
   "cell_type": "code",
   "execution_count": 5,
   "metadata": {
    "vscode": {
     "languageId": "r"
    }
   },
   "outputs": [],
   "source": [
    "#this may take a minute\n",
    "\n",
    "pathPeak = '/Users/tinaryu/brain_epigenetics/project/data/L23ITpeakPredM.csv'\n",
    "pathSpecies = '/Users/tinaryu/brain_epigenetics/project/data/L23ITspeciesNames.csv'\n",
    "\n",
    "speciesInfoF <- read.csv(file=pathSpecies,stringsAsFactors=F,header=T);\n",
    "peakInfoF <- read.csv(file=pathPeak,header=TRUE,stringsAsFactors=F);\n"
   ]
  },
  {
   "cell_type": "code",
   "execution_count": 6,
   "metadata": {
    "vscode": {
     "languageId": "r"
    }
   },
   "outputs": [
    {
     "data": {
      "text/html": [
       "<table class=\"dataframe\">\n",
       "<caption>A matrix: 5 x 16 of type dbl</caption>\n",
       "<thead>\n",
       "\t<tr><th></th><th scope=col>Trichechus_manatus</th><th scope=col>Equus_caballus</th><th scope=col>Canis_lupus</th><th scope=col>Spermophilus_dauricus</th><th scope=col>Ursus_maritimus</th><th scope=col>Pteropus_vampyrus</th><th scope=col>Elephantulus_edwardii</th><th scope=col>Sus_scrofa</th><th scope=col>Odocoileus_virginianus</th><th scope=col>Oryctolagus_cuniculus</th><th scope=col>Ovis_aries</th><th scope=col>Lemur_catta</th><th scope=col>Tupaia_chinensis</th><th scope=col>Enhydra_lutris</th><th scope=col>Felis_catus</th><th scope=col>Cavia_porcellus</th></tr>\n",
       "</thead>\n",
       "<tbody>\n",
       "\t<tr><th scope=row>hg38:chr1:827294-827795</th><td>      NA</td><td>       NA</td><td>      NA</td><td>      NA</td><td>      NA</td><td>      NA</td><td>      NA</td><td>      NA</td><td>      NA</td><td>      NA</td><td>      NA</td><td>0.896454</td><td>      NA</td><td>      NA</td><td>      NA</td><td>      NA</td></tr>\n",
       "\t<tr><th scope=row>hg38:chr1:1019232-1019733</th><td>      NA</td><td>       NA</td><td>      NA</td><td>      NA</td><td>      NA</td><td>      NA</td><td>      NA</td><td>      NA</td><td>      NA</td><td>      NA</td><td>      NA</td><td>      NA</td><td>      NA</td><td>      NA</td><td>      NA</td><td>      NA</td></tr>\n",
       "\t<tr><th scope=row>hg38:chr1:2414331-2414832</th><td>      NA</td><td>0.1736450</td><td>0.274206</td><td>0.690077</td><td>0.389811</td><td>0.970039</td><td>      NA</td><td>      NA</td><td>0.874791</td><td>      NA</td><td>0.276168</td><td>      NA</td><td>0.946244</td><td>0.858548</td><td>      NA</td><td>0.924502</td></tr>\n",
       "\t<tr><th scope=row>hg38:chr1:32886478-32886979</th><td>0.946243</td><td>0.9631820</td><td>0.286944</td><td>0.439608</td><td>0.489087</td><td>0.971063</td><td>0.907109</td><td>0.940642</td><td>0.930320</td><td>0.942203</td><td>0.161447</td><td>0.702246</td><td>0.350648</td><td>0.798215</td><td>0.219556</td><td>      NA</td></tr>\n",
       "\t<tr><th scope=row>hg38:chr3:51340395-51340896</th><td>0.933330</td><td>0.0719499</td><td>      NA</td><td>0.849795</td><td>      NA</td><td>0.103207</td><td>      NA</td><td>0.956646</td><td>0.936982</td><td>0.975540</td><td>0.856439</td><td>0.922376</td><td>0.945567</td><td>      NA</td><td>0.871231</td><td>      NA</td></tr>\n",
       "</tbody>\n",
       "</table>\n"
      ],
      "text/latex": [
       "A matrix: 5 x 16 of type dbl\n",
       "\\begin{tabular}{r|llllllllllllllll}\n",
       "  & Trichechus\\_manatus & Equus\\_caballus & Canis\\_lupus & Spermophilus\\_dauricus & Ursus\\_maritimus & Pteropus\\_vampyrus & Elephantulus\\_edwardii & Sus\\_scrofa & Odocoileus\\_virginianus & Oryctolagus\\_cuniculus & Ovis\\_aries & Lemur\\_catta & Tupaia\\_chinensis & Enhydra\\_lutris & Felis\\_catus & Cavia\\_porcellus\\\\\n",
       "\\hline\n",
       "\thg38:chr1:827294-827795 &       NA &        NA &       NA &       NA &       NA &       NA &       NA &       NA &       NA &       NA &       NA & 0.896454 &       NA &       NA &       NA &       NA\\\\\n",
       "\thg38:chr1:1019232-1019733 &       NA &        NA &       NA &       NA &       NA &       NA &       NA &       NA &       NA &       NA &       NA &       NA &       NA &       NA &       NA &       NA\\\\\n",
       "\thg38:chr1:2414331-2414832 &       NA & 0.1736450 & 0.274206 & 0.690077 & 0.389811 & 0.970039 &       NA &       NA & 0.874791 &       NA & 0.276168 &       NA & 0.946244 & 0.858548 &       NA & 0.924502\\\\\n",
       "\thg38:chr1:32886478-32886979 & 0.946243 & 0.9631820 & 0.286944 & 0.439608 & 0.489087 & 0.971063 & 0.907109 & 0.940642 & 0.930320 & 0.942203 & 0.161447 & 0.702246 & 0.350648 & 0.798215 & 0.219556 &       NA\\\\\n",
       "\thg38:chr3:51340395-51340896 & 0.933330 & 0.0719499 &       NA & 0.849795 &       NA & 0.103207 &       NA & 0.956646 & 0.936982 & 0.975540 & 0.856439 & 0.922376 & 0.945567 &       NA & 0.871231 &       NA\\\\\n",
       "\\end{tabular}\n"
      ],
      "text/markdown": [
       "\n",
       "A matrix: 5 x 16 of type dbl\n",
       "\n",
       "| <!--/--> | Trichechus_manatus | Equus_caballus | Canis_lupus | Spermophilus_dauricus | Ursus_maritimus | Pteropus_vampyrus | Elephantulus_edwardii | Sus_scrofa | Odocoileus_virginianus | Oryctolagus_cuniculus | Ovis_aries | Lemur_catta | Tupaia_chinensis | Enhydra_lutris | Felis_catus | Cavia_porcellus |\n",
       "|---|---|---|---|---|---|---|---|---|---|---|---|---|---|---|---|---|\n",
       "| hg38:chr1:827294-827795 |       NA |        NA |       NA |       NA |       NA |       NA |       NA |       NA |       NA |       NA |       NA | 0.896454 |       NA |       NA |       NA |       NA |\n",
       "| hg38:chr1:1019232-1019733 |       NA |        NA |       NA |       NA |       NA |       NA |       NA |       NA |       NA |       NA |       NA |       NA |       NA |       NA |       NA |       NA |\n",
       "| hg38:chr1:2414331-2414832 |       NA | 0.1736450 | 0.274206 | 0.690077 | 0.389811 | 0.970039 |       NA |       NA | 0.874791 |       NA | 0.276168 |       NA | 0.946244 | 0.858548 |       NA | 0.924502 |\n",
       "| hg38:chr1:32886478-32886979 | 0.946243 | 0.9631820 | 0.286944 | 0.439608 | 0.489087 | 0.971063 | 0.907109 | 0.940642 | 0.930320 | 0.942203 | 0.161447 | 0.702246 | 0.350648 | 0.798215 | 0.219556 |       NA |\n",
       "| hg38:chr3:51340395-51340896 | 0.933330 | 0.0719499 |       NA | 0.849795 |       NA | 0.103207 |       NA | 0.956646 | 0.936982 | 0.975540 | 0.856439 | 0.922376 | 0.945567 |       NA | 0.871231 |       NA |\n",
       "\n"
      ],
      "text/plain": [
       "                            Trichechus_manatus Equus_caballus Canis_lupus\n",
       "hg38:chr1:827294-827795           NA                  NA            NA   \n",
       "hg38:chr1:1019232-1019733         NA                  NA            NA   \n",
       "hg38:chr1:2414331-2414832         NA           0.1736450      0.274206   \n",
       "hg38:chr1:32886478-32886979 0.946243           0.9631820      0.286944   \n",
       "hg38:chr3:51340395-51340896 0.933330           0.0719499            NA   \n",
       "                            Spermophilus_dauricus Ursus_maritimus\n",
       "hg38:chr1:827294-827795           NA                    NA       \n",
       "hg38:chr1:1019232-1019733         NA                    NA       \n",
       "hg38:chr1:2414331-2414832   0.690077              0.389811       \n",
       "hg38:chr1:32886478-32886979 0.439608              0.489087       \n",
       "hg38:chr3:51340395-51340896 0.849795                    NA       \n",
       "                            Pteropus_vampyrus Elephantulus_edwardii Sus_scrofa\n",
       "hg38:chr1:827294-827795           NA                NA                    NA  \n",
       "hg38:chr1:1019232-1019733         NA                NA                    NA  \n",
       "hg38:chr1:2414331-2414832   0.970039                NA                    NA  \n",
       "hg38:chr1:32886478-32886979 0.971063          0.907109              0.940642  \n",
       "hg38:chr3:51340395-51340896 0.103207                NA              0.956646  \n",
       "                            Odocoileus_virginianus Oryctolagus_cuniculus\n",
       "hg38:chr1:827294-827795           NA                     NA             \n",
       "hg38:chr1:1019232-1019733         NA                     NA             \n",
       "hg38:chr1:2414331-2414832   0.874791                     NA             \n",
       "hg38:chr1:32886478-32886979 0.930320               0.942203             \n",
       "hg38:chr3:51340395-51340896 0.936982               0.975540             \n",
       "                            Ovis_aries Lemur_catta Tupaia_chinensis\n",
       "hg38:chr1:827294-827795           NA   0.896454          NA        \n",
       "hg38:chr1:1019232-1019733         NA         NA          NA        \n",
       "hg38:chr1:2414331-2414832   0.276168         NA    0.946244        \n",
       "hg38:chr1:32886478-32886979 0.161447   0.702246    0.350648        \n",
       "hg38:chr3:51340395-51340896 0.856439   0.922376    0.945567        \n",
       "                            Enhydra_lutris Felis_catus Cavia_porcellus\n",
       "hg38:chr1:827294-827795           NA             NA          NA       \n",
       "hg38:chr1:1019232-1019733         NA             NA          NA       \n",
       "hg38:chr1:2414331-2414832   0.858548             NA    0.924502       \n",
       "hg38:chr1:32886478-32886979 0.798215       0.219556          NA       \n",
       "hg38:chr3:51340395-51340896       NA       0.871231          NA       "
      ]
     },
     "metadata": {},
     "output_type": "display_data"
    }
   ],
   "source": [
    "#only keep the species with trait annotation for the peak table\n",
    "rownames(peakInfoF) <- peakInfoF$X\n",
    "peakInfoSubsetF = peakInfoF[,species,drop=FALSE]\n",
    "peakInfoSubsetM = as.matrix(peakInfoSubsetF)\n",
    "peakInfoSubsetM[1:5,]"
   ]
  },
  {
   "cell_type": "code",
   "execution_count": 7,
   "metadata": {
    "vscode": {
     "languageId": "r"
    }
   },
   "outputs": [],
   "source": [
    "#only keep the rows with no missing values 322000 rows -> 26000 rows\n",
    "peakInfoSubsetOmitM <- as.matrix(na.omit(peakInfoSubsetF))\n",
    "peakInfoSubsetOmitF <- as.data.frame(peakInfoSubsetOmitM)"
   ]
  },
  {
   "cell_type": "code",
   "execution_count": 8,
   "metadata": {
    "vscode": {
     "languageId": "r"
    }
   },
   "outputs": [],
   "source": [
    "########## Loop through the peaks and calculate dichromacy relationship with phylolm ###############\n",
    "#This could take a few minutes\n",
    "\n",
    "testPeaksV <- rownames(peakInfoSubsetOmitF);\n",
    "\n",
    "loopPeaksV <- testPeaksV;\n",
    "\n",
    "peakPhyloResultsF <- data.frame(peakId = loopPeaksV, pvalue=rep(NA,length(loopPeaksV)),correlation=rep(NA,length(loopPeaksV)),adjCorrelation=rep(NA,length(loopPeaksV)));\n",
    "\n",
    "rownames(peakPhyloResultsF) <- peakPhyloResultsF$peakId\n",
    "\n",
    "\n",
    "options(warn=-1)\n",
    "\n",
    "for(curPeak in loopPeaksV) {\n",
    "    traitFtmp <- traitF;\n",
    "    traitFtmp$curPeak <- peakInfoSubsetOmitM[curPeak,];\n",
    "    \n",
    "    curLmFit = phylolm(curPeak~coneType,data=traitFtmp,phy=zoonomiaTreeDrop,model=\"BM\");\n",
    "    curLmFitSum <- summary(curLmFit)\n",
    "    peakPhyloResultsF[curPeak,\"pvalue\"] <- curLmFitSum$coefficients[\"coneType\",\"p.value\"]\n",
    "    peakPhyloResultsF[curPeak,\"correlation\"] <- curLmFitSum$r.squared\n",
    "    peakPhyloResultsF[curPeak,\"adjCorrelation\"] <- curLmFitSum$adj.r.squared\n",
    "\n",
    "} \n",
    "\n",
    "options(warn=0)\n"
   ]
  },
  {
   "cell_type": "code",
   "execution_count": 9,
   "metadata": {
    "vscode": {
     "languageId": "r"
    }
   },
   "outputs": [],
   "source": [
    "peakPhyloResults2F <- peakPhyloResultsF[order(peakPhyloResultsF$pvalue,decreasing=F),]"
   ]
  },
  {
   "cell_type": "code",
   "execution_count": 10,
   "metadata": {
    "vscode": {
     "languageId": "r"
    }
   },
   "outputs": [
    {
     "data": {
      "text/html": [
       "<table class=\"dataframe\">\n",
       "<caption>A data.frame: 26569 x 4</caption>\n",
       "<thead>\n",
       "\t<tr><th></th><th scope=col>peakId</th><th scope=col>pvalue</th><th scope=col>correlation</th><th scope=col>adjCorrelation</th></tr>\n",
       "\t<tr><th></th><th scope=col>&lt;chr&gt;</th><th scope=col>&lt;dbl&gt;</th><th scope=col>&lt;dbl&gt;</th><th scope=col>&lt;dbl&gt;</th></tr>\n",
       "</thead>\n",
       "<tbody>\n",
       "\t<tr><th scope=row>rn6:chr9:82649262-82649762:250</th><td>rn6:chr9:82649262-82649762:250       </td><td>2.076689e-07</td><td>0.8624892</td><td>0.8526670</td></tr>\n",
       "\t<tr><th scope=row>rn6:chr18:27659000-27659500:250</th><td>rn6:chr18:27659000-27659500:250      </td><td>6.005609e-07</td><td>0.8402198</td><td>0.8288069</td></tr>\n",
       "\t<tr><th scope=row>rheMac10:chr1:123650393-123650893:250</th><td>rheMac10:chr1:123650393-123650893:250</td><td>1.481245e-06</td><td>0.8185165</td><td>0.8055534</td></tr>\n",
       "\t<tr><th scope=row>rn6:chr18:69550621-69551121:250</th><td>rn6:chr18:69550621-69551121:250      </td><td>1.798091e-06</td><td>0.8134909</td><td>0.8001688</td></tr>\n",
       "\t<tr><th scope=row>mm10:chr2:142647883-142648384</th><td>mm10:chr2:142647883-142648384        </td><td>2.366027e-06</td><td>0.8061396</td><td>0.7922924</td></tr>\n",
       "\t<tr><th scope=row>rn6:chr2:211226830-211227330:250</th><td>rn6:chr2:211226830-211227330:250     </td><td>4.366673e-06</td><td>0.7886859</td><td>0.7735920</td></tr>\n",
       "\t<tr><th scope=row>mm10:chr2:65929897-65930398</th><td>mm10:chr2:65929897-65930398          </td><td>5.863154e-06</td><td>0.7797527</td><td>0.7640207</td></tr>\n",
       "\t<tr><th scope=row>rheMac10:chr14:69380993-69381493:250</th><td>rheMac10:chr14:69380993-69381493:250 </td><td>7.010794e-06</td><td>0.7741545</td><td>0.7580227</td></tr>\n",
       "\t<tr><th scope=row>rn6:chr9:82647113-82647613:250</th><td>rn6:chr9:82647113-82647613:250       </td><td>7.608047e-06</td><td>0.7715481</td><td>0.7552301</td></tr>\n",
       "\t<tr><th scope=row>rheMac10:chr8:26842836-26843336:250</th><td>rheMac10:chr8:26842836-26843336:250  </td><td>7.879535e-06</td><td>0.7704213</td><td>0.7540228</td></tr>\n",
       "\t<tr><th scope=row>rn6:chr14:108926203-108926703:250</th><td>rn6:chr14:108926203-108926703:250    </td><td>1.034499e-05</td><td>0.7614858</td><td>0.7444491</td></tr>\n",
       "\t<tr><th scope=row>hg38:chr3:113745581-113746082</th><td>hg38:chr3:113745581-113746082        </td><td>1.038275e-05</td><td>0.7613639</td><td>0.7443185</td></tr>\n",
       "\t<tr><th scope=row>rn6:chr1:219582405-219582905:250</th><td>rn6:chr1:219582405-219582905:250     </td><td>1.224277e-05</td><td>0.7557882</td><td>0.7383445</td></tr>\n",
       "\t<tr><th scope=row>rn6:chr9:68015857-68016357:250</th><td>rn6:chr9:68015857-68016357:250       </td><td>1.462134e-05</td><td>0.7496387</td><td>0.7317557</td></tr>\n",
       "\t<tr><th scope=row>rn6:chr10:9390401-9390901:250</th><td>rn6:chr10:9390401-9390901:250        </td><td>1.588298e-05</td><td>0.7467206</td><td>0.7286292</td></tr>\n",
       "\t<tr><th scope=row>rn6:chr3:147115056-147115556:250</th><td>rn6:chr3:147115056-147115556:250     </td><td>1.729844e-05</td><td>0.7436761</td><td>0.7253673</td></tr>\n",
       "\t<tr><th scope=row>hg38:chr4:26839413-26839914</th><td>hg38:chr4:26839413-26839914          </td><td>2.062212e-05</td><td>0.7372959</td><td>0.7185314</td></tr>\n",
       "\t<tr><th scope=row>rheMac10:chr3:37286911-37287411:250</th><td>rheMac10:chr3:37286911-37287411:250  </td><td>2.176910e-05</td><td>0.7353000</td><td>0.7163929</td></tr>\n",
       "\t<tr><th scope=row>rn6:chr3:45209805-45210305:250</th><td>rn6:chr3:45209805-45210305:250       </td><td>2.549436e-05</td><td>0.7293905</td><td>0.7100612</td></tr>\n",
       "\t<tr><th scope=row>rn6:chr16:55141111-55141611:250</th><td>rn6:chr16:55141111-55141611:250      </td><td>3.283941e-05</td><td>0.7196511</td><td>0.6996262</td></tr>\n",
       "\t<tr><th scope=row>rheMac10:chr7:163473275-163473775:250</th><td>rheMac10:chr7:163473275-163473775:250</td><td>3.627997e-05</td><td>0.7157257</td><td>0.6954204</td></tr>\n",
       "\t<tr><th scope=row>rheMac10:chr11:53974019-53974519:250</th><td>rheMac10:chr11:53974019-53974519:250 </td><td>3.665920e-05</td><td>0.7153130</td><td>0.6949782</td></tr>\n",
       "\t<tr><th scope=row>rn6:chr18:60719421-60719921:250</th><td>rn6:chr18:60719421-60719921:250      </td><td>4.389961e-05</td><td>0.7080661</td><td>0.6872137</td></tr>\n",
       "\t<tr><th scope=row>rheMac10:chr9:116570477-116570977:250</th><td>rheMac10:chr9:116570477-116570977:250</td><td>4.543514e-05</td><td>0.7066637</td><td>0.6857111</td></tr>\n",
       "\t<tr><th scope=row>rheMac10:chr3:28871981-28872481:250</th><td>rheMac10:chr3:28871981-28872481:250  </td><td>5.368416e-05</td><td>0.6997653</td><td>0.6783200</td></tr>\n",
       "\t<tr><th scope=row>rn6:chr4:168640080-168640580:250</th><td>rn6:chr4:168640080-168640580:250     </td><td>5.985574e-05</td><td>0.6951816</td><td>0.6734089</td></tr>\n",
       "\t<tr><th scope=row>rheMac10:chr3:154492104-154492604:250</th><td>rheMac10:chr3:154492104-154492604:250</td><td>6.003874e-05</td><td>0.6950521</td><td>0.6732701</td></tr>\n",
       "\t<tr><th scope=row>hg38:chr17:27968242-27968743</th><td>hg38:chr17:27968242-27968743         </td><td>7.739752e-05</td><td>0.6840860</td><td>0.6615207</td></tr>\n",
       "\t<tr><th scope=row>rn6:chr5:147758846-147759346:250</th><td>rn6:chr5:147758846-147759346:250     </td><td>7.966432e-05</td><td>0.6828158</td><td>0.6601597</td></tr>\n",
       "\t<tr><th scope=row>rn6:chr10:86664015-86664515:250</th><td>rn6:chr10:86664015-86664515:250      </td><td>8.114885e-05</td><td>0.6820007</td><td>0.6592865</td></tr>\n",
       "\t<tr><th scope=row>...</th><td>...</td><td>...</td><td>...</td><td>...</td></tr>\n",
       "\t<tr><th scope=row>mm10:chr14:116926789-116927290</th><td>mm10:chr14:116926789-116927290       </td><td>0.9981630</td><td>3.923881e-07</td><td>-0.07142815</td></tr>\n",
       "\t<tr><th scope=row>rn6:chr8:40014801-40015301:250</th><td>rn6:chr8:40014801-40015301:250       </td><td>0.9982532</td><td>3.547896e-07</td><td>-0.07142819</td></tr>\n",
       "\t<tr><th scope=row>rn6:chr13:44851420-44851920:250</th><td>rn6:chr13:44851420-44851920:250      </td><td>0.9983342</td><td>3.226638e-07</td><td>-0.07142823</td></tr>\n",
       "\t<tr><th scope=row>mm10:chr12:83487602-83488103</th><td>mm10:chr12:83487602-83488103         </td><td>0.9983652</td><td>3.107657e-07</td><td>-0.07142824</td></tr>\n",
       "\t<tr><th scope=row>rn6:chr13:49851675-49852175:250</th><td>rn6:chr13:49851675-49852175:250      </td><td>0.9983902</td><td>3.013165e-07</td><td>-0.07142825</td></tr>\n",
       "\t<tr><th scope=row>rn6:chr2:2458105-2458605:250</th><td>rn6:chr2:2458105-2458605:250         </td><td>0.9984357</td><td>2.845249e-07</td><td>-0.07142827</td></tr>\n",
       "\t<tr><th scope=row>rheMac10:chrX:119948418-119948918:250</th><td>rheMac10:chrX:119948418-119948918:250</td><td>0.9984653</td><td>2.738729e-07</td><td>-0.07142828</td></tr>\n",
       "\t<tr><th scope=row>rheMac10:chr7:37322513-37323013:250</th><td>rheMac10:chr7:37322513-37323013:250  </td><td>0.9984793</td><td>2.689071e-07</td><td>-0.07142828</td></tr>\n",
       "\t<tr><th scope=row>rheMac10:chr19:47533443-47533943:250</th><td>rheMac10:chr19:47533443-47533943:250 </td><td>0.9985078</td><td>2.588970e-07</td><td>-0.07142829</td></tr>\n",
       "\t<tr><th scope=row>rn6:chr8:30148540-30149040:250</th><td>rn6:chr8:30148540-30149040:250       </td><td>0.9985095</td><td>2.583065e-07</td><td>-0.07142829</td></tr>\n",
       "\t<tr><th scope=row>rheMac10:chr11:42162532-42163032:250</th><td>rheMac10:chr11:42162532-42163032:250 </td><td>0.9985291</td><td>2.515768e-07</td><td>-0.07142830</td></tr>\n",
       "\t<tr><th scope=row>rn6:chr10:45635395-45635895:250</th><td>rn6:chr10:45635395-45635895:250      </td><td>0.9986086</td><td>2.251092e-07</td><td>-0.07142833</td></tr>\n",
       "\t<tr><th scope=row>hg38:chr3:174439616-174440117</th><td>hg38:chr3:174439616-174440117        </td><td>0.9986245</td><td>2.199862e-07</td><td>-0.07142834</td></tr>\n",
       "\t<tr><th scope=row>rheMac10:chr6:44485530-44486030:250</th><td>rheMac10:chr6:44485530-44486030:250  </td><td>0.9987283</td><td>1.880470e-07</td><td>-0.07142837</td></tr>\n",
       "\t<tr><th scope=row>rn6:chr18:29247739-29248239:250</th><td>rn6:chr18:29247739-29248239:250      </td><td>0.9987787</td><td>1.734363e-07</td><td>-0.07142839</td></tr>\n",
       "\t<tr><th scope=row>rheMac10:chr20:22601219-22601719:250</th><td>rheMac10:chr20:22601219-22601719:250 </td><td>0.9987855</td><td>1.715017e-07</td><td>-0.07142839</td></tr>\n",
       "\t<tr><th scope=row>rn6:chr6:107661438-107661938:250</th><td>rn6:chr6:107661438-107661938:250     </td><td>0.9988284</td><td>1.596046e-07</td><td>-0.07142840</td></tr>\n",
       "\t<tr><th scope=row>hg38:chr6:148512954-148513455</th><td>hg38:chr6:148512954-148513455        </td><td>0.9988424</td><td>1.558268e-07</td><td>-0.07142840</td></tr>\n",
       "\t<tr><th scope=row>hg38:chr15:45200226-45200727</th><td>hg38:chr15:45200226-45200727         </td><td>0.9988854</td><td>1.444529e-07</td><td>-0.07142842</td></tr>\n",
       "\t<tr><th scope=row>hg38:chr4:17094604-17095105</th><td>hg38:chr4:17094604-17095105          </td><td>0.9989534</td><td>1.273702e-07</td><td>-0.07142843</td></tr>\n",
       "\t<tr><th scope=row>rheMac10:chr9:24724116-24724616:250</th><td>rheMac10:chr9:24724116-24724616:250  </td><td>0.9989560</td><td>1.267343e-07</td><td>-0.07142844</td></tr>\n",
       "\t<tr><th scope=row>rn6:chr8:125481310-125481810:250</th><td>rn6:chr8:125481310-125481810:250     </td><td>0.9991314</td><td>8.772116e-08</td><td>-0.07142848</td></tr>\n",
       "\t<tr><th scope=row>mm10:chr11:95309481-95309982</th><td>mm10:chr11:95309481-95309982         </td><td>0.9992427</td><td>6.669329e-08</td><td>-0.07142850</td></tr>\n",
       "\t<tr><th scope=row>hg38:chr9:11319421-11319922</th><td>hg38:chr9:11319421-11319922          </td><td>0.9992559</td><td>6.438752e-08</td><td>-0.07142850</td></tr>\n",
       "\t<tr><th scope=row>rn6:chr17:40325215-40325715:250</th><td>rn6:chr17:40325215-40325715:250      </td><td>0.9992985</td><td>5.721764e-08</td><td>-0.07142851</td></tr>\n",
       "\t<tr><th scope=row>hg38:chr3:115404740-115405241</th><td>hg38:chr3:115404740-115405241        </td><td>0.9994400</td><td>3.646118e-08</td><td>-0.07142853</td></tr>\n",
       "\t<tr><th scope=row>hg38:chr2:97663959-97664460</th><td>hg38:chr2:97663959-97664460          </td><td>0.9995158</td><td>2.725855e-08</td><td>-0.07142854</td></tr>\n",
       "\t<tr><th scope=row>rheMac10:chr10:84536753-84537253:250</th><td>rheMac10:chr10:84536753-84537253:250 </td><td>0.9995741</td><td>2.108667e-08</td><td>-0.07142855</td></tr>\n",
       "\t<tr><th scope=row>mm10:chr13:83126390-83126891</th><td>mm10:chr13:83126390-83126891         </td><td>0.9996182</td><td>1.694589e-08</td><td>-0.07142855</td></tr>\n",
       "\t<tr><th scope=row>rn6:chr3:148931504-148932004:250</th><td>rn6:chr3:148931504-148932004:250     </td><td>0.9999760</td><td>6.699959e-11</td><td>-0.07142857</td></tr>\n",
       "</tbody>\n",
       "</table>\n"
      ],
      "text/latex": [
       "A data.frame: 26569 x 4\n",
       "\\begin{tabular}{r|llll}\n",
       "  & peakId & pvalue & correlation & adjCorrelation\\\\\n",
       "  & <chr> & <dbl> & <dbl> & <dbl>\\\\\n",
       "\\hline\n",
       "\trn6:chr9:82649262-82649762:250 & rn6:chr9:82649262-82649762:250        & 2.076689e-07 & 0.8624892 & 0.8526670\\\\\n",
       "\trn6:chr18:27659000-27659500:250 & rn6:chr18:27659000-27659500:250       & 6.005609e-07 & 0.8402198 & 0.8288069\\\\\n",
       "\trheMac10:chr1:123650393-123650893:250 & rheMac10:chr1:123650393-123650893:250 & 1.481245e-06 & 0.8185165 & 0.8055534\\\\\n",
       "\trn6:chr18:69550621-69551121:250 & rn6:chr18:69550621-69551121:250       & 1.798091e-06 & 0.8134909 & 0.8001688\\\\\n",
       "\tmm10:chr2:142647883-142648384 & mm10:chr2:142647883-142648384         & 2.366027e-06 & 0.8061396 & 0.7922924\\\\\n",
       "\trn6:chr2:211226830-211227330:250 & rn6:chr2:211226830-211227330:250      & 4.366673e-06 & 0.7886859 & 0.7735920\\\\\n",
       "\tmm10:chr2:65929897-65930398 & mm10:chr2:65929897-65930398           & 5.863154e-06 & 0.7797527 & 0.7640207\\\\\n",
       "\trheMac10:chr14:69380993-69381493:250 & rheMac10:chr14:69380993-69381493:250  & 7.010794e-06 & 0.7741545 & 0.7580227\\\\\n",
       "\trn6:chr9:82647113-82647613:250 & rn6:chr9:82647113-82647613:250        & 7.608047e-06 & 0.7715481 & 0.7552301\\\\\n",
       "\trheMac10:chr8:26842836-26843336:250 & rheMac10:chr8:26842836-26843336:250   & 7.879535e-06 & 0.7704213 & 0.7540228\\\\\n",
       "\trn6:chr14:108926203-108926703:250 & rn6:chr14:108926203-108926703:250     & 1.034499e-05 & 0.7614858 & 0.7444491\\\\\n",
       "\thg38:chr3:113745581-113746082 & hg38:chr3:113745581-113746082         & 1.038275e-05 & 0.7613639 & 0.7443185\\\\\n",
       "\trn6:chr1:219582405-219582905:250 & rn6:chr1:219582405-219582905:250      & 1.224277e-05 & 0.7557882 & 0.7383445\\\\\n",
       "\trn6:chr9:68015857-68016357:250 & rn6:chr9:68015857-68016357:250        & 1.462134e-05 & 0.7496387 & 0.7317557\\\\\n",
       "\trn6:chr10:9390401-9390901:250 & rn6:chr10:9390401-9390901:250         & 1.588298e-05 & 0.7467206 & 0.7286292\\\\\n",
       "\trn6:chr3:147115056-147115556:250 & rn6:chr3:147115056-147115556:250      & 1.729844e-05 & 0.7436761 & 0.7253673\\\\\n",
       "\thg38:chr4:26839413-26839914 & hg38:chr4:26839413-26839914           & 2.062212e-05 & 0.7372959 & 0.7185314\\\\\n",
       "\trheMac10:chr3:37286911-37287411:250 & rheMac10:chr3:37286911-37287411:250   & 2.176910e-05 & 0.7353000 & 0.7163929\\\\\n",
       "\trn6:chr3:45209805-45210305:250 & rn6:chr3:45209805-45210305:250        & 2.549436e-05 & 0.7293905 & 0.7100612\\\\\n",
       "\trn6:chr16:55141111-55141611:250 & rn6:chr16:55141111-55141611:250       & 3.283941e-05 & 0.7196511 & 0.6996262\\\\\n",
       "\trheMac10:chr7:163473275-163473775:250 & rheMac10:chr7:163473275-163473775:250 & 3.627997e-05 & 0.7157257 & 0.6954204\\\\\n",
       "\trheMac10:chr11:53974019-53974519:250 & rheMac10:chr11:53974019-53974519:250  & 3.665920e-05 & 0.7153130 & 0.6949782\\\\\n",
       "\trn6:chr18:60719421-60719921:250 & rn6:chr18:60719421-60719921:250       & 4.389961e-05 & 0.7080661 & 0.6872137\\\\\n",
       "\trheMac10:chr9:116570477-116570977:250 & rheMac10:chr9:116570477-116570977:250 & 4.543514e-05 & 0.7066637 & 0.6857111\\\\\n",
       "\trheMac10:chr3:28871981-28872481:250 & rheMac10:chr3:28871981-28872481:250   & 5.368416e-05 & 0.6997653 & 0.6783200\\\\\n",
       "\trn6:chr4:168640080-168640580:250 & rn6:chr4:168640080-168640580:250      & 5.985574e-05 & 0.6951816 & 0.6734089\\\\\n",
       "\trheMac10:chr3:154492104-154492604:250 & rheMac10:chr3:154492104-154492604:250 & 6.003874e-05 & 0.6950521 & 0.6732701\\\\\n",
       "\thg38:chr17:27968242-27968743 & hg38:chr17:27968242-27968743          & 7.739752e-05 & 0.6840860 & 0.6615207\\\\\n",
       "\trn6:chr5:147758846-147759346:250 & rn6:chr5:147758846-147759346:250      & 7.966432e-05 & 0.6828158 & 0.6601597\\\\\n",
       "\trn6:chr10:86664015-86664515:250 & rn6:chr10:86664015-86664515:250       & 8.114885e-05 & 0.6820007 & 0.6592865\\\\\n",
       "\t... & ... & ... & ... & ...\\\\\n",
       "\tmm10:chr14:116926789-116927290 & mm10:chr14:116926789-116927290        & 0.9981630 & 3.923881e-07 & -0.07142815\\\\\n",
       "\trn6:chr8:40014801-40015301:250 & rn6:chr8:40014801-40015301:250        & 0.9982532 & 3.547896e-07 & -0.07142819\\\\\n",
       "\trn6:chr13:44851420-44851920:250 & rn6:chr13:44851420-44851920:250       & 0.9983342 & 3.226638e-07 & -0.07142823\\\\\n",
       "\tmm10:chr12:83487602-83488103 & mm10:chr12:83487602-83488103          & 0.9983652 & 3.107657e-07 & -0.07142824\\\\\n",
       "\trn6:chr13:49851675-49852175:250 & rn6:chr13:49851675-49852175:250       & 0.9983902 & 3.013165e-07 & -0.07142825\\\\\n",
       "\trn6:chr2:2458105-2458605:250 & rn6:chr2:2458105-2458605:250          & 0.9984357 & 2.845249e-07 & -0.07142827\\\\\n",
       "\trheMac10:chrX:119948418-119948918:250 & rheMac10:chrX:119948418-119948918:250 & 0.9984653 & 2.738729e-07 & -0.07142828\\\\\n",
       "\trheMac10:chr7:37322513-37323013:250 & rheMac10:chr7:37322513-37323013:250   & 0.9984793 & 2.689071e-07 & -0.07142828\\\\\n",
       "\trheMac10:chr19:47533443-47533943:250 & rheMac10:chr19:47533443-47533943:250  & 0.9985078 & 2.588970e-07 & -0.07142829\\\\\n",
       "\trn6:chr8:30148540-30149040:250 & rn6:chr8:30148540-30149040:250        & 0.9985095 & 2.583065e-07 & -0.07142829\\\\\n",
       "\trheMac10:chr11:42162532-42163032:250 & rheMac10:chr11:42162532-42163032:250  & 0.9985291 & 2.515768e-07 & -0.07142830\\\\\n",
       "\trn6:chr10:45635395-45635895:250 & rn6:chr10:45635395-45635895:250       & 0.9986086 & 2.251092e-07 & -0.07142833\\\\\n",
       "\thg38:chr3:174439616-174440117 & hg38:chr3:174439616-174440117         & 0.9986245 & 2.199862e-07 & -0.07142834\\\\\n",
       "\trheMac10:chr6:44485530-44486030:250 & rheMac10:chr6:44485530-44486030:250   & 0.9987283 & 1.880470e-07 & -0.07142837\\\\\n",
       "\trn6:chr18:29247739-29248239:250 & rn6:chr18:29247739-29248239:250       & 0.9987787 & 1.734363e-07 & -0.07142839\\\\\n",
       "\trheMac10:chr20:22601219-22601719:250 & rheMac10:chr20:22601219-22601719:250  & 0.9987855 & 1.715017e-07 & -0.07142839\\\\\n",
       "\trn6:chr6:107661438-107661938:250 & rn6:chr6:107661438-107661938:250      & 0.9988284 & 1.596046e-07 & -0.07142840\\\\\n",
       "\thg38:chr6:148512954-148513455 & hg38:chr6:148512954-148513455         & 0.9988424 & 1.558268e-07 & -0.07142840\\\\\n",
       "\thg38:chr15:45200226-45200727 & hg38:chr15:45200226-45200727          & 0.9988854 & 1.444529e-07 & -0.07142842\\\\\n",
       "\thg38:chr4:17094604-17095105 & hg38:chr4:17094604-17095105           & 0.9989534 & 1.273702e-07 & -0.07142843\\\\\n",
       "\trheMac10:chr9:24724116-24724616:250 & rheMac10:chr9:24724116-24724616:250   & 0.9989560 & 1.267343e-07 & -0.07142844\\\\\n",
       "\trn6:chr8:125481310-125481810:250 & rn6:chr8:125481310-125481810:250      & 0.9991314 & 8.772116e-08 & -0.07142848\\\\\n",
       "\tmm10:chr11:95309481-95309982 & mm10:chr11:95309481-95309982          & 0.9992427 & 6.669329e-08 & -0.07142850\\\\\n",
       "\thg38:chr9:11319421-11319922 & hg38:chr9:11319421-11319922           & 0.9992559 & 6.438752e-08 & -0.07142850\\\\\n",
       "\trn6:chr17:40325215-40325715:250 & rn6:chr17:40325215-40325715:250       & 0.9992985 & 5.721764e-08 & -0.07142851\\\\\n",
       "\thg38:chr3:115404740-115405241 & hg38:chr3:115404740-115405241         & 0.9994400 & 3.646118e-08 & -0.07142853\\\\\n",
       "\thg38:chr2:97663959-97664460 & hg38:chr2:97663959-97664460           & 0.9995158 & 2.725855e-08 & -0.07142854\\\\\n",
       "\trheMac10:chr10:84536753-84537253:250 & rheMac10:chr10:84536753-84537253:250  & 0.9995741 & 2.108667e-08 & -0.07142855\\\\\n",
       "\tmm10:chr13:83126390-83126891 & mm10:chr13:83126390-83126891          & 0.9996182 & 1.694589e-08 & -0.07142855\\\\\n",
       "\trn6:chr3:148931504-148932004:250 & rn6:chr3:148931504-148932004:250      & 0.9999760 & 6.699959e-11 & -0.07142857\\\\\n",
       "\\end{tabular}\n"
      ],
      "text/markdown": [
       "\n",
       "A data.frame: 26569 x 4\n",
       "\n",
       "| <!--/--> | peakId &lt;chr&gt; | pvalue &lt;dbl&gt; | correlation &lt;dbl&gt; | adjCorrelation &lt;dbl&gt; |\n",
       "|---|---|---|---|---|\n",
       "| rn6:chr9:82649262-82649762:250 | rn6:chr9:82649262-82649762:250        | 2.076689e-07 | 0.8624892 | 0.8526670 |\n",
       "| rn6:chr18:27659000-27659500:250 | rn6:chr18:27659000-27659500:250       | 6.005609e-07 | 0.8402198 | 0.8288069 |\n",
       "| rheMac10:chr1:123650393-123650893:250 | rheMac10:chr1:123650393-123650893:250 | 1.481245e-06 | 0.8185165 | 0.8055534 |\n",
       "| rn6:chr18:69550621-69551121:250 | rn6:chr18:69550621-69551121:250       | 1.798091e-06 | 0.8134909 | 0.8001688 |\n",
       "| mm10:chr2:142647883-142648384 | mm10:chr2:142647883-142648384         | 2.366027e-06 | 0.8061396 | 0.7922924 |\n",
       "| rn6:chr2:211226830-211227330:250 | rn6:chr2:211226830-211227330:250      | 4.366673e-06 | 0.7886859 | 0.7735920 |\n",
       "| mm10:chr2:65929897-65930398 | mm10:chr2:65929897-65930398           | 5.863154e-06 | 0.7797527 | 0.7640207 |\n",
       "| rheMac10:chr14:69380993-69381493:250 | rheMac10:chr14:69380993-69381493:250  | 7.010794e-06 | 0.7741545 | 0.7580227 |\n",
       "| rn6:chr9:82647113-82647613:250 | rn6:chr9:82647113-82647613:250        | 7.608047e-06 | 0.7715481 | 0.7552301 |\n",
       "| rheMac10:chr8:26842836-26843336:250 | rheMac10:chr8:26842836-26843336:250   | 7.879535e-06 | 0.7704213 | 0.7540228 |\n",
       "| rn6:chr14:108926203-108926703:250 | rn6:chr14:108926203-108926703:250     | 1.034499e-05 | 0.7614858 | 0.7444491 |\n",
       "| hg38:chr3:113745581-113746082 | hg38:chr3:113745581-113746082         | 1.038275e-05 | 0.7613639 | 0.7443185 |\n",
       "| rn6:chr1:219582405-219582905:250 | rn6:chr1:219582405-219582905:250      | 1.224277e-05 | 0.7557882 | 0.7383445 |\n",
       "| rn6:chr9:68015857-68016357:250 | rn6:chr9:68015857-68016357:250        | 1.462134e-05 | 0.7496387 | 0.7317557 |\n",
       "| rn6:chr10:9390401-9390901:250 | rn6:chr10:9390401-9390901:250         | 1.588298e-05 | 0.7467206 | 0.7286292 |\n",
       "| rn6:chr3:147115056-147115556:250 | rn6:chr3:147115056-147115556:250      | 1.729844e-05 | 0.7436761 | 0.7253673 |\n",
       "| hg38:chr4:26839413-26839914 | hg38:chr4:26839413-26839914           | 2.062212e-05 | 0.7372959 | 0.7185314 |\n",
       "| rheMac10:chr3:37286911-37287411:250 | rheMac10:chr3:37286911-37287411:250   | 2.176910e-05 | 0.7353000 | 0.7163929 |\n",
       "| rn6:chr3:45209805-45210305:250 | rn6:chr3:45209805-45210305:250        | 2.549436e-05 | 0.7293905 | 0.7100612 |\n",
       "| rn6:chr16:55141111-55141611:250 | rn6:chr16:55141111-55141611:250       | 3.283941e-05 | 0.7196511 | 0.6996262 |\n",
       "| rheMac10:chr7:163473275-163473775:250 | rheMac10:chr7:163473275-163473775:250 | 3.627997e-05 | 0.7157257 | 0.6954204 |\n",
       "| rheMac10:chr11:53974019-53974519:250 | rheMac10:chr11:53974019-53974519:250  | 3.665920e-05 | 0.7153130 | 0.6949782 |\n",
       "| rn6:chr18:60719421-60719921:250 | rn6:chr18:60719421-60719921:250       | 4.389961e-05 | 0.7080661 | 0.6872137 |\n",
       "| rheMac10:chr9:116570477-116570977:250 | rheMac10:chr9:116570477-116570977:250 | 4.543514e-05 | 0.7066637 | 0.6857111 |\n",
       "| rheMac10:chr3:28871981-28872481:250 | rheMac10:chr3:28871981-28872481:250   | 5.368416e-05 | 0.6997653 | 0.6783200 |\n",
       "| rn6:chr4:168640080-168640580:250 | rn6:chr4:168640080-168640580:250      | 5.985574e-05 | 0.6951816 | 0.6734089 |\n",
       "| rheMac10:chr3:154492104-154492604:250 | rheMac10:chr3:154492104-154492604:250 | 6.003874e-05 | 0.6950521 | 0.6732701 |\n",
       "| hg38:chr17:27968242-27968743 | hg38:chr17:27968242-27968743          | 7.739752e-05 | 0.6840860 | 0.6615207 |\n",
       "| rn6:chr5:147758846-147759346:250 | rn6:chr5:147758846-147759346:250      | 7.966432e-05 | 0.6828158 | 0.6601597 |\n",
       "| rn6:chr10:86664015-86664515:250 | rn6:chr10:86664015-86664515:250       | 8.114885e-05 | 0.6820007 | 0.6592865 |\n",
       "| ... | ... | ... | ... | ... |\n",
       "| mm10:chr14:116926789-116927290 | mm10:chr14:116926789-116927290        | 0.9981630 | 3.923881e-07 | -0.07142815 |\n",
       "| rn6:chr8:40014801-40015301:250 | rn6:chr8:40014801-40015301:250        | 0.9982532 | 3.547896e-07 | -0.07142819 |\n",
       "| rn6:chr13:44851420-44851920:250 | rn6:chr13:44851420-44851920:250       | 0.9983342 | 3.226638e-07 | -0.07142823 |\n",
       "| mm10:chr12:83487602-83488103 | mm10:chr12:83487602-83488103          | 0.9983652 | 3.107657e-07 | -0.07142824 |\n",
       "| rn6:chr13:49851675-49852175:250 | rn6:chr13:49851675-49852175:250       | 0.9983902 | 3.013165e-07 | -0.07142825 |\n",
       "| rn6:chr2:2458105-2458605:250 | rn6:chr2:2458105-2458605:250          | 0.9984357 | 2.845249e-07 | -0.07142827 |\n",
       "| rheMac10:chrX:119948418-119948918:250 | rheMac10:chrX:119948418-119948918:250 | 0.9984653 | 2.738729e-07 | -0.07142828 |\n",
       "| rheMac10:chr7:37322513-37323013:250 | rheMac10:chr7:37322513-37323013:250   | 0.9984793 | 2.689071e-07 | -0.07142828 |\n",
       "| rheMac10:chr19:47533443-47533943:250 | rheMac10:chr19:47533443-47533943:250  | 0.9985078 | 2.588970e-07 | -0.07142829 |\n",
       "| rn6:chr8:30148540-30149040:250 | rn6:chr8:30148540-30149040:250        | 0.9985095 | 2.583065e-07 | -0.07142829 |\n",
       "| rheMac10:chr11:42162532-42163032:250 | rheMac10:chr11:42162532-42163032:250  | 0.9985291 | 2.515768e-07 | -0.07142830 |\n",
       "| rn6:chr10:45635395-45635895:250 | rn6:chr10:45635395-45635895:250       | 0.9986086 | 2.251092e-07 | -0.07142833 |\n",
       "| hg38:chr3:174439616-174440117 | hg38:chr3:174439616-174440117         | 0.9986245 | 2.199862e-07 | -0.07142834 |\n",
       "| rheMac10:chr6:44485530-44486030:250 | rheMac10:chr6:44485530-44486030:250   | 0.9987283 | 1.880470e-07 | -0.07142837 |\n",
       "| rn6:chr18:29247739-29248239:250 | rn6:chr18:29247739-29248239:250       | 0.9987787 | 1.734363e-07 | -0.07142839 |\n",
       "| rheMac10:chr20:22601219-22601719:250 | rheMac10:chr20:22601219-22601719:250  | 0.9987855 | 1.715017e-07 | -0.07142839 |\n",
       "| rn6:chr6:107661438-107661938:250 | rn6:chr6:107661438-107661938:250      | 0.9988284 | 1.596046e-07 | -0.07142840 |\n",
       "| hg38:chr6:148512954-148513455 | hg38:chr6:148512954-148513455         | 0.9988424 | 1.558268e-07 | -0.07142840 |\n",
       "| hg38:chr15:45200226-45200727 | hg38:chr15:45200226-45200727          | 0.9988854 | 1.444529e-07 | -0.07142842 |\n",
       "| hg38:chr4:17094604-17095105 | hg38:chr4:17094604-17095105           | 0.9989534 | 1.273702e-07 | -0.07142843 |\n",
       "| rheMac10:chr9:24724116-24724616:250 | rheMac10:chr9:24724116-24724616:250   | 0.9989560 | 1.267343e-07 | -0.07142844 |\n",
       "| rn6:chr8:125481310-125481810:250 | rn6:chr8:125481310-125481810:250      | 0.9991314 | 8.772116e-08 | -0.07142848 |\n",
       "| mm10:chr11:95309481-95309982 | mm10:chr11:95309481-95309982          | 0.9992427 | 6.669329e-08 | -0.07142850 |\n",
       "| hg38:chr9:11319421-11319922 | hg38:chr9:11319421-11319922           | 0.9992559 | 6.438752e-08 | -0.07142850 |\n",
       "| rn6:chr17:40325215-40325715:250 | rn6:chr17:40325215-40325715:250       | 0.9992985 | 5.721764e-08 | -0.07142851 |\n",
       "| hg38:chr3:115404740-115405241 | hg38:chr3:115404740-115405241         | 0.9994400 | 3.646118e-08 | -0.07142853 |\n",
       "| hg38:chr2:97663959-97664460 | hg38:chr2:97663959-97664460           | 0.9995158 | 2.725855e-08 | -0.07142854 |\n",
       "| rheMac10:chr10:84536753-84537253:250 | rheMac10:chr10:84536753-84537253:250  | 0.9995741 | 2.108667e-08 | -0.07142855 |\n",
       "| mm10:chr13:83126390-83126891 | mm10:chr13:83126390-83126891          | 0.9996182 | 1.694589e-08 | -0.07142855 |\n",
       "| rn6:chr3:148931504-148932004:250 | rn6:chr3:148931504-148932004:250      | 0.9999760 | 6.699959e-11 | -0.07142857 |\n",
       "\n"
      ],
      "text/plain": [
       "                                      peakId                               \n",
       "rn6:chr9:82649262-82649762:250        rn6:chr9:82649262-82649762:250       \n",
       "rn6:chr18:27659000-27659500:250       rn6:chr18:27659000-27659500:250      \n",
       "rheMac10:chr1:123650393-123650893:250 rheMac10:chr1:123650393-123650893:250\n",
       "rn6:chr18:69550621-69551121:250       rn6:chr18:69550621-69551121:250      \n",
       "mm10:chr2:142647883-142648384         mm10:chr2:142647883-142648384        \n",
       "rn6:chr2:211226830-211227330:250      rn6:chr2:211226830-211227330:250     \n",
       "mm10:chr2:65929897-65930398           mm10:chr2:65929897-65930398          \n",
       "rheMac10:chr14:69380993-69381493:250  rheMac10:chr14:69380993-69381493:250 \n",
       "rn6:chr9:82647113-82647613:250        rn6:chr9:82647113-82647613:250       \n",
       "rheMac10:chr8:26842836-26843336:250   rheMac10:chr8:26842836-26843336:250  \n",
       "rn6:chr14:108926203-108926703:250     rn6:chr14:108926203-108926703:250    \n",
       "hg38:chr3:113745581-113746082         hg38:chr3:113745581-113746082        \n",
       "rn6:chr1:219582405-219582905:250      rn6:chr1:219582405-219582905:250     \n",
       "rn6:chr9:68015857-68016357:250        rn6:chr9:68015857-68016357:250       \n",
       "rn6:chr10:9390401-9390901:250         rn6:chr10:9390401-9390901:250        \n",
       "rn6:chr3:147115056-147115556:250      rn6:chr3:147115056-147115556:250     \n",
       "hg38:chr4:26839413-26839914           hg38:chr4:26839413-26839914          \n",
       "rheMac10:chr3:37286911-37287411:250   rheMac10:chr3:37286911-37287411:250  \n",
       "rn6:chr3:45209805-45210305:250        rn6:chr3:45209805-45210305:250       \n",
       "rn6:chr16:55141111-55141611:250       rn6:chr16:55141111-55141611:250      \n",
       "rheMac10:chr7:163473275-163473775:250 rheMac10:chr7:163473275-163473775:250\n",
       "rheMac10:chr11:53974019-53974519:250  rheMac10:chr11:53974019-53974519:250 \n",
       "rn6:chr18:60719421-60719921:250       rn6:chr18:60719421-60719921:250      \n",
       "rheMac10:chr9:116570477-116570977:250 rheMac10:chr9:116570477-116570977:250\n",
       "rheMac10:chr3:28871981-28872481:250   rheMac10:chr3:28871981-28872481:250  \n",
       "rn6:chr4:168640080-168640580:250      rn6:chr4:168640080-168640580:250     \n",
       "rheMac10:chr3:154492104-154492604:250 rheMac10:chr3:154492104-154492604:250\n",
       "hg38:chr17:27968242-27968743          hg38:chr17:27968242-27968743         \n",
       "rn6:chr5:147758846-147759346:250      rn6:chr5:147758846-147759346:250     \n",
       "rn6:chr10:86664015-86664515:250       rn6:chr10:86664015-86664515:250      \n",
       "...                                   ...                                  \n",
       "mm10:chr14:116926789-116927290        mm10:chr14:116926789-116927290       \n",
       "rn6:chr8:40014801-40015301:250        rn6:chr8:40014801-40015301:250       \n",
       "rn6:chr13:44851420-44851920:250       rn6:chr13:44851420-44851920:250      \n",
       "mm10:chr12:83487602-83488103          mm10:chr12:83487602-83488103         \n",
       "rn6:chr13:49851675-49852175:250       rn6:chr13:49851675-49852175:250      \n",
       "rn6:chr2:2458105-2458605:250          rn6:chr2:2458105-2458605:250         \n",
       "rheMac10:chrX:119948418-119948918:250 rheMac10:chrX:119948418-119948918:250\n",
       "rheMac10:chr7:37322513-37323013:250   rheMac10:chr7:37322513-37323013:250  \n",
       "rheMac10:chr19:47533443-47533943:250  rheMac10:chr19:47533443-47533943:250 \n",
       "rn6:chr8:30148540-30149040:250        rn6:chr8:30148540-30149040:250       \n",
       "rheMac10:chr11:42162532-42163032:250  rheMac10:chr11:42162532-42163032:250 \n",
       "rn6:chr10:45635395-45635895:250       rn6:chr10:45635395-45635895:250      \n",
       "hg38:chr3:174439616-174440117         hg38:chr3:174439616-174440117        \n",
       "rheMac10:chr6:44485530-44486030:250   rheMac10:chr6:44485530-44486030:250  \n",
       "rn6:chr18:29247739-29248239:250       rn6:chr18:29247739-29248239:250      \n",
       "rheMac10:chr20:22601219-22601719:250  rheMac10:chr20:22601219-22601719:250 \n",
       "rn6:chr6:107661438-107661938:250      rn6:chr6:107661438-107661938:250     \n",
       "hg38:chr6:148512954-148513455         hg38:chr6:148512954-148513455        \n",
       "hg38:chr15:45200226-45200727          hg38:chr15:45200226-45200727         \n",
       "hg38:chr4:17094604-17095105           hg38:chr4:17094604-17095105          \n",
       "rheMac10:chr9:24724116-24724616:250   rheMac10:chr9:24724116-24724616:250  \n",
       "rn6:chr8:125481310-125481810:250      rn6:chr8:125481310-125481810:250     \n",
       "mm10:chr11:95309481-95309982          mm10:chr11:95309481-95309982         \n",
       "hg38:chr9:11319421-11319922           hg38:chr9:11319421-11319922          \n",
       "rn6:chr17:40325215-40325715:250       rn6:chr17:40325215-40325715:250      \n",
       "hg38:chr3:115404740-115405241         hg38:chr3:115404740-115405241        \n",
       "hg38:chr2:97663959-97664460           hg38:chr2:97663959-97664460          \n",
       "rheMac10:chr10:84536753-84537253:250  rheMac10:chr10:84536753-84537253:250 \n",
       "mm10:chr13:83126390-83126891          mm10:chr13:83126390-83126891         \n",
       "rn6:chr3:148931504-148932004:250      rn6:chr3:148931504-148932004:250     \n",
       "                                      pvalue       correlation  adjCorrelation\n",
       "rn6:chr9:82649262-82649762:250        2.076689e-07 0.8624892    0.8526670     \n",
       "rn6:chr18:27659000-27659500:250       6.005609e-07 0.8402198    0.8288069     \n",
       "rheMac10:chr1:123650393-123650893:250 1.481245e-06 0.8185165    0.8055534     \n",
       "rn6:chr18:69550621-69551121:250       1.798091e-06 0.8134909    0.8001688     \n",
       "mm10:chr2:142647883-142648384         2.366027e-06 0.8061396    0.7922924     \n",
       "rn6:chr2:211226830-211227330:250      4.366673e-06 0.7886859    0.7735920     \n",
       "mm10:chr2:65929897-65930398           5.863154e-06 0.7797527    0.7640207     \n",
       "rheMac10:chr14:69380993-69381493:250  7.010794e-06 0.7741545    0.7580227     \n",
       "rn6:chr9:82647113-82647613:250        7.608047e-06 0.7715481    0.7552301     \n",
       "rheMac10:chr8:26842836-26843336:250   7.879535e-06 0.7704213    0.7540228     \n",
       "rn6:chr14:108926203-108926703:250     1.034499e-05 0.7614858    0.7444491     \n",
       "hg38:chr3:113745581-113746082         1.038275e-05 0.7613639    0.7443185     \n",
       "rn6:chr1:219582405-219582905:250      1.224277e-05 0.7557882    0.7383445     \n",
       "rn6:chr9:68015857-68016357:250        1.462134e-05 0.7496387    0.7317557     \n",
       "rn6:chr10:9390401-9390901:250         1.588298e-05 0.7467206    0.7286292     \n",
       "rn6:chr3:147115056-147115556:250      1.729844e-05 0.7436761    0.7253673     \n",
       "hg38:chr4:26839413-26839914           2.062212e-05 0.7372959    0.7185314     \n",
       "rheMac10:chr3:37286911-37287411:250   2.176910e-05 0.7353000    0.7163929     \n",
       "rn6:chr3:45209805-45210305:250        2.549436e-05 0.7293905    0.7100612     \n",
       "rn6:chr16:55141111-55141611:250       3.283941e-05 0.7196511    0.6996262     \n",
       "rheMac10:chr7:163473275-163473775:250 3.627997e-05 0.7157257    0.6954204     \n",
       "rheMac10:chr11:53974019-53974519:250  3.665920e-05 0.7153130    0.6949782     \n",
       "rn6:chr18:60719421-60719921:250       4.389961e-05 0.7080661    0.6872137     \n",
       "rheMac10:chr9:116570477-116570977:250 4.543514e-05 0.7066637    0.6857111     \n",
       "rheMac10:chr3:28871981-28872481:250   5.368416e-05 0.6997653    0.6783200     \n",
       "rn6:chr4:168640080-168640580:250      5.985574e-05 0.6951816    0.6734089     \n",
       "rheMac10:chr3:154492104-154492604:250 6.003874e-05 0.6950521    0.6732701     \n",
       "hg38:chr17:27968242-27968743          7.739752e-05 0.6840860    0.6615207     \n",
       "rn6:chr5:147758846-147759346:250      7.966432e-05 0.6828158    0.6601597     \n",
       "rn6:chr10:86664015-86664515:250       8.114885e-05 0.6820007    0.6592865     \n",
       "...                                   ...          ...          ...           \n",
       "mm10:chr14:116926789-116927290        0.9981630    3.923881e-07 -0.07142815   \n",
       "rn6:chr8:40014801-40015301:250        0.9982532    3.547896e-07 -0.07142819   \n",
       "rn6:chr13:44851420-44851920:250       0.9983342    3.226638e-07 -0.07142823   \n",
       "mm10:chr12:83487602-83488103          0.9983652    3.107657e-07 -0.07142824   \n",
       "rn6:chr13:49851675-49852175:250       0.9983902    3.013165e-07 -0.07142825   \n",
       "rn6:chr2:2458105-2458605:250          0.9984357    2.845249e-07 -0.07142827   \n",
       "rheMac10:chrX:119948418-119948918:250 0.9984653    2.738729e-07 -0.07142828   \n",
       "rheMac10:chr7:37322513-37323013:250   0.9984793    2.689071e-07 -0.07142828   \n",
       "rheMac10:chr19:47533443-47533943:250  0.9985078    2.588970e-07 -0.07142829   \n",
       "rn6:chr8:30148540-30149040:250        0.9985095    2.583065e-07 -0.07142829   \n",
       "rheMac10:chr11:42162532-42163032:250  0.9985291    2.515768e-07 -0.07142830   \n",
       "rn6:chr10:45635395-45635895:250       0.9986086    2.251092e-07 -0.07142833   \n",
       "hg38:chr3:174439616-174440117         0.9986245    2.199862e-07 -0.07142834   \n",
       "rheMac10:chr6:44485530-44486030:250   0.9987283    1.880470e-07 -0.07142837   \n",
       "rn6:chr18:29247739-29248239:250       0.9987787    1.734363e-07 -0.07142839   \n",
       "rheMac10:chr20:22601219-22601719:250  0.9987855    1.715017e-07 -0.07142839   \n",
       "rn6:chr6:107661438-107661938:250      0.9988284    1.596046e-07 -0.07142840   \n",
       "hg38:chr6:148512954-148513455         0.9988424    1.558268e-07 -0.07142840   \n",
       "hg38:chr15:45200226-45200727          0.9988854    1.444529e-07 -0.07142842   \n",
       "hg38:chr4:17094604-17095105           0.9989534    1.273702e-07 -0.07142843   \n",
       "rheMac10:chr9:24724116-24724616:250   0.9989560    1.267343e-07 -0.07142844   \n",
       "rn6:chr8:125481310-125481810:250      0.9991314    8.772116e-08 -0.07142848   \n",
       "mm10:chr11:95309481-95309982          0.9992427    6.669329e-08 -0.07142850   \n",
       "hg38:chr9:11319421-11319922           0.9992559    6.438752e-08 -0.07142850   \n",
       "rn6:chr17:40325215-40325715:250       0.9992985    5.721764e-08 -0.07142851   \n",
       "hg38:chr3:115404740-115405241         0.9994400    3.646118e-08 -0.07142853   \n",
       "hg38:chr2:97663959-97664460           0.9995158    2.725855e-08 -0.07142854   \n",
       "rheMac10:chr10:84536753-84537253:250  0.9995741    2.108667e-08 -0.07142855   \n",
       "mm10:chr13:83126390-83126891          0.9996182    1.694589e-08 -0.07142855   \n",
       "rn6:chr3:148931504-148932004:250      0.9999760    6.699959e-11 -0.07142857   "
      ]
     },
     "metadata": {},
     "output_type": "display_data"
    }
   ],
   "source": [
    "peakPhyloResults2F"
   ]
  },
  {
   "cell_type": "code",
   "execution_count": 11,
   "metadata": {
    "vscode": {
     "languageId": "r"
    }
   },
   "outputs": [
    {
     "data": {
      "image/png": "[encoded data removed]",
      "text/plain": [
       "Plot with title \"P-values Distribution\""
      ]
     },
     "metadata": {
      "image/png": {
       "height": 420,
       "width": 420
      }
     },
     "output_type": "display_data"
    },
    {
     "data": {
      "image/png": "[encoded data removed]",
      "text/plain": [
       "Plot with title \"Correlations Distribution\""
      ]
     },
     "metadata": {
      "image/png": {
       "height": 420,
       "width": 420
      }
     },
     "output_type": "display_data"
    }
   ],
   "source": [
    "hist(peakPhyloResults2F$pvalue, main = \"P-values Distribution\", xlab = \"P-value\")\n",
    "hist(peakPhyloResults2F$adjCorrelation, main = \"Correlations Distribution\", xlab = \"Correlation\")"
   ]
  },
  {
   "cell_type": "markdown",
   "metadata": {},
   "source": [
    "What do those histograms tell you about the statistical tests you conduct?"
   ]
  },
  {
   "cell_type": "code",
   "execution_count": 12,
   "metadata": {
    "vscode": {
     "languageId": "r"
    }
   },
   "outputs": [],
   "source": [
    "#add multiple testing correction\n",
    "peakPhyloResults2F$adjPvalue <- p.adjust(peakPhyloResults2F$pvalue,method=\"BH\")"
   ]
  },
  {
   "cell_type": "code",
   "execution_count": 13,
   "metadata": {
    "vscode": {
     "languageId": "r"
    }
   },
   "outputs": [
    {
     "name": "stderr",
     "output_type": "stream",
     "text": [
      "\n",
      "Attaching package: 'dplyr'\n",
      "\n",
      "\n",
      "The following object is masked from 'package:ape':\n",
      "\n",
      "    where\n",
      "\n",
      "\n",
      "The following objects are masked from 'package:stats':\n",
      "\n",
      "    filter, lag\n",
      "\n",
      "\n",
      "The following objects are masked from 'package:base':\n",
      "\n",
      "    intersect, setdiff, setequal, union\n",
      "\n",
      "\n"
     ]
    }
   ],
   "source": [
    "library(dplyr)\n",
    "peakPhyloResultsFiltered2F <- peakPhyloResults2F %>% filter(grepl(\"hg38\", peakId))"
   ]
  },
  {
   "cell_type": "code",
   "execution_count": 16,
   "metadata": {
    "vscode": {
     "languageId": "r"
    }
   },
   "outputs": [],
   "source": [
    "# Load the necessary libraries\n",
    "library(dplyr)\n",
    "library(tidyr)\n",
    "# Split the peakId into separate columns for chrom, start, and end using tidyr::separate\n",
    "Allpeaks <- peakPhyloResultsFiltered2F %>%\n",
    "  separate(peakId, into = c(\"genome\", \"chrom\", \"position\"), sep = \":\") %>%\n",
    "  separate(position, into = c(\"start\", \"end\"), sep = \"-\", convert = TRUE)\n",
    "\n",
    "# Create the BED file format (chrom, start, end)\n",
    "bed_Allpeaks <- Allpeaks  %>%\n",
    "  select(chrom, start, end)\n",
    "\n",
    "write.table(bed_Allpeaks, \"Results/L23IT/All.bed\", sep = \"\\t\", row.names = FALSE, col.names = FALSE, quote = FALSE)"
   ]
  },
  {
   "cell_type": "code",
   "execution_count": 17,
   "metadata": {
    "vscode": {
     "languageId": "r"
    }
   },
   "outputs": [],
   "source": [
    "peakPhyloResultsFilteredPositiveF <- peakPhyloResultsFiltered2F %>% filter(adjCorrelation>0)\n",
    "peakPhyloResultsFilteredNegativeF <- peakPhyloResultsFiltered2F %>% filter(adjCorrelation<0)\n",
    "\n",
    "write.csv(peakPhyloResultsFilteredPositiveF, file = \"Results/L23IT/PhyloResultsHg38Positive.csv\",row.names = FALSE)\n",
    "write.csv(peakPhyloResultsFilteredNegativeF, file = \"Results/L23IT/PhyloResultsHg38Negative.csv\",row.names = FALSE)"
   ]
  },
  {
   "cell_type": "code",
   "execution_count": 18,
   "metadata": {
    "vscode": {
     "languageId": "r"
    }
   },
   "outputs": [],
   "source": [
    "top200Positive <- peakPhyloResultsFilteredPositiveF[1:200,]\n",
    "top200Negative <- peakPhyloResultsFilteredNegativeF[1:200,]"
   ]
  },
  {
   "cell_type": "code",
   "execution_count": 19,
   "metadata": {
    "vscode": {
     "languageId": "r"
    }
   },
   "outputs": [],
   "source": [
    "# Load the necessary libraries\n",
    "library(dplyr)\n",
    "library(tidyr)\n",
    "\n",
    "# Split the peakId into separate columns for chrom, start, and end using tidyr::separate\n",
    "top200PositiveBed <- top200Positive %>%\n",
    "  separate(peakId, into = c(\"genome\", \"chrom\", \"position\"), sep = \":\") %>%\n",
    "  separate(position, into = c(\"start\", \"end\"), sep = \"-\", convert = TRUE)\n",
    "\n",
    "# Create the BED file format (chrom, start, end)\n",
    "bed_data_pos <- top200PositiveBed  %>%\n",
    "  select(chrom, start, end)\n",
    "\n",
    "write.table(bed_data_pos, \"Results/L23IT/Top200Pos.bed\", sep = \"\\t\", row.names = FALSE, col.names = FALSE, quote = FALSE)"
   ]
  },
  {
   "cell_type": "code",
   "execution_count": 20,
   "metadata": {
    "vscode": {
     "languageId": "r"
    }
   },
   "outputs": [],
   "source": [
    "# Split the peakId into separate columns for chrom, start, and end using tidyr::separate\n",
    "top200NegativeBed <- top200Negative %>%\n",
    "  separate(peakId, into = c(\"genome\", \"chrom\", \"position\"), sep = \":\") %>%\n",
    "  separate(position, into = c(\"start\", \"end\"), sep = \"-\", convert = TRUE)\n",
    "\n",
    "# Create the BED file format (chrom, start, end)\n",
    "bed_data_neg <- top200NegativeBed  %>%\n",
    "  select(chrom, start, end)\n",
    "\n",
    "write.table(bed_data_neg, \"Results/L23IT/Top200Neg.bed\", sep = \"\\t\", row.names = FALSE, col.names = FALSE, quote = FALSE)"
   ]
  }
 ],
 "metadata": {
  "kernelspec": {
   "display_name": "R",
   "language": "R",
   "name": "ir"
  },
  "language_info": {
   "codemirror_mode": "r",
   "file_extension": ".r",
   "mimetype": "text/x-r-source",
   "name": "R",
   "pygments_lexer": "r",
   "version": "4.4.1"
  }
 },
 "nbformat": 4,
 "nbformat_minor": 2
}
