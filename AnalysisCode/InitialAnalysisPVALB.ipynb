{
 "cells": [
  {
   "cell_type": "code",
   "execution_count": 1,
   "metadata": {
    "vscode": {
     "languageId": "r"
    }
   },
   "outputs": [
    {
     "name": "stderr",
     "output_type": "stream",
     "text": [
      "\n",
      "Attaching package: 'gplots'\n",
      "\n",
      "\n",
      "The following object is masked from 'package:stats':\n",
      "\n",
      "    lowess\n",
      "\n",
      "\n"
     ]
    }
   ],
   "source": [
    "library(gplots)\n",
    "library(ggplot2)\n",
    "library(ape)\n",
    "library(phylolm);"
   ]
  },
  {
   "cell_type": "code",
   "execution_count": 2,
   "metadata": {
    "vscode": {
     "languageId": "r"
    }
   },
   "outputs": [
    {
     "data": {
      "text/html": [
       "<table class=\"dataframe\">\n",
       "<caption>A matrix: 16 x 2 of type chr</caption>\n",
       "<thead>\n",
       "\t<tr><th></th><th scope=col>species</th><th scope=col>coneType</th></tr>\n",
       "</thead>\n",
       "<tbody>\n",
       "\t<tr><th scope=row>Trichechus_manatus</th><td>Trichechus_manatus    </td><td>0</td></tr>\n",
       "\t<tr><th scope=row>Equus_caballus</th><td>Equus_caballus        </td><td>0</td></tr>\n",
       "\t<tr><th scope=row>Canis_lupus</th><td>Canis_lupus           </td><td>1</td></tr>\n",
       "\t<tr><th scope=row>Spermophilus_dauricus</th><td>Spermophilus_dauricus </td><td>1</td></tr>\n",
       "\t<tr><th scope=row>Ursus_maritimus</th><td>Ursus_maritimus       </td><td>0</td></tr>\n",
       "\t<tr><th scope=row>Pteropus_vampyrus</th><td>Pteropus_vampyrus     </td><td>1</td></tr>\n",
       "\t<tr><th scope=row>Elephantulus_edwardii</th><td>Elephantulus_edwardii </td><td>0</td></tr>\n",
       "\t<tr><th scope=row>Sus_scrofa</th><td>Sus_scrofa            </td><td>0</td></tr>\n",
       "\t<tr><th scope=row>Odocoileus_virginianus</th><td>Odocoileus_virginianus</td><td>1</td></tr>\n",
       "\t<tr><th scope=row>Oryctolagus_cuniculus</th><td>Oryctolagus_cuniculus </td><td>1</td></tr>\n",
       "\t<tr><th scope=row>Ovis_aries</th><td>Ovis_aries            </td><td>0</td></tr>\n",
       "\t<tr><th scope=row>Lemur_catta</th><td>Lemur_catta           </td><td>0</td></tr>\n",
       "\t<tr><th scope=row>Tupaia_chinensis</th><td>Tupaia_chinensis      </td><td>0</td></tr>\n",
       "\t<tr><th scope=row>Enhydra_lutris</th><td>Enhydra_lutris        </td><td>0</td></tr>\n",
       "\t<tr><th scope=row>Felis_catus</th><td>Felis_catus           </td><td>0</td></tr>\n",
       "\t<tr><th scope=row>Cavia_porcellus</th><td>Cavia_porcellus       </td><td>1</td></tr>\n",
       "</tbody>\n",
       "</table>\n"
      ],
      "text/latex": [
       "A matrix: 16 x 2 of type chr\n",
       "\\begin{tabular}{r|ll}\n",
       "  & species & coneType\\\\\n",
       "\\hline\n",
       "\tTrichechus\\_manatus & Trichechus\\_manatus     & 0\\\\\n",
       "\tEquus\\_caballus & Equus\\_caballus         & 0\\\\\n",
       "\tCanis\\_lupus & Canis\\_lupus            & 1\\\\\n",
       "\tSpermophilus\\_dauricus & Spermophilus\\_dauricus  & 1\\\\\n",
       "\tUrsus\\_maritimus & Ursus\\_maritimus        & 0\\\\\n",
       "\tPteropus\\_vampyrus & Pteropus\\_vampyrus      & 1\\\\\n",
       "\tElephantulus\\_edwardii & Elephantulus\\_edwardii  & 0\\\\\n",
       "\tSus\\_scrofa & Sus\\_scrofa             & 0\\\\\n",
       "\tOdocoileus\\_virginianus & Odocoileus\\_virginianus & 1\\\\\n",
       "\tOryctolagus\\_cuniculus & Oryctolagus\\_cuniculus  & 1\\\\\n",
       "\tOvis\\_aries & Ovis\\_aries             & 0\\\\\n",
       "\tLemur\\_catta & Lemur\\_catta            & 0\\\\\n",
       "\tTupaia\\_chinensis & Tupaia\\_chinensis       & 0\\\\\n",
       "\tEnhydra\\_lutris & Enhydra\\_lutris         & 0\\\\\n",
       "\tFelis\\_catus & Felis\\_catus            & 0\\\\\n",
       "\tCavia\\_porcellus & Cavia\\_porcellus        & 1\\\\\n",
       "\\end{tabular}\n"
      ],
      "text/markdown": [
       "\n",
       "A matrix: 16 x 2 of type chr\n",
       "\n",
       "| <!--/--> | species | coneType |\n",
       "|---|---|---|\n",
       "| Trichechus_manatus | Trichechus_manatus     | 0 |\n",
       "| Equus_caballus | Equus_caballus         | 0 |\n",
       "| Canis_lupus | Canis_lupus            | 1 |\n",
       "| Spermophilus_dauricus | Spermophilus_dauricus  | 1 |\n",
       "| Ursus_maritimus | Ursus_maritimus        | 0 |\n",
       "| Pteropus_vampyrus | Pteropus_vampyrus      | 1 |\n",
       "| Elephantulus_edwardii | Elephantulus_edwardii  | 0 |\n",
       "| Sus_scrofa | Sus_scrofa             | 0 |\n",
       "| Odocoileus_virginianus | Odocoileus_virginianus | 1 |\n",
       "| Oryctolagus_cuniculus | Oryctolagus_cuniculus  | 1 |\n",
       "| Ovis_aries | Ovis_aries             | 0 |\n",
       "| Lemur_catta | Lemur_catta            | 0 |\n",
       "| Tupaia_chinensis | Tupaia_chinensis       | 0 |\n",
       "| Enhydra_lutris | Enhydra_lutris         | 0 |\n",
       "| Felis_catus | Felis_catus            | 0 |\n",
       "| Cavia_porcellus | Cavia_porcellus        | 1 |\n",
       "\n"
      ],
      "text/plain": [
       "                       species                coneType\n",
       "Trichechus_manatus     Trichechus_manatus     0       \n",
       "Equus_caballus         Equus_caballus         0       \n",
       "Canis_lupus            Canis_lupus            1       \n",
       "Spermophilus_dauricus  Spermophilus_dauricus  1       \n",
       "Ursus_maritimus        Ursus_maritimus        0       \n",
       "Pteropus_vampyrus      Pteropus_vampyrus      1       \n",
       "Elephantulus_edwardii  Elephantulus_edwardii  0       \n",
       "Sus_scrofa             Sus_scrofa             0       \n",
       "Odocoileus_virginianus Odocoileus_virginianus 1       \n",
       "Oryctolagus_cuniculus  Oryctolagus_cuniculus  1       \n",
       "Ovis_aries             Ovis_aries             0       \n",
       "Lemur_catta            Lemur_catta            0       \n",
       "Tupaia_chinensis       Tupaia_chinensis       0       \n",
       "Enhydra_lutris         Enhydra_lutris         0       \n",
       "Felis_catus            Felis_catus            0       \n",
       "Cavia_porcellus        Cavia_porcellus        1       "
      ]
     },
     "metadata": {},
     "output_type": "display_data"
    }
   ],
   "source": [
    "#Treat SL as 0 and SM as 1\n",
    "species = c('Trichechus_manatus','Equus_caballus','Canis_lupus','Spermophilus_dauricus','Ursus_maritimus','Pteropus_vampyrus','Elephantulus_edwardii','Sus_scrofa','Odocoileus_virginianus','Oryctolagus_cuniculus','Ovis_aries','Lemur_catta','Tupaia_chinensis','Enhydra_lutris','Felis_catus','Cavia_porcellus')\n",
    "coneType = c(0,0,1,1,0,1,0,0,1,1,0,0,0,0,0,1)\n",
    "traitF <- data.frame(species = species, coneType = coneType)\n",
    "rownames(traitF) <- traitF$species\n",
    "traitM <- as.matrix(traitF)\n",
    "traitM"
   ]
  },
  {
   "cell_type": "code",
   "execution_count": 3,
   "metadata": {
    "vscode": {
     "languageId": "r"
    }
   },
   "outputs": [
    {
     "data": {
      "text/html": [
       "<style>\n",
       ".list-inline {list-style: none; margin:0; padding: 0}\n",
       ".list-inline>li {display: inline-block}\n",
       ".list-inline>li:not(:last-child)::after {content: \"\\00b7\"; padding: 0 .5ex}\n",
       "</style>\n",
       "<ol class=list-inline><li>'Trichechus_manatus'</li><li>'Elephantulus_edwardii'</li><li>'Oryctolagus_cuniculus'</li><li>'Cavia_porcellus'</li><li>'Spermophilus_dauricus'</li><li>'Tupaia_chinensis'</li><li>'Lemur_catta'</li><li>'Pteropus_vampyrus'</li><li>'Sus_scrofa'</li><li>'Odocoileus_virginianus'</li><li>'Ovis_aries'</li><li>'Equus_caballus'</li><li>'Felis_catus'</li><li>'Canis_lupus'</li><li>'Ursus_maritimus'</li><li>'Enhydra_lutris'</li></ol>\n"
      ],
      "text/latex": [
       "\\begin{enumerate*}\n",
       "\\item 'Trichechus\\_manatus'\n",
       "\\item 'Elephantulus\\_edwardii'\n",
       "\\item 'Oryctolagus\\_cuniculus'\n",
       "\\item 'Cavia\\_porcellus'\n",
       "\\item 'Spermophilus\\_dauricus'\n",
       "\\item 'Tupaia\\_chinensis'\n",
       "\\item 'Lemur\\_catta'\n",
       "\\item 'Pteropus\\_vampyrus'\n",
       "\\item 'Sus\\_scrofa'\n",
       "\\item 'Odocoileus\\_virginianus'\n",
       "\\item 'Ovis\\_aries'\n",
       "\\item 'Equus\\_caballus'\n",
       "\\item 'Felis\\_catus'\n",
       "\\item 'Canis\\_lupus'\n",
       "\\item 'Ursus\\_maritimus'\n",
       "\\item 'Enhydra\\_lutris'\n",
       "\\end{enumerate*}\n"
      ],
      "text/markdown": [
       "1. 'Trichechus_manatus'\n",
       "2. 'Elephantulus_edwardii'\n",
       "3. 'Oryctolagus_cuniculus'\n",
       "4. 'Cavia_porcellus'\n",
       "5. 'Spermophilus_dauricus'\n",
       "6. 'Tupaia_chinensis'\n",
       "7. 'Lemur_catta'\n",
       "8. 'Pteropus_vampyrus'\n",
       "9. 'Sus_scrofa'\n",
       "10. 'Odocoileus_virginianus'\n",
       "11. 'Ovis_aries'\n",
       "12. 'Equus_caballus'\n",
       "13. 'Felis_catus'\n",
       "14. 'Canis_lupus'\n",
       "15. 'Ursus_maritimus'\n",
       "16. 'Enhydra_lutris'\n",
       "\n",
       "\n"
      ],
      "text/plain": [
       " [1] \"Trichechus_manatus\"     \"Elephantulus_edwardii\"  \"Oryctolagus_cuniculus\" \n",
       " [4] \"Cavia_porcellus\"        \"Spermophilus_dauricus\"  \"Tupaia_chinensis\"      \n",
       " [7] \"Lemur_catta\"            \"Pteropus_vampyrus\"      \"Sus_scrofa\"            \n",
       "[10] \"Odocoileus_virginianus\" \"Ovis_aries\"             \"Equus_caballus\"        \n",
       "[13] \"Felis_catus\"            \"Canis_lupus\"            \"Ursus_maritimus\"       \n",
       "[16] \"Enhydra_lutris\"        "
      ]
     },
     "metadata": {},
     "output_type": "display_data"
    }
   ],
   "source": [
    "zoonomiaPath = '/Users/tinaryu/brain_epigenetics/project/data/Zoonomia_ChrX_lessGC40_241species_30Consensus.tree'\n",
    "zoonomiaTree <- read.tree(file = zoonomiaPath)\n",
    "removeSpecV <- setdiff(zoonomiaTree$tip.label,species)\n",
    "\n",
    "zoonomiaTreeDrop <- drop.tip(zoonomiaTree,removeSpecV)\n",
    "zoonomiaTreeDrop$tip.label"
   ]
  },
  {
   "cell_type": "code",
   "execution_count": 4,
   "metadata": {
    "vscode": {
     "languageId": "r"
    }
   },
   "outputs": [],
   "source": [
    "#this may take a minute\n",
    "\n",
    "pathPeak = '/Users/tinaryu/brain_epigenetics/project/data/PVALBpeakPredM.csv'\n",
    "pathSpecies = '/Users/tinaryu/brain_epigenetics/project/data/PVALBspeciesNames.csv'\n",
    "\n",
    "speciesInfoF <- read.csv(file=pathSpecies,stringsAsFactors=F,header=T);\n",
    "peakInfoF <- read.csv(file=pathPeak,header=TRUE,stringsAsFactors=F);\n"
   ]
  },
  {
   "cell_type": "code",
   "execution_count": 5,
   "metadata": {
    "vscode": {
     "languageId": "r"
    }
   },
   "outputs": [
    {
     "data": {
      "text/html": [
       "<table class=\"dataframe\">\n",
       "<caption>A matrix: 5 x 16 of type dbl</caption>\n",
       "<thead>\n",
       "\t<tr><th></th><th scope=col>Trichechus_manatus</th><th scope=col>Equus_caballus</th><th scope=col>Canis_lupus</th><th scope=col>Spermophilus_dauricus</th><th scope=col>Ursus_maritimus</th><th scope=col>Pteropus_vampyrus</th><th scope=col>Elephantulus_edwardii</th><th scope=col>Sus_scrofa</th><th scope=col>Odocoileus_virginianus</th><th scope=col>Oryctolagus_cuniculus</th><th scope=col>Ovis_aries</th><th scope=col>Lemur_catta</th><th scope=col>Tupaia_chinensis</th><th scope=col>Enhydra_lutris</th><th scope=col>Felis_catus</th><th scope=col>Cavia_porcellus</th></tr>\n",
       "</thead>\n",
       "<tbody>\n",
       "\t<tr><th scope=row>hg38:chr1:827288-827789</th><td>      NA</td><td>      NA</td><td>      NA</td><td>      NA</td><td>      NA</td><td>      NA</td><td>      NA</td><td>      NA</td><td>      NA</td><td>      NA</td><td>      NA</td><td>      NA</td><td>      NA</td><td>      NA</td><td>      NA</td><td>      NA</td></tr>\n",
       "\t<tr><th scope=row>hg38:chr1:1040588-1041089</th><td>0.895055</td><td>      NA</td><td>0.518405</td><td>0.390866</td><td>      NA</td><td>0.682248</td><td>0.871319</td><td>      NA</td><td>0.559516</td><td>      NA</td><td>0.215756</td><td>0.911516</td><td>      NA</td><td>0.961269</td><td>0.493220</td><td>0.455625</td></tr>\n",
       "\t<tr><th scope=row>hg38:chr1:3621082-3621583</th><td>      NA</td><td>      NA</td><td>      NA</td><td>      NA</td><td>      NA</td><td>      NA</td><td>      NA</td><td>      NA</td><td>      NA</td><td>      NA</td><td>      NA</td><td>      NA</td><td>      NA</td><td>      NA</td><td>      NA</td><td>      NA</td></tr>\n",
       "\t<tr><th scope=row>hg38:chr1:41811932-41812433</th><td>      NA</td><td>0.644939</td><td>0.296015</td><td>0.664783</td><td>0.521421</td><td>0.510147</td><td>      NA</td><td>0.944567</td><td>0.856497</td><td>0.919934</td><td>0.887398</td><td>0.647122</td><td>0.927092</td><td>0.757543</td><td>0.446869</td><td>0.279199</td></tr>\n",
       "\t<tr><th scope=row>hg38:chr5:135399013-135399514</th><td>0.913547</td><td>      NA</td><td>0.726630</td><td>      NA</td><td>      NA</td><td>0.570771</td><td>0.372646</td><td>      NA</td><td>0.704837</td><td>      NA</td><td>0.462822</td><td>0.894753</td><td>0.686243</td><td>0.859151</td><td>      NA</td><td>0.835531</td></tr>\n",
       "</tbody>\n",
       "</table>\n"
      ],
      "text/latex": [
       "A matrix: 5 x 16 of type dbl\n",
       "\\begin{tabular}{r|llllllllllllllll}\n",
       "  & Trichechus\\_manatus & Equus\\_caballus & Canis\\_lupus & Spermophilus\\_dauricus & Ursus\\_maritimus & Pteropus\\_vampyrus & Elephantulus\\_edwardii & Sus\\_scrofa & Odocoileus\\_virginianus & Oryctolagus\\_cuniculus & Ovis\\_aries & Lemur\\_catta & Tupaia\\_chinensis & Enhydra\\_lutris & Felis\\_catus & Cavia\\_porcellus\\\\\n",
       "\\hline\n",
       "\thg38:chr1:827288-827789 &       NA &       NA &       NA &       NA &       NA &       NA &       NA &       NA &       NA &       NA &       NA &       NA &       NA &       NA &       NA &       NA\\\\\n",
       "\thg38:chr1:1040588-1041089 & 0.895055 &       NA & 0.518405 & 0.390866 &       NA & 0.682248 & 0.871319 &       NA & 0.559516 &       NA & 0.215756 & 0.911516 &       NA & 0.961269 & 0.493220 & 0.455625\\\\\n",
       "\thg38:chr1:3621082-3621583 &       NA &       NA &       NA &       NA &       NA &       NA &       NA &       NA &       NA &       NA &       NA &       NA &       NA &       NA &       NA &       NA\\\\\n",
       "\thg38:chr1:41811932-41812433 &       NA & 0.644939 & 0.296015 & 0.664783 & 0.521421 & 0.510147 &       NA & 0.944567 & 0.856497 & 0.919934 & 0.887398 & 0.647122 & 0.927092 & 0.757543 & 0.446869 & 0.279199\\\\\n",
       "\thg38:chr5:135399013-135399514 & 0.913547 &       NA & 0.726630 &       NA &       NA & 0.570771 & 0.372646 &       NA & 0.704837 &       NA & 0.462822 & 0.894753 & 0.686243 & 0.859151 &       NA & 0.835531\\\\\n",
       "\\end{tabular}\n"
      ],
      "text/markdown": [
       "\n",
       "A matrix: 5 x 16 of type dbl\n",
       "\n",
       "| <!--/--> | Trichechus_manatus | Equus_caballus | Canis_lupus | Spermophilus_dauricus | Ursus_maritimus | Pteropus_vampyrus | Elephantulus_edwardii | Sus_scrofa | Odocoileus_virginianus | Oryctolagus_cuniculus | Ovis_aries | Lemur_catta | Tupaia_chinensis | Enhydra_lutris | Felis_catus | Cavia_porcellus |\n",
       "|---|---|---|---|---|---|---|---|---|---|---|---|---|---|---|---|---|\n",
       "| hg38:chr1:827288-827789 |       NA |       NA |       NA |       NA |       NA |       NA |       NA |       NA |       NA |       NA |       NA |       NA |       NA |       NA |       NA |       NA |\n",
       "| hg38:chr1:1040588-1041089 | 0.895055 |       NA | 0.518405 | 0.390866 |       NA | 0.682248 | 0.871319 |       NA | 0.559516 |       NA | 0.215756 | 0.911516 |       NA | 0.961269 | 0.493220 | 0.455625 |\n",
       "| hg38:chr1:3621082-3621583 |       NA |       NA |       NA |       NA |       NA |       NA |       NA |       NA |       NA |       NA |       NA |       NA |       NA |       NA |       NA |       NA |\n",
       "| hg38:chr1:41811932-41812433 |       NA | 0.644939 | 0.296015 | 0.664783 | 0.521421 | 0.510147 |       NA | 0.944567 | 0.856497 | 0.919934 | 0.887398 | 0.647122 | 0.927092 | 0.757543 | 0.446869 | 0.279199 |\n",
       "| hg38:chr5:135399013-135399514 | 0.913547 |       NA | 0.726630 |       NA |       NA | 0.570771 | 0.372646 |       NA | 0.704837 |       NA | 0.462822 | 0.894753 | 0.686243 | 0.859151 |       NA | 0.835531 |\n",
       "\n"
      ],
      "text/plain": [
       "                              Trichechus_manatus Equus_caballus Canis_lupus\n",
       "hg38:chr1:827288-827789             NA                 NA             NA   \n",
       "hg38:chr1:1040588-1041089     0.895055                 NA       0.518405   \n",
       "hg38:chr1:3621082-3621583           NA                 NA             NA   \n",
       "hg38:chr1:41811932-41812433         NA           0.644939       0.296015   \n",
       "hg38:chr5:135399013-135399514 0.913547                 NA       0.726630   \n",
       "                              Spermophilus_dauricus Ursus_maritimus\n",
       "hg38:chr1:827288-827789             NA                    NA       \n",
       "hg38:chr1:1040588-1041089     0.390866                    NA       \n",
       "hg38:chr1:3621082-3621583           NA                    NA       \n",
       "hg38:chr1:41811932-41812433   0.664783              0.521421       \n",
       "hg38:chr5:135399013-135399514       NA                    NA       \n",
       "                              Pteropus_vampyrus Elephantulus_edwardii\n",
       "hg38:chr1:827288-827789             NA                NA             \n",
       "hg38:chr1:1040588-1041089     0.682248          0.871319             \n",
       "hg38:chr1:3621082-3621583           NA                NA             \n",
       "hg38:chr1:41811932-41812433   0.510147                NA             \n",
       "hg38:chr5:135399013-135399514 0.570771          0.372646             \n",
       "                              Sus_scrofa Odocoileus_virginianus\n",
       "hg38:chr1:827288-827789             NA         NA              \n",
       "hg38:chr1:1040588-1041089           NA   0.559516              \n",
       "hg38:chr1:3621082-3621583           NA         NA              \n",
       "hg38:chr1:41811932-41812433   0.944567   0.856497              \n",
       "hg38:chr5:135399013-135399514       NA   0.704837              \n",
       "                              Oryctolagus_cuniculus Ovis_aries Lemur_catta\n",
       "hg38:chr1:827288-827789             NA                    NA         NA   \n",
       "hg38:chr1:1040588-1041089           NA              0.215756   0.911516   \n",
       "hg38:chr1:3621082-3621583           NA                    NA         NA   \n",
       "hg38:chr1:41811932-41812433   0.919934              0.887398   0.647122   \n",
       "hg38:chr5:135399013-135399514       NA              0.462822   0.894753   \n",
       "                              Tupaia_chinensis Enhydra_lutris Felis_catus\n",
       "hg38:chr1:827288-827789             NA               NA             NA   \n",
       "hg38:chr1:1040588-1041089           NA         0.961269       0.493220   \n",
       "hg38:chr1:3621082-3621583           NA               NA             NA   \n",
       "hg38:chr1:41811932-41812433   0.927092         0.757543       0.446869   \n",
       "hg38:chr5:135399013-135399514 0.686243         0.859151             NA   \n",
       "                              Cavia_porcellus\n",
       "hg38:chr1:827288-827789             NA       \n",
       "hg38:chr1:1040588-1041089     0.455625       \n",
       "hg38:chr1:3621082-3621583           NA       \n",
       "hg38:chr1:41811932-41812433   0.279199       \n",
       "hg38:chr5:135399013-135399514 0.835531       "
      ]
     },
     "metadata": {},
     "output_type": "display_data"
    }
   ],
   "source": [
    "#only keep the species with trait annotation for the peak table\n",
    "rownames(peakInfoF) <- peakInfoF$X\n",
    "peakInfoSubsetF = peakInfoF[,species,drop=FALSE]\n",
    "peakInfoSubsetM = as.matrix(peakInfoSubsetF)\n",
    "peakInfoSubsetM[1:5,]"
   ]
  },
  {
   "cell_type": "code",
   "execution_count": 6,
   "metadata": {
    "vscode": {
     "languageId": "r"
    }
   },
   "outputs": [],
   "source": [
    "#only keep the rows with no missing values 322000 rows -> 26000 rows\n",
    "peakInfoSubsetOmitM <- as.matrix(na.omit(peakInfoSubsetF))\n",
    "peakInfoSubsetOmitF <- as.data.frame(peakInfoSubsetOmitM)"
   ]
  },
  {
   "cell_type": "code",
   "execution_count": 7,
   "metadata": {
    "vscode": {
     "languageId": "r"
    }
   },
   "outputs": [],
   "source": [
    "########## Loop through the peaks and calculate dichromacy relationship with phylolm ###############\n",
    "#This could take a few minutes\n",
    "\n",
    "testPeaksV <- rownames(peakInfoSubsetOmitF);\n",
    "\n",
    "loopPeaksV <- testPeaksV;\n",
    "\n",
    "peakPhyloResultsF <- data.frame(peakId = loopPeaksV, pvalue=rep(NA,length(loopPeaksV)),correlation=rep(NA,length(loopPeaksV)),adjCorrelation=rep(NA,length(loopPeaksV)));\n",
    "\n",
    "rownames(peakPhyloResultsF) <- peakPhyloResultsF$peakId\n",
    "\n",
    "\n",
    "options(warn=-1)\n",
    "\n",
    "for(curPeak in loopPeaksV) {\n",
    "    traitFtmp <- traitF;\n",
    "    traitFtmp$curPeak <- peakInfoSubsetOmitM[curPeak,];\n",
    "    \n",
    "    curLmFit = phylolm(curPeak~coneType,data=traitFtmp,phy=zoonomiaTreeDrop,model=\"BM\");\n",
    "    curLmFitSum <- summary(curLmFit)\n",
    "    peakPhyloResultsF[curPeak,\"pvalue\"] <- curLmFitSum$coefficients[\"coneType\",\"p.value\"]\n",
    "    peakPhyloResultsF[curPeak,\"correlation\"] <- curLmFitSum$r.squared\n",
    "    peakPhyloResultsF[curPeak,\"adjCorrelation\"] <- curLmFitSum$adj.r.squared\n",
    "\n",
    "} \n",
    "\n",
    "options(warn=0)\n"
   ]
  },
  {
   "cell_type": "code",
   "execution_count": 8,
   "metadata": {
    "vscode": {
     "languageId": "r"
    }
   },
   "outputs": [],
   "source": [
    "peakPhyloResults2F <- peakPhyloResultsF[order(peakPhyloResultsF$pvalue,decreasing=F),]"
   ]
  },
  {
   "cell_type": "code",
   "execution_count": 9,
   "metadata": {
    "vscode": {
     "languageId": "r"
    }
   },
   "outputs": [
    {
     "data": {
      "text/html": [
       "<table class=\"dataframe\">\n",
       "<caption>A data.frame: 19434 x 4</caption>\n",
       "<thead>\n",
       "\t<tr><th></th><th scope=col>peakId</th><th scope=col>pvalue</th><th scope=col>correlation</th><th scope=col>adjCorrelation</th></tr>\n",
       "\t<tr><th></th><th scope=col>&lt;chr&gt;</th><th scope=col>&lt;dbl&gt;</th><th scope=col>&lt;dbl&gt;</th><th scope=col>&lt;dbl&gt;</th></tr>\n",
       "</thead>\n",
       "<tbody>\n",
       "\t<tr><th scope=row>mm10:chr19:38819012-38819513</th><td>mm10:chr19:38819012-38819513         </td><td>1.057795e-06</td><td>0.8269309</td><td>0.8145689</td></tr>\n",
       "\t<tr><th scope=row>rheMac10:chr19:39934991-39935491:250</th><td>rheMac10:chr19:39934991-39935491:250 </td><td>7.452633e-06</td><td>0.7722089</td><td>0.7559381</td></tr>\n",
       "\t<tr><th scope=row>rheMac10:chr11:13107697-13108197:250</th><td>rheMac10:chr11:13107697-13108197:250 </td><td>1.179357e-05</td><td>0.7570641</td><td>0.7397115</td></tr>\n",
       "\t<tr><th scope=row>rheMac10:chr2:143534076-143534576:250</th><td>rheMac10:chr2:143534076-143534576:250</td><td>1.502201e-05</td><td>0.7486891</td><td>0.7307384</td></tr>\n",
       "\t<tr><th scope=row>rn6:chr2:259136584-259137084:250</th><td>rn6:chr2:259136584-259137084:250     </td><td>2.014957e-05</td><td>0.7381463</td><td>0.7194424</td></tr>\n",
       "\t<tr><th scope=row>rheMac10:chr8:26842329-26842829:250</th><td>rheMac10:chr8:26842329-26842829:250  </td><td>2.067345e-05</td><td>0.7372046</td><td>0.7184335</td></tr>\n",
       "\t<tr><th scope=row>mm10:chr15:102405426-102405927</th><td>mm10:chr15:102405426-102405927       </td><td>2.144916e-05</td><td>0.7358474</td><td>0.7169794</td></tr>\n",
       "\t<tr><th scope=row>rn6:chr6:105887339-105887839:250</th><td>rn6:chr6:105887339-105887839:250     </td><td>2.766278e-05</td><td>0.7262866</td><td>0.7067357</td></tr>\n",
       "\t<tr><th scope=row>rheMac10:chr6:150040231-150040731:250</th><td>rheMac10:chr6:150040231-150040731:250</td><td>4.468957e-05</td><td>0.7073394</td><td>0.6864351</td></tr>\n",
       "\t<tr><th scope=row>rn6:chr9:82752041-82752541:250</th><td>rn6:chr9:82752041-82752541:250       </td><td>4.729637e-05</td><td>0.7050178</td><td>0.6839476</td></tr>\n",
       "\t<tr><th scope=row>hg38:chr5:141879115-141879616</th><td>hg38:chr5:141879115-141879616        </td><td>5.330238e-05</td><td>0.7000636</td><td>0.6786396</td></tr>\n",
       "\t<tr><th scope=row>rn6:chr15:47596232-47596732:250</th><td>rn6:chr15:47596232-47596732:250      </td><td>6.451965e-05</td><td>0.6919818</td><td>0.6699805</td></tr>\n",
       "\t<tr><th scope=row>rheMac10:chr6:65621047-65621547:250</th><td>rheMac10:chr6:65621047-65621547:250  </td><td>6.981038e-05</td><td>0.6885860</td><td>0.6663421</td></tr>\n",
       "\t<tr><th scope=row>rn6:chr10:16833964-16834464:250</th><td>rn6:chr10:16833964-16834464:250      </td><td>7.272200e-05</td><td>0.6868112</td><td>0.6644406</td></tr>\n",
       "\t<tr><th scope=row>hg38:chr4:150583497-150583998</th><td>hg38:chr4:150583497-150583998        </td><td>7.791837e-05</td><td>0.6837913</td><td>0.6612050</td></tr>\n",
       "\t<tr><th scope=row>hg38:chr6:88590456-88590957</th><td>hg38:chr6:88590456-88590957          </td><td>7.792728e-05</td><td>0.6837863</td><td>0.6611996</td></tr>\n",
       "\t<tr><th scope=row>rn6:chr10:65805582-65806082:250</th><td>rn6:chr10:65805582-65806082:250      </td><td>9.072139e-05</td><td>0.6770355</td><td>0.6539666</td></tr>\n",
       "\t<tr><th scope=row>hg38:chr10:59322951-59323452</th><td>hg38:chr10:59322951-59323452         </td><td>9.318074e-05</td><td>0.6758335</td><td>0.6526787</td></tr>\n",
       "\t<tr><th scope=row>rheMac10:chr14:81396449-81396949:250</th><td>rheMac10:chr14:81396449-81396949:250 </td><td>1.007776e-04</td><td>0.6722865</td><td>0.6488784</td></tr>\n",
       "\t<tr><th scope=row>mm10:chr1:184235539-184236040</th><td>mm10:chr1:184235539-184236040        </td><td>1.070639e-04</td><td>0.6695225</td><td>0.6459170</td></tr>\n",
       "\t<tr><th scope=row>rn6:chr5:154901207-154901707:250</th><td>rn6:chr5:154901207-154901707:250     </td><td>1.088823e-04</td><td>0.6687493</td><td>0.6450885</td></tr>\n",
       "\t<tr><th scope=row>rn6:chr9:4517233-4517733:250</th><td>rn6:chr9:4517233-4517733:250         </td><td>1.195831e-04</td><td>0.6644134</td><td>0.6404430</td></tr>\n",
       "\t<tr><th scope=row>rheMac10:chr8:131354018-131354518:250</th><td>rheMac10:chr8:131354018-131354518:250</td><td>1.354415e-04</td><td>0.6585696</td><td>0.6341817</td></tr>\n",
       "\t<tr><th scope=row>rn6:chr7:99047925-99048425:250</th><td>rn6:chr7:99047925-99048425:250       </td><td>1.387570e-04</td><td>0.6574234</td><td>0.6329536</td></tr>\n",
       "\t<tr><th scope=row>rheMac10:chr13:7794602-7795102:250</th><td>rheMac10:chr13:7794602-7795102:250   </td><td>1.399621e-04</td><td>0.6570127</td><td>0.6325136</td></tr>\n",
       "\t<tr><th scope=row>mm10:chr12:74284734-74285235</th><td>mm10:chr12:74284734-74285235         </td><td>1.404537e-04</td><td>0.6568460</td><td>0.6323350</td></tr>\n",
       "\t<tr><th scope=row>mm10:chr5:30927894-30928395</th><td>mm10:chr5:30927894-30928395          </td><td>1.444565e-04</td><td>0.6555075</td><td>0.6309009</td></tr>\n",
       "\t<tr><th scope=row>mm10:chr2:160887232-160887733</th><td>mm10:chr2:160887232-160887733        </td><td>1.454199e-04</td><td>0.6551901</td><td>0.6305609</td></tr>\n",
       "\t<tr><th scope=row>rheMac10:chr12:25771555-25772055:250</th><td>rheMac10:chr12:25771555-25772055:250 </td><td>1.532770e-04</td><td>0.6526679</td><td>0.6278585</td></tr>\n",
       "\t<tr><th scope=row>rn6:chr2:29765168-29765668:250</th><td>rn6:chr2:29765168-29765668:250       </td><td>1.571685e-04</td><td>0.6514600</td><td>0.6265643</td></tr>\n",
       "\t<tr><th scope=row>...</th><td>...</td><td>...</td><td>...</td><td>...</td></tr>\n",
       "\t<tr><th scope=row>hg38:chr1:199353663-199354164</th><td>hg38:chr1:199353663-199354164         </td><td>0.9981259</td><td>4.083748e-07</td><td>-0.07142813</td></tr>\n",
       "\t<tr><th scope=row>rheMac10:chr5:134987010-134987510:250</th><td>rheMac10:chr5:134987010-134987510:250 </td><td>0.9981377</td><td>4.032542e-07</td><td>-0.07142814</td></tr>\n",
       "\t<tr><th scope=row>rheMac10:chr5:108985292-108985792:250</th><td>rheMac10:chr5:108985292-108985792:250 </td><td>0.9982147</td><td>3.705957e-07</td><td>-0.07142817</td></tr>\n",
       "\t<tr><th scope=row>hg38:chr12:7159003-7159504</th><td>hg38:chr12:7159003-7159504            </td><td>0.9982941</td><td>3.383747e-07</td><td>-0.07142821</td></tr>\n",
       "\t<tr><th scope=row>rn6:chr4:174251009-174251509:250</th><td>rn6:chr4:174251009-174251509:250      </td><td>0.9983254</td><td>3.260522e-07</td><td>-0.07142822</td></tr>\n",
       "\t<tr><th scope=row>hg38:chr9:126833126-126833627</th><td>hg38:chr9:126833126-126833627         </td><td>0.9984327</td><td>2.856301e-07</td><td>-0.07142827</td></tr>\n",
       "\t<tr><th scope=row>rn6:chr1:261179579-261180079:250</th><td>rn6:chr1:261179579-261180079:250      </td><td>0.9984409</td><td>2.826481e-07</td><td>-0.07142827</td></tr>\n",
       "\t<tr><th scope=row>rheMac10:chr12:16090232-16090732:250</th><td>rheMac10:chr12:16090232-16090732:250  </td><td>0.9984663</td><td>2.735014e-07</td><td>-0.07142828</td></tr>\n",
       "\t<tr><th scope=row>rn6:chr3:147584689-147585189:250</th><td>rn6:chr3:147584689-147585189:250      </td><td>0.9984774</td><td>2.695533e-07</td><td>-0.07142828</td></tr>\n",
       "\t<tr><th scope=row>rn6:chr1:141173074-141173574:250</th><td>rn6:chr1:141173074-141173574:250      </td><td>0.9985082</td><td>2.587616e-07</td><td>-0.07142829</td></tr>\n",
       "\t<tr><th scope=row>rheMac10:chr9:102766499-102766999:250</th><td>rheMac10:chr9:102766499-102766999:250 </td><td>0.9987487</td><td>1.820618e-07</td><td>-0.07142838</td></tr>\n",
       "\t<tr><th scope=row>rheMac10:chr13:31165240-31165740:250</th><td>rheMac10:chr13:31165240-31165740:250  </td><td>0.9987977</td><td>1.680823e-07</td><td>-0.07142839</td></tr>\n",
       "\t<tr><th scope=row>rn6:chr1:241595265-241595765:250</th><td>rn6:chr1:241595265-241595765:250      </td><td>0.9988413</td><td>1.561058e-07</td><td>-0.07142840</td></tr>\n",
       "\t<tr><th scope=row>hg38:chr13:97372888-97373389</th><td>hg38:chr13:97372888-97373389          </td><td>0.9988915</td><td>1.428731e-07</td><td>-0.07142842</td></tr>\n",
       "\t<tr><th scope=row>hg38:chr11:118906925-118907426</th><td>hg38:chr11:118906925-118907426        </td><td>0.9989923</td><td>1.180842e-07</td><td>-0.07142844</td></tr>\n",
       "\t<tr><th scope=row>rn6:chr13:45319449-45319949:250</th><td>rn6:chr13:45319449-45319949:250       </td><td>0.9990098</td><td>1.140084e-07</td><td>-0.07142845</td></tr>\n",
       "\t<tr><th scope=row>rheMac10:chr19:15050918-15051418:250</th><td>rheMac10:chr19:15050918-15051418:250  </td><td>0.9990903</td><td>9.622900e-08</td><td>-0.07142847</td></tr>\n",
       "\t<tr><th scope=row>rheMac10:chr1:99390640-99391140:250</th><td>rheMac10:chr1:99390640-99391140:250   </td><td>0.9991661</td><td>8.085640e-08</td><td>-0.07142848</td></tr>\n",
       "\t<tr><th scope=row>rn6:chr5:128186286-128186786:250</th><td>rn6:chr5:128186286-128186786:250      </td><td>0.9995338</td><td>2.526978e-08</td><td>-0.07142854</td></tr>\n",
       "\t<tr><th scope=row>hg38:chr1:155080685-155081186</th><td>hg38:chr1:155080685-155081186         </td><td>0.9995935</td><td>1.921099e-08</td><td>-0.07142855</td></tr>\n",
       "\t<tr><th scope=row>rn6:chr8:46217359-46217859:250</th><td>rn6:chr8:46217359-46217859:250        </td><td>0.9996502</td><td>1.422974e-08</td><td>-0.07142856</td></tr>\n",
       "\t<tr><th scope=row>rn6:chr15:90225477-90225977:250</th><td>rn6:chr15:90225477-90225977:250       </td><td>0.9996719</td><td>1.251899e-08</td><td>-0.07142856</td></tr>\n",
       "\t<tr><th scope=row>rheMac10:chr18:24958915-24959415:250</th><td>rheMac10:chr18:24958915-24959415:250  </td><td>0.9996799</td><td>1.191416e-08</td><td>-0.07142856</td></tr>\n",
       "\t<tr><th scope=row>rheMac10:chr2:116286376-116286876:250</th><td>rheMac10:chr2:116286376-116286876:250 </td><td>0.9997059</td><td>1.006064e-08</td><td>-0.07142856</td></tr>\n",
       "\t<tr><th scope=row>rn6:chr12:48482650-48483150:250</th><td>rn6:chr12:48482650-48483150:250       </td><td>0.9997486</td><td>7.348785e-09</td><td>-0.07142856</td></tr>\n",
       "\t<tr><th scope=row>rn6:chr2:179496113-179496613:250</th><td>rn6:chr2:179496113-179496613:250      </td><td>0.9997781</td><td>5.723071e-09</td><td>-0.07142857</td></tr>\n",
       "\t<tr><th scope=row>rheMac10:chr12:125689640-125690140:250</th><td>rheMac10:chr12:125689640-125690140:250</td><td>0.9998512</td><td>2.574032e-09</td><td>-0.07142857</td></tr>\n",
       "\t<tr><th scope=row>rheMac10:chr16:56491937-56492437:250</th><td>rheMac10:chr16:56491937-56492437:250  </td><td>0.9999323</td><td>5.330148e-10</td><td>-0.07142857</td></tr>\n",
       "\t<tr><th scope=row>rn6:chr14:105936956-105937456:250</th><td>rn6:chr14:105936956-105937456:250     </td><td>0.9999416</td><td>3.968718e-10</td><td>-0.07142857</td></tr>\n",
       "\t<tr><th scope=row>hg38:chr6:107459407-107459908</th><td>hg38:chr6:107459407-107459908         </td><td>0.9999985</td><td>2.617379e-13</td><td>-0.07142857</td></tr>\n",
       "</tbody>\n",
       "</table>\n"
      ],
      "text/latex": [
       "A data.frame: 19434 x 4\n",
       "\\begin{tabular}{r|llll}\n",
       "  & peakId & pvalue & correlation & adjCorrelation\\\\\n",
       "  & <chr> & <dbl> & <dbl> & <dbl>\\\\\n",
       "\\hline\n",
       "\tmm10:chr19:38819012-38819513 & mm10:chr19:38819012-38819513          & 1.057795e-06 & 0.8269309 & 0.8145689\\\\\n",
       "\trheMac10:chr19:39934991-39935491:250 & rheMac10:chr19:39934991-39935491:250  & 7.452633e-06 & 0.7722089 & 0.7559381\\\\\n",
       "\trheMac10:chr11:13107697-13108197:250 & rheMac10:chr11:13107697-13108197:250  & 1.179357e-05 & 0.7570641 & 0.7397115\\\\\n",
       "\trheMac10:chr2:143534076-143534576:250 & rheMac10:chr2:143534076-143534576:250 & 1.502201e-05 & 0.7486891 & 0.7307384\\\\\n",
       "\trn6:chr2:259136584-259137084:250 & rn6:chr2:259136584-259137084:250      & 2.014957e-05 & 0.7381463 & 0.7194424\\\\\n",
       "\trheMac10:chr8:26842329-26842829:250 & rheMac10:chr8:26842329-26842829:250   & 2.067345e-05 & 0.7372046 & 0.7184335\\\\\n",
       "\tmm10:chr15:102405426-102405927 & mm10:chr15:102405426-102405927        & 2.144916e-05 & 0.7358474 & 0.7169794\\\\\n",
       "\trn6:chr6:105887339-105887839:250 & rn6:chr6:105887339-105887839:250      & 2.766278e-05 & 0.7262866 & 0.7067357\\\\\n",
       "\trheMac10:chr6:150040231-150040731:250 & rheMac10:chr6:150040231-150040731:250 & 4.468957e-05 & 0.7073394 & 0.6864351\\\\\n",
       "\trn6:chr9:82752041-82752541:250 & rn6:chr9:82752041-82752541:250        & 4.729637e-05 & 0.7050178 & 0.6839476\\\\\n",
       "\thg38:chr5:141879115-141879616 & hg38:chr5:141879115-141879616         & 5.330238e-05 & 0.7000636 & 0.6786396\\\\\n",
       "\trn6:chr15:47596232-47596732:250 & rn6:chr15:47596232-47596732:250       & 6.451965e-05 & 0.6919818 & 0.6699805\\\\\n",
       "\trheMac10:chr6:65621047-65621547:250 & rheMac10:chr6:65621047-65621547:250   & 6.981038e-05 & 0.6885860 & 0.6663421\\\\\n",
       "\trn6:chr10:16833964-16834464:250 & rn6:chr10:16833964-16834464:250       & 7.272200e-05 & 0.6868112 & 0.6644406\\\\\n",
       "\thg38:chr4:150583497-150583998 & hg38:chr4:150583497-150583998         & 7.791837e-05 & 0.6837913 & 0.6612050\\\\\n",
       "\thg38:chr6:88590456-88590957 & hg38:chr6:88590456-88590957           & 7.792728e-05 & 0.6837863 & 0.6611996\\\\\n",
       "\trn6:chr10:65805582-65806082:250 & rn6:chr10:65805582-65806082:250       & 9.072139e-05 & 0.6770355 & 0.6539666\\\\\n",
       "\thg38:chr10:59322951-59323452 & hg38:chr10:59322951-59323452          & 9.318074e-05 & 0.6758335 & 0.6526787\\\\\n",
       "\trheMac10:chr14:81396449-81396949:250 & rheMac10:chr14:81396449-81396949:250  & 1.007776e-04 & 0.6722865 & 0.6488784\\\\\n",
       "\tmm10:chr1:184235539-184236040 & mm10:chr1:184235539-184236040         & 1.070639e-04 & 0.6695225 & 0.6459170\\\\\n",
       "\trn6:chr5:154901207-154901707:250 & rn6:chr5:154901207-154901707:250      & 1.088823e-04 & 0.6687493 & 0.6450885\\\\\n",
       "\trn6:chr9:4517233-4517733:250 & rn6:chr9:4517233-4517733:250          & 1.195831e-04 & 0.6644134 & 0.6404430\\\\\n",
       "\trheMac10:chr8:131354018-131354518:250 & rheMac10:chr8:131354018-131354518:250 & 1.354415e-04 & 0.6585696 & 0.6341817\\\\\n",
       "\trn6:chr7:99047925-99048425:250 & rn6:chr7:99047925-99048425:250        & 1.387570e-04 & 0.6574234 & 0.6329536\\\\\n",
       "\trheMac10:chr13:7794602-7795102:250 & rheMac10:chr13:7794602-7795102:250    & 1.399621e-04 & 0.6570127 & 0.6325136\\\\\n",
       "\tmm10:chr12:74284734-74285235 & mm10:chr12:74284734-74285235          & 1.404537e-04 & 0.6568460 & 0.6323350\\\\\n",
       "\tmm10:chr5:30927894-30928395 & mm10:chr5:30927894-30928395           & 1.444565e-04 & 0.6555075 & 0.6309009\\\\\n",
       "\tmm10:chr2:160887232-160887733 & mm10:chr2:160887232-160887733         & 1.454199e-04 & 0.6551901 & 0.6305609\\\\\n",
       "\trheMac10:chr12:25771555-25772055:250 & rheMac10:chr12:25771555-25772055:250  & 1.532770e-04 & 0.6526679 & 0.6278585\\\\\n",
       "\trn6:chr2:29765168-29765668:250 & rn6:chr2:29765168-29765668:250        & 1.571685e-04 & 0.6514600 & 0.6265643\\\\\n",
       "\t... & ... & ... & ... & ...\\\\\n",
       "\thg38:chr1:199353663-199354164 & hg38:chr1:199353663-199354164          & 0.9981259 & 4.083748e-07 & -0.07142813\\\\\n",
       "\trheMac10:chr5:134987010-134987510:250 & rheMac10:chr5:134987010-134987510:250  & 0.9981377 & 4.032542e-07 & -0.07142814\\\\\n",
       "\trheMac10:chr5:108985292-108985792:250 & rheMac10:chr5:108985292-108985792:250  & 0.9982147 & 3.705957e-07 & -0.07142817\\\\\n",
       "\thg38:chr12:7159003-7159504 & hg38:chr12:7159003-7159504             & 0.9982941 & 3.383747e-07 & -0.07142821\\\\\n",
       "\trn6:chr4:174251009-174251509:250 & rn6:chr4:174251009-174251509:250       & 0.9983254 & 3.260522e-07 & -0.07142822\\\\\n",
       "\thg38:chr9:126833126-126833627 & hg38:chr9:126833126-126833627          & 0.9984327 & 2.856301e-07 & -0.07142827\\\\\n",
       "\trn6:chr1:261179579-261180079:250 & rn6:chr1:261179579-261180079:250       & 0.9984409 & 2.826481e-07 & -0.07142827\\\\\n",
       "\trheMac10:chr12:16090232-16090732:250 & rheMac10:chr12:16090232-16090732:250   & 0.9984663 & 2.735014e-07 & -0.07142828\\\\\n",
       "\trn6:chr3:147584689-147585189:250 & rn6:chr3:147584689-147585189:250       & 0.9984774 & 2.695533e-07 & -0.07142828\\\\\n",
       "\trn6:chr1:141173074-141173574:250 & rn6:chr1:141173074-141173574:250       & 0.9985082 & 2.587616e-07 & -0.07142829\\\\\n",
       "\trheMac10:chr9:102766499-102766999:250 & rheMac10:chr9:102766499-102766999:250  & 0.9987487 & 1.820618e-07 & -0.07142838\\\\\n",
       "\trheMac10:chr13:31165240-31165740:250 & rheMac10:chr13:31165240-31165740:250   & 0.9987977 & 1.680823e-07 & -0.07142839\\\\\n",
       "\trn6:chr1:241595265-241595765:250 & rn6:chr1:241595265-241595765:250       & 0.9988413 & 1.561058e-07 & -0.07142840\\\\\n",
       "\thg38:chr13:97372888-97373389 & hg38:chr13:97372888-97373389           & 0.9988915 & 1.428731e-07 & -0.07142842\\\\\n",
       "\thg38:chr11:118906925-118907426 & hg38:chr11:118906925-118907426         & 0.9989923 & 1.180842e-07 & -0.07142844\\\\\n",
       "\trn6:chr13:45319449-45319949:250 & rn6:chr13:45319449-45319949:250        & 0.9990098 & 1.140084e-07 & -0.07142845\\\\\n",
       "\trheMac10:chr19:15050918-15051418:250 & rheMac10:chr19:15050918-15051418:250   & 0.9990903 & 9.622900e-08 & -0.07142847\\\\\n",
       "\trheMac10:chr1:99390640-99391140:250 & rheMac10:chr1:99390640-99391140:250    & 0.9991661 & 8.085640e-08 & -0.07142848\\\\\n",
       "\trn6:chr5:128186286-128186786:250 & rn6:chr5:128186286-128186786:250       & 0.9995338 & 2.526978e-08 & -0.07142854\\\\\n",
       "\thg38:chr1:155080685-155081186 & hg38:chr1:155080685-155081186          & 0.9995935 & 1.921099e-08 & -0.07142855\\\\\n",
       "\trn6:chr8:46217359-46217859:250 & rn6:chr8:46217359-46217859:250         & 0.9996502 & 1.422974e-08 & -0.07142856\\\\\n",
       "\trn6:chr15:90225477-90225977:250 & rn6:chr15:90225477-90225977:250        & 0.9996719 & 1.251899e-08 & -0.07142856\\\\\n",
       "\trheMac10:chr18:24958915-24959415:250 & rheMac10:chr18:24958915-24959415:250   & 0.9996799 & 1.191416e-08 & -0.07142856\\\\\n",
       "\trheMac10:chr2:116286376-116286876:250 & rheMac10:chr2:116286376-116286876:250  & 0.9997059 & 1.006064e-08 & -0.07142856\\\\\n",
       "\trn6:chr12:48482650-48483150:250 & rn6:chr12:48482650-48483150:250        & 0.9997486 & 7.348785e-09 & -0.07142856\\\\\n",
       "\trn6:chr2:179496113-179496613:250 & rn6:chr2:179496113-179496613:250       & 0.9997781 & 5.723071e-09 & -0.07142857\\\\\n",
       "\trheMac10:chr12:125689640-125690140:250 & rheMac10:chr12:125689640-125690140:250 & 0.9998512 & 2.574032e-09 & -0.07142857\\\\\n",
       "\trheMac10:chr16:56491937-56492437:250 & rheMac10:chr16:56491937-56492437:250   & 0.9999323 & 5.330148e-10 & -0.07142857\\\\\n",
       "\trn6:chr14:105936956-105937456:250 & rn6:chr14:105936956-105937456:250      & 0.9999416 & 3.968718e-10 & -0.07142857\\\\\n",
       "\thg38:chr6:107459407-107459908 & hg38:chr6:107459407-107459908          & 0.9999985 & 2.617379e-13 & -0.07142857\\\\\n",
       "\\end{tabular}\n"
      ],
      "text/markdown": [
       "\n",
       "A data.frame: 19434 x 4\n",
       "\n",
       "| <!--/--> | peakId &lt;chr&gt; | pvalue &lt;dbl&gt; | correlation &lt;dbl&gt; | adjCorrelation &lt;dbl&gt; |\n",
       "|---|---|---|---|---|\n",
       "| mm10:chr19:38819012-38819513 | mm10:chr19:38819012-38819513          | 1.057795e-06 | 0.8269309 | 0.8145689 |\n",
       "| rheMac10:chr19:39934991-39935491:250 | rheMac10:chr19:39934991-39935491:250  | 7.452633e-06 | 0.7722089 | 0.7559381 |\n",
       "| rheMac10:chr11:13107697-13108197:250 | rheMac10:chr11:13107697-13108197:250  | 1.179357e-05 | 0.7570641 | 0.7397115 |\n",
       "| rheMac10:chr2:143534076-143534576:250 | rheMac10:chr2:143534076-143534576:250 | 1.502201e-05 | 0.7486891 | 0.7307384 |\n",
       "| rn6:chr2:259136584-259137084:250 | rn6:chr2:259136584-259137084:250      | 2.014957e-05 | 0.7381463 | 0.7194424 |\n",
       "| rheMac10:chr8:26842329-26842829:250 | rheMac10:chr8:26842329-26842829:250   | 2.067345e-05 | 0.7372046 | 0.7184335 |\n",
       "| mm10:chr15:102405426-102405927 | mm10:chr15:102405426-102405927        | 2.144916e-05 | 0.7358474 | 0.7169794 |\n",
       "| rn6:chr6:105887339-105887839:250 | rn6:chr6:105887339-105887839:250      | 2.766278e-05 | 0.7262866 | 0.7067357 |\n",
       "| rheMac10:chr6:150040231-150040731:250 | rheMac10:chr6:150040231-150040731:250 | 4.468957e-05 | 0.7073394 | 0.6864351 |\n",
       "| rn6:chr9:82752041-82752541:250 | rn6:chr9:82752041-82752541:250        | 4.729637e-05 | 0.7050178 | 0.6839476 |\n",
       "| hg38:chr5:141879115-141879616 | hg38:chr5:141879115-141879616         | 5.330238e-05 | 0.7000636 | 0.6786396 |\n",
       "| rn6:chr15:47596232-47596732:250 | rn6:chr15:47596232-47596732:250       | 6.451965e-05 | 0.6919818 | 0.6699805 |\n",
       "| rheMac10:chr6:65621047-65621547:250 | rheMac10:chr6:65621047-65621547:250   | 6.981038e-05 | 0.6885860 | 0.6663421 |\n",
       "| rn6:chr10:16833964-16834464:250 | rn6:chr10:16833964-16834464:250       | 7.272200e-05 | 0.6868112 | 0.6644406 |\n",
       "| hg38:chr4:150583497-150583998 | hg38:chr4:150583497-150583998         | 7.791837e-05 | 0.6837913 | 0.6612050 |\n",
       "| hg38:chr6:88590456-88590957 | hg38:chr6:88590456-88590957           | 7.792728e-05 | 0.6837863 | 0.6611996 |\n",
       "| rn6:chr10:65805582-65806082:250 | rn6:chr10:65805582-65806082:250       | 9.072139e-05 | 0.6770355 | 0.6539666 |\n",
       "| hg38:chr10:59322951-59323452 | hg38:chr10:59322951-59323452          | 9.318074e-05 | 0.6758335 | 0.6526787 |\n",
       "| rheMac10:chr14:81396449-81396949:250 | rheMac10:chr14:81396449-81396949:250  | 1.007776e-04 | 0.6722865 | 0.6488784 |\n",
       "| mm10:chr1:184235539-184236040 | mm10:chr1:184235539-184236040         | 1.070639e-04 | 0.6695225 | 0.6459170 |\n",
       "| rn6:chr5:154901207-154901707:250 | rn6:chr5:154901207-154901707:250      | 1.088823e-04 | 0.6687493 | 0.6450885 |\n",
       "| rn6:chr9:4517233-4517733:250 | rn6:chr9:4517233-4517733:250          | 1.195831e-04 | 0.6644134 | 0.6404430 |\n",
       "| rheMac10:chr8:131354018-131354518:250 | rheMac10:chr8:131354018-131354518:250 | 1.354415e-04 | 0.6585696 | 0.6341817 |\n",
       "| rn6:chr7:99047925-99048425:250 | rn6:chr7:99047925-99048425:250        | 1.387570e-04 | 0.6574234 | 0.6329536 |\n",
       "| rheMac10:chr13:7794602-7795102:250 | rheMac10:chr13:7794602-7795102:250    | 1.399621e-04 | 0.6570127 | 0.6325136 |\n",
       "| mm10:chr12:74284734-74285235 | mm10:chr12:74284734-74285235          | 1.404537e-04 | 0.6568460 | 0.6323350 |\n",
       "| mm10:chr5:30927894-30928395 | mm10:chr5:30927894-30928395           | 1.444565e-04 | 0.6555075 | 0.6309009 |\n",
       "| mm10:chr2:160887232-160887733 | mm10:chr2:160887232-160887733         | 1.454199e-04 | 0.6551901 | 0.6305609 |\n",
       "| rheMac10:chr12:25771555-25772055:250 | rheMac10:chr12:25771555-25772055:250  | 1.532770e-04 | 0.6526679 | 0.6278585 |\n",
       "| rn6:chr2:29765168-29765668:250 | rn6:chr2:29765168-29765668:250        | 1.571685e-04 | 0.6514600 | 0.6265643 |\n",
       "| ... | ... | ... | ... | ... |\n",
       "| hg38:chr1:199353663-199354164 | hg38:chr1:199353663-199354164          | 0.9981259 | 4.083748e-07 | -0.07142813 |\n",
       "| rheMac10:chr5:134987010-134987510:250 | rheMac10:chr5:134987010-134987510:250  | 0.9981377 | 4.032542e-07 | -0.07142814 |\n",
       "| rheMac10:chr5:108985292-108985792:250 | rheMac10:chr5:108985292-108985792:250  | 0.9982147 | 3.705957e-07 | -0.07142817 |\n",
       "| hg38:chr12:7159003-7159504 | hg38:chr12:7159003-7159504             | 0.9982941 | 3.383747e-07 | -0.07142821 |\n",
       "| rn6:chr4:174251009-174251509:250 | rn6:chr4:174251009-174251509:250       | 0.9983254 | 3.260522e-07 | -0.07142822 |\n",
       "| hg38:chr9:126833126-126833627 | hg38:chr9:126833126-126833627          | 0.9984327 | 2.856301e-07 | -0.07142827 |\n",
       "| rn6:chr1:261179579-261180079:250 | rn6:chr1:261179579-261180079:250       | 0.9984409 | 2.826481e-07 | -0.07142827 |\n",
       "| rheMac10:chr12:16090232-16090732:250 | rheMac10:chr12:16090232-16090732:250   | 0.9984663 | 2.735014e-07 | -0.07142828 |\n",
       "| rn6:chr3:147584689-147585189:250 | rn6:chr3:147584689-147585189:250       | 0.9984774 | 2.695533e-07 | -0.07142828 |\n",
       "| rn6:chr1:141173074-141173574:250 | rn6:chr1:141173074-141173574:250       | 0.9985082 | 2.587616e-07 | -0.07142829 |\n",
       "| rheMac10:chr9:102766499-102766999:250 | rheMac10:chr9:102766499-102766999:250  | 0.9987487 | 1.820618e-07 | -0.07142838 |\n",
       "| rheMac10:chr13:31165240-31165740:250 | rheMac10:chr13:31165240-31165740:250   | 0.9987977 | 1.680823e-07 | -0.07142839 |\n",
       "| rn6:chr1:241595265-241595765:250 | rn6:chr1:241595265-241595765:250       | 0.9988413 | 1.561058e-07 | -0.07142840 |\n",
       "| hg38:chr13:97372888-97373389 | hg38:chr13:97372888-97373389           | 0.9988915 | 1.428731e-07 | -0.07142842 |\n",
       "| hg38:chr11:118906925-118907426 | hg38:chr11:118906925-118907426         | 0.9989923 | 1.180842e-07 | -0.07142844 |\n",
       "| rn6:chr13:45319449-45319949:250 | rn6:chr13:45319449-45319949:250        | 0.9990098 | 1.140084e-07 | -0.07142845 |\n",
       "| rheMac10:chr19:15050918-15051418:250 | rheMac10:chr19:15050918-15051418:250   | 0.9990903 | 9.622900e-08 | -0.07142847 |\n",
       "| rheMac10:chr1:99390640-99391140:250 | rheMac10:chr1:99390640-99391140:250    | 0.9991661 | 8.085640e-08 | -0.07142848 |\n",
       "| rn6:chr5:128186286-128186786:250 | rn6:chr5:128186286-128186786:250       | 0.9995338 | 2.526978e-08 | -0.07142854 |\n",
       "| hg38:chr1:155080685-155081186 | hg38:chr1:155080685-155081186          | 0.9995935 | 1.921099e-08 | -0.07142855 |\n",
       "| rn6:chr8:46217359-46217859:250 | rn6:chr8:46217359-46217859:250         | 0.9996502 | 1.422974e-08 | -0.07142856 |\n",
       "| rn6:chr15:90225477-90225977:250 | rn6:chr15:90225477-90225977:250        | 0.9996719 | 1.251899e-08 | -0.07142856 |\n",
       "| rheMac10:chr18:24958915-24959415:250 | rheMac10:chr18:24958915-24959415:250   | 0.9996799 | 1.191416e-08 | -0.07142856 |\n",
       "| rheMac10:chr2:116286376-116286876:250 | rheMac10:chr2:116286376-116286876:250  | 0.9997059 | 1.006064e-08 | -0.07142856 |\n",
       "| rn6:chr12:48482650-48483150:250 | rn6:chr12:48482650-48483150:250        | 0.9997486 | 7.348785e-09 | -0.07142856 |\n",
       "| rn6:chr2:179496113-179496613:250 | rn6:chr2:179496113-179496613:250       | 0.9997781 | 5.723071e-09 | -0.07142857 |\n",
       "| rheMac10:chr12:125689640-125690140:250 | rheMac10:chr12:125689640-125690140:250 | 0.9998512 | 2.574032e-09 | -0.07142857 |\n",
       "| rheMac10:chr16:56491937-56492437:250 | rheMac10:chr16:56491937-56492437:250   | 0.9999323 | 5.330148e-10 | -0.07142857 |\n",
       "| rn6:chr14:105936956-105937456:250 | rn6:chr14:105936956-105937456:250      | 0.9999416 | 3.968718e-10 | -0.07142857 |\n",
       "| hg38:chr6:107459407-107459908 | hg38:chr6:107459407-107459908          | 0.9999985 | 2.617379e-13 | -0.07142857 |\n",
       "\n"
      ],
      "text/plain": [
       "                                       peakId                                \n",
       "mm10:chr19:38819012-38819513           mm10:chr19:38819012-38819513          \n",
       "rheMac10:chr19:39934991-39935491:250   rheMac10:chr19:39934991-39935491:250  \n",
       "rheMac10:chr11:13107697-13108197:250   rheMac10:chr11:13107697-13108197:250  \n",
       "rheMac10:chr2:143534076-143534576:250  rheMac10:chr2:143534076-143534576:250 \n",
       "rn6:chr2:259136584-259137084:250       rn6:chr2:259136584-259137084:250      \n",
       "rheMac10:chr8:26842329-26842829:250    rheMac10:chr8:26842329-26842829:250   \n",
       "mm10:chr15:102405426-102405927         mm10:chr15:102405426-102405927        \n",
       "rn6:chr6:105887339-105887839:250       rn6:chr6:105887339-105887839:250      \n",
       "rheMac10:chr6:150040231-150040731:250  rheMac10:chr6:150040231-150040731:250 \n",
       "rn6:chr9:82752041-82752541:250         rn6:chr9:82752041-82752541:250        \n",
       "hg38:chr5:141879115-141879616          hg38:chr5:141879115-141879616         \n",
       "rn6:chr15:47596232-47596732:250        rn6:chr15:47596232-47596732:250       \n",
       "rheMac10:chr6:65621047-65621547:250    rheMac10:chr6:65621047-65621547:250   \n",
       "rn6:chr10:16833964-16834464:250        rn6:chr10:16833964-16834464:250       \n",
       "hg38:chr4:150583497-150583998          hg38:chr4:150583497-150583998         \n",
       "hg38:chr6:88590456-88590957            hg38:chr6:88590456-88590957           \n",
       "rn6:chr10:65805582-65806082:250        rn6:chr10:65805582-65806082:250       \n",
       "hg38:chr10:59322951-59323452           hg38:chr10:59322951-59323452          \n",
       "rheMac10:chr14:81396449-81396949:250   rheMac10:chr14:81396449-81396949:250  \n",
       "mm10:chr1:184235539-184236040          mm10:chr1:184235539-184236040         \n",
       "rn6:chr5:154901207-154901707:250       rn6:chr5:154901207-154901707:250      \n",
       "rn6:chr9:4517233-4517733:250           rn6:chr9:4517233-4517733:250          \n",
       "rheMac10:chr8:131354018-131354518:250  rheMac10:chr8:131354018-131354518:250 \n",
       "rn6:chr7:99047925-99048425:250         rn6:chr7:99047925-99048425:250        \n",
       "rheMac10:chr13:7794602-7795102:250     rheMac10:chr13:7794602-7795102:250    \n",
       "mm10:chr12:74284734-74285235           mm10:chr12:74284734-74285235          \n",
       "mm10:chr5:30927894-30928395            mm10:chr5:30927894-30928395           \n",
       "mm10:chr2:160887232-160887733          mm10:chr2:160887232-160887733         \n",
       "rheMac10:chr12:25771555-25772055:250   rheMac10:chr12:25771555-25772055:250  \n",
       "rn6:chr2:29765168-29765668:250         rn6:chr2:29765168-29765668:250        \n",
       "...                                    ...                                   \n",
       "hg38:chr1:199353663-199354164          hg38:chr1:199353663-199354164         \n",
       "rheMac10:chr5:134987010-134987510:250  rheMac10:chr5:134987010-134987510:250 \n",
       "rheMac10:chr5:108985292-108985792:250  rheMac10:chr5:108985292-108985792:250 \n",
       "hg38:chr12:7159003-7159504             hg38:chr12:7159003-7159504            \n",
       "rn6:chr4:174251009-174251509:250       rn6:chr4:174251009-174251509:250      \n",
       "hg38:chr9:126833126-126833627          hg38:chr9:126833126-126833627         \n",
       "rn6:chr1:261179579-261180079:250       rn6:chr1:261179579-261180079:250      \n",
       "rheMac10:chr12:16090232-16090732:250   rheMac10:chr12:16090232-16090732:250  \n",
       "rn6:chr3:147584689-147585189:250       rn6:chr3:147584689-147585189:250      \n",
       "rn6:chr1:141173074-141173574:250       rn6:chr1:141173074-141173574:250      \n",
       "rheMac10:chr9:102766499-102766999:250  rheMac10:chr9:102766499-102766999:250 \n",
       "rheMac10:chr13:31165240-31165740:250   rheMac10:chr13:31165240-31165740:250  \n",
       "rn6:chr1:241595265-241595765:250       rn6:chr1:241595265-241595765:250      \n",
       "hg38:chr13:97372888-97373389           hg38:chr13:97372888-97373389          \n",
       "hg38:chr11:118906925-118907426         hg38:chr11:118906925-118907426        \n",
       "rn6:chr13:45319449-45319949:250        rn6:chr13:45319449-45319949:250       \n",
       "rheMac10:chr19:15050918-15051418:250   rheMac10:chr19:15050918-15051418:250  \n",
       "rheMac10:chr1:99390640-99391140:250    rheMac10:chr1:99390640-99391140:250   \n",
       "rn6:chr5:128186286-128186786:250       rn6:chr5:128186286-128186786:250      \n",
       "hg38:chr1:155080685-155081186          hg38:chr1:155080685-155081186         \n",
       "rn6:chr8:46217359-46217859:250         rn6:chr8:46217359-46217859:250        \n",
       "rn6:chr15:90225477-90225977:250        rn6:chr15:90225477-90225977:250       \n",
       "rheMac10:chr18:24958915-24959415:250   rheMac10:chr18:24958915-24959415:250  \n",
       "rheMac10:chr2:116286376-116286876:250  rheMac10:chr2:116286376-116286876:250 \n",
       "rn6:chr12:48482650-48483150:250        rn6:chr12:48482650-48483150:250       \n",
       "rn6:chr2:179496113-179496613:250       rn6:chr2:179496113-179496613:250      \n",
       "rheMac10:chr12:125689640-125690140:250 rheMac10:chr12:125689640-125690140:250\n",
       "rheMac10:chr16:56491937-56492437:250   rheMac10:chr16:56491937-56492437:250  \n",
       "rn6:chr14:105936956-105937456:250      rn6:chr14:105936956-105937456:250     \n",
       "hg38:chr6:107459407-107459908          hg38:chr6:107459407-107459908         \n",
       "                                       pvalue       correlation  adjCorrelation\n",
       "mm10:chr19:38819012-38819513           1.057795e-06 0.8269309    0.8145689     \n",
       "rheMac10:chr19:39934991-39935491:250   7.452633e-06 0.7722089    0.7559381     \n",
       "rheMac10:chr11:13107697-13108197:250   1.179357e-05 0.7570641    0.7397115     \n",
       "rheMac10:chr2:143534076-143534576:250  1.502201e-05 0.7486891    0.7307384     \n",
       "rn6:chr2:259136584-259137084:250       2.014957e-05 0.7381463    0.7194424     \n",
       "rheMac10:chr8:26842329-26842829:250    2.067345e-05 0.7372046    0.7184335     \n",
       "mm10:chr15:102405426-102405927         2.144916e-05 0.7358474    0.7169794     \n",
       "rn6:chr6:105887339-105887839:250       2.766278e-05 0.7262866    0.7067357     \n",
       "rheMac10:chr6:150040231-150040731:250  4.468957e-05 0.7073394    0.6864351     \n",
       "rn6:chr9:82752041-82752541:250         4.729637e-05 0.7050178    0.6839476     \n",
       "hg38:chr5:141879115-141879616          5.330238e-05 0.7000636    0.6786396     \n",
       "rn6:chr15:47596232-47596732:250        6.451965e-05 0.6919818    0.6699805     \n",
       "rheMac10:chr6:65621047-65621547:250    6.981038e-05 0.6885860    0.6663421     \n",
       "rn6:chr10:16833964-16834464:250        7.272200e-05 0.6868112    0.6644406     \n",
       "hg38:chr4:150583497-150583998          7.791837e-05 0.6837913    0.6612050     \n",
       "hg38:chr6:88590456-88590957            7.792728e-05 0.6837863    0.6611996     \n",
       "rn6:chr10:65805582-65806082:250        9.072139e-05 0.6770355    0.6539666     \n",
       "hg38:chr10:59322951-59323452           9.318074e-05 0.6758335    0.6526787     \n",
       "rheMac10:chr14:81396449-81396949:250   1.007776e-04 0.6722865    0.6488784     \n",
       "mm10:chr1:184235539-184236040          1.070639e-04 0.6695225    0.6459170     \n",
       "rn6:chr5:154901207-154901707:250       1.088823e-04 0.6687493    0.6450885     \n",
       "rn6:chr9:4517233-4517733:250           1.195831e-04 0.6644134    0.6404430     \n",
       "rheMac10:chr8:131354018-131354518:250  1.354415e-04 0.6585696    0.6341817     \n",
       "rn6:chr7:99047925-99048425:250         1.387570e-04 0.6574234    0.6329536     \n",
       "rheMac10:chr13:7794602-7795102:250     1.399621e-04 0.6570127    0.6325136     \n",
       "mm10:chr12:74284734-74285235           1.404537e-04 0.6568460    0.6323350     \n",
       "mm10:chr5:30927894-30928395            1.444565e-04 0.6555075    0.6309009     \n",
       "mm10:chr2:160887232-160887733          1.454199e-04 0.6551901    0.6305609     \n",
       "rheMac10:chr12:25771555-25772055:250   1.532770e-04 0.6526679    0.6278585     \n",
       "rn6:chr2:29765168-29765668:250         1.571685e-04 0.6514600    0.6265643     \n",
       "...                                    ...          ...          ...           \n",
       "hg38:chr1:199353663-199354164          0.9981259    4.083748e-07 -0.07142813   \n",
       "rheMac10:chr5:134987010-134987510:250  0.9981377    4.032542e-07 -0.07142814   \n",
       "rheMac10:chr5:108985292-108985792:250  0.9982147    3.705957e-07 -0.07142817   \n",
       "hg38:chr12:7159003-7159504             0.9982941    3.383747e-07 -0.07142821   \n",
       "rn6:chr4:174251009-174251509:250       0.9983254    3.260522e-07 -0.07142822   \n",
       "hg38:chr9:126833126-126833627          0.9984327    2.856301e-07 -0.07142827   \n",
       "rn6:chr1:261179579-261180079:250       0.9984409    2.826481e-07 -0.07142827   \n",
       "rheMac10:chr12:16090232-16090732:250   0.9984663    2.735014e-07 -0.07142828   \n",
       "rn6:chr3:147584689-147585189:250       0.9984774    2.695533e-07 -0.07142828   \n",
       "rn6:chr1:141173074-141173574:250       0.9985082    2.587616e-07 -0.07142829   \n",
       "rheMac10:chr9:102766499-102766999:250  0.9987487    1.820618e-07 -0.07142838   \n",
       "rheMac10:chr13:31165240-31165740:250   0.9987977    1.680823e-07 -0.07142839   \n",
       "rn6:chr1:241595265-241595765:250       0.9988413    1.561058e-07 -0.07142840   \n",
       "hg38:chr13:97372888-97373389           0.9988915    1.428731e-07 -0.07142842   \n",
       "hg38:chr11:118906925-118907426         0.9989923    1.180842e-07 -0.07142844   \n",
       "rn6:chr13:45319449-45319949:250        0.9990098    1.140084e-07 -0.07142845   \n",
       "rheMac10:chr19:15050918-15051418:250   0.9990903    9.622900e-08 -0.07142847   \n",
       "rheMac10:chr1:99390640-99391140:250    0.9991661    8.085640e-08 -0.07142848   \n",
       "rn6:chr5:128186286-128186786:250       0.9995338    2.526978e-08 -0.07142854   \n",
       "hg38:chr1:155080685-155081186          0.9995935    1.921099e-08 -0.07142855   \n",
       "rn6:chr8:46217359-46217859:250         0.9996502    1.422974e-08 -0.07142856   \n",
       "rn6:chr15:90225477-90225977:250        0.9996719    1.251899e-08 -0.07142856   \n",
       "rheMac10:chr18:24958915-24959415:250   0.9996799    1.191416e-08 -0.07142856   \n",
       "rheMac10:chr2:116286376-116286876:250  0.9997059    1.006064e-08 -0.07142856   \n",
       "rn6:chr12:48482650-48483150:250        0.9997486    7.348785e-09 -0.07142856   \n",
       "rn6:chr2:179496113-179496613:250       0.9997781    5.723071e-09 -0.07142857   \n",
       "rheMac10:chr12:125689640-125690140:250 0.9998512    2.574032e-09 -0.07142857   \n",
       "rheMac10:chr16:56491937-56492437:250   0.9999323    5.330148e-10 -0.07142857   \n",
       "rn6:chr14:105936956-105937456:250      0.9999416    3.968718e-10 -0.07142857   \n",
       "hg38:chr6:107459407-107459908          0.9999985    2.617379e-13 -0.07142857   "
      ]
     },
     "metadata": {},
     "output_type": "display_data"
    }
   ],
   "source": [
    "peakPhyloResults2F"
   ]
  },
  {
   "cell_type": "code",
   "execution_count": 10,
   "metadata": {
    "vscode": {
     "languageId": "r"
    }
   },
   "outputs": [
    {
     "data": {
      "image/png": "[encoded data removed]",
      "text/plain": [
       "Plot with title \"P-values Distribution\""
      ]
     },
     "metadata": {
      "image/png": {
       "height": 420,
       "width": 420
      }
     },
     "output_type": "display_data"
    },
    {
     "data": {
      "image/png": "[encoded data removed]",
      "text/plain": [
       "Plot with title \"Correlations Distribution\""
      ]
     },
     "metadata": {
      "image/png": {
       "height": 420,
       "width": 420
      }
     },
     "output_type": "display_data"
    }
   ],
   "source": [
    "hist(peakPhyloResults2F$pvalue, main = \"P-values Distribution\", xlab = \"P-value\")\n",
    "hist(peakPhyloResults2F$adjCorrelation, main = \"Correlations Distribution\", xlab = \"Correlation\")"
   ]
  },
  {
   "cell_type": "markdown",
   "metadata": {},
   "source": [
    "What do those histograms tell you about the statistical tests you conduct?"
   ]
  },
  {
   "cell_type": "code",
   "execution_count": 11,
   "metadata": {
    "vscode": {
     "languageId": "r"
    }
   },
   "outputs": [],
   "source": [
    "#add multiple testing correction\n",
    "peakPhyloResults2F$adjPvalue <- p.adjust(peakPhyloResults2F$pvalue,method=\"BH\")"
   ]
  },
  {
   "cell_type": "code",
   "execution_count": 12,
   "metadata": {
    "vscode": {
     "languageId": "r"
    }
   },
   "outputs": [
    {
     "name": "stderr",
     "output_type": "stream",
     "text": [
      "\n",
      "Attaching package: 'dplyr'\n",
      "\n",
      "\n",
      "The following object is masked from 'package:ape':\n",
      "\n",
      "    where\n",
      "\n",
      "\n",
      "The following objects are masked from 'package:stats':\n",
      "\n",
      "    filter, lag\n",
      "\n",
      "\n",
      "The following objects are masked from 'package:base':\n",
      "\n",
      "    intersect, setdiff, setequal, union\n",
      "\n",
      "\n"
     ]
    }
   ],
   "source": [
    "library(dplyr)\n",
    "peakPhyloResultsFiltered2F <- peakPhyloResults2F %>% filter(grepl(\"hg38\", peakId))"
   ]
  },
  {
   "cell_type": "code",
   "execution_count": 18,
   "metadata": {
    "vscode": {
     "languageId": "r"
    }
   },
   "outputs": [],
   "source": [
    "# Load the necessary libraries\n",
    "library(dplyr)\n",
    "library(tidyr)\n",
    "\n",
    "# Split the peakId into separate columns for chrom, start, and end using tidyr::separate\n",
    "Allpeaks <- peakPhyloResultsFiltered2F %>%\n",
    "  separate(peakId, into = c(\"genome\", \"chrom\", \"position\"), sep = \":\") %>%\n",
    "  separate(position, into = c(\"start\", \"end\"), sep = \"-\", convert = TRUE)\n",
    "\n",
    "# Create the BED file format (chrom, start, end)\n",
    "bed_Allpeaks <- Allpeaks  %>%\n",
    "  select(chrom, start, end)\n",
    "\n",
    "write.table(bed_Allpeaks, \"Results/PVALB/All.bed\", sep = \"\\t\", row.names = FALSE, col.names = FALSE, quote = FALSE)"
   ]
  },
  {
   "cell_type": "code",
   "execution_count": 13,
   "metadata": {
    "vscode": {
     "languageId": "r"
    }
   },
   "outputs": [],
   "source": [
    "peakPhyloResultsFilteredPositiveF <- peakPhyloResultsFiltered2F %>% filter(adjCorrelation>0)\n",
    "peakPhyloResultsFilteredNegativeF <- peakPhyloResultsFiltered2F %>% filter(adjCorrelation<0)\n",
    "\n",
    "write.csv(peakPhyloResultsFilteredPositiveF, file = \"Results/PhyloResultsHg38Positive.csv\",row.names = FALSE)\n",
    "write.csv(peakPhyloResultsFilteredNegativeF, file = \"Results/PhyloResultsHg38Negative.csv\",row.names = FALSE)"
   ]
  },
  {
   "cell_type": "code",
   "execution_count": 14,
   "metadata": {
    "vscode": {
     "languageId": "r"
    }
   },
   "outputs": [],
   "source": [
    "top200Positive <- peakPhyloResultsFilteredPositiveF[1:200,]\n",
    "top200Negative <- peakPhyloResultsFilteredNegativeF[1:200,]"
   ]
  },
  {
   "cell_type": "code",
   "execution_count": 15,
   "metadata": {
    "vscode": {
     "languageId": "r"
    }
   },
   "outputs": [],
   "source": [
    "# Load the necessary libraries\n",
    "library(dplyr)\n",
    "library(tidyr)\n",
    "\n",
    "# Split the peakId into separate columns for chrom, start, and end using tidyr::separate\n",
    "top200PositiveBed <- top200Positive %>%\n",
    "  separate(peakId, into = c(\"genome\", \"chrom\", \"position\"), sep = \":\") %>%\n",
    "  separate(position, into = c(\"start\", \"end\"), sep = \"-\", convert = TRUE)\n",
    "\n",
    "# Create the BED file format (chrom, start, end)\n",
    "bed_data_pos <- top200PositiveBed  %>%\n",
    "  select(chrom, start, end)\n",
    "\n",
    "write.table(bed_data_pos, \"Results/Top200Pos.bed\", sep = \"\\t\", row.names = FALSE, col.names = FALSE, quote = FALSE)"
   ]
  },
  {
   "cell_type": "code",
   "execution_count": 16,
   "metadata": {
    "vscode": {
     "languageId": "r"
    }
   },
   "outputs": [],
   "source": [
    "# Split the peakId into separate columns for chrom, start, and end using tidyr::separate\n",
    "top200NegativeBed <- top200Negative %>%\n",
    "  separate(peakId, into = c(\"genome\", \"chrom\", \"position\"), sep = \":\") %>%\n",
    "  separate(position, into = c(\"start\", \"end\"), sep = \"-\", convert = TRUE)\n",
    "\n",
    "# Create the BED file format (chrom, start, end)\n",
    "bed_data_neg <- top200NegativeBed  %>%\n",
    "  select(chrom, start, end)\n",
    "\n",
    "write.table(bed_data_neg, \"Results/Top200Neg.bed\", sep = \"\\t\", row.names = FALSE, col.names = FALSE, quote = FALSE)"
   ]
  }
 ],
 "metadata": {
  "kernelspec": {
   "display_name": "R",
   "language": "R",
   "name": "ir"
  },
  "language_info": {
   "codemirror_mode": "r",
   "file_extension": ".r",
   "mimetype": "text/x-r-source",
   "name": "R",
   "pygments_lexer": "r",
   "version": "4.4.1"
  }
 },
 "nbformat": 4,
 "nbformat_minor": 2
}
