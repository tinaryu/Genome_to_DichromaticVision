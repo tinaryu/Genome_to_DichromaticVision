{
 "cells": [
  {
   "cell_type": "code",
   "execution_count": 1,
   "metadata": {
    "vscode": {
     "languageId": "r"
    }
   },
   "outputs": [
    {
     "name": "stderr",
     "output_type": "stream",
     "text": [
      "\n",
      "Attaching package: 'gplots'\n",
      "\n",
      "\n",
      "The following object is masked from 'package:stats':\n",
      "\n",
      "    lowess\n",
      "\n",
      "\n"
     ]
    }
   ],
   "source": [
    "library(gplots)\n",
    "library(ggplot2)\n",
    "library(ape)\n",
    "library(phylolm);"
   ]
  },
  {
   "cell_type": "code",
   "execution_count": 24,
   "metadata": {
    "vscode": {
     "languageId": "r"
    }
   },
   "outputs": [
    {
     "data": {
      "text/html": [
       "<table class=\"dataframe\">\n",
       "<caption>A matrix: 16 x 2 of type chr</caption>\n",
       "<thead>\n",
       "\t<tr><th></th><th scope=col>species</th><th scope=col>coneType</th></tr>\n",
       "</thead>\n",
       "<tbody>\n",
       "\t<tr><th scope=row>Trichechus_manatus</th><td>Trichechus_manatus    </td><td>0</td></tr>\n",
       "\t<tr><th scope=row>Equus_caballus</th><td>Equus_caballus        </td><td>0</td></tr>\n",
       "\t<tr><th scope=row>Canis_lupus</th><td>Canis_lupus           </td><td>1</td></tr>\n",
       "\t<tr><th scope=row>Spermophilus_dauricus</th><td>Spermophilus_dauricus </td><td>1</td></tr>\n",
       "\t<tr><th scope=row>Ursus_maritimus</th><td>Ursus_maritimus       </td><td>0</td></tr>\n",
       "\t<tr><th scope=row>Pteropus_vampyrus</th><td>Pteropus_vampyrus     </td><td>1</td></tr>\n",
       "\t<tr><th scope=row>Elephantulus_edwardii</th><td>Elephantulus_edwardii </td><td>0</td></tr>\n",
       "\t<tr><th scope=row>Sus_scrofa</th><td>Sus_scrofa            </td><td>0</td></tr>\n",
       "\t<tr><th scope=row>Odocoileus_virginianus</th><td>Odocoileus_virginianus</td><td>1</td></tr>\n",
       "\t<tr><th scope=row>Oryctolagus_cuniculus</th><td>Oryctolagus_cuniculus </td><td>1</td></tr>\n",
       "\t<tr><th scope=row>Ovis_aries</th><td>Ovis_aries            </td><td>0</td></tr>\n",
       "\t<tr><th scope=row>Lemur_catta</th><td>Lemur_catta           </td><td>0</td></tr>\n",
       "\t<tr><th scope=row>Tupaia_chinensis</th><td>Tupaia_chinensis      </td><td>0</td></tr>\n",
       "\t<tr><th scope=row>Enhydra_lutris</th><td>Enhydra_lutris        </td><td>0</td></tr>\n",
       "\t<tr><th scope=row>Felis_catus</th><td>Felis_catus           </td><td>0</td></tr>\n",
       "\t<tr><th scope=row>Cavia_porcellus</th><td>Cavia_porcellus       </td><td>1</td></tr>\n",
       "</tbody>\n",
       "</table>\n"
      ],
      "text/latex": [
       "A matrix: 16 x 2 of type chr\n",
       "\\begin{tabular}{r|ll}\n",
       "  & species & coneType\\\\\n",
       "\\hline\n",
       "\tTrichechus\\_manatus & Trichechus\\_manatus     & 0\\\\\n",
       "\tEquus\\_caballus & Equus\\_caballus         & 0\\\\\n",
       "\tCanis\\_lupus & Canis\\_lupus            & 1\\\\\n",
       "\tSpermophilus\\_dauricus & Spermophilus\\_dauricus  & 1\\\\\n",
       "\tUrsus\\_maritimus & Ursus\\_maritimus        & 0\\\\\n",
       "\tPteropus\\_vampyrus & Pteropus\\_vampyrus      & 1\\\\\n",
       "\tElephantulus\\_edwardii & Elephantulus\\_edwardii  & 0\\\\\n",
       "\tSus\\_scrofa & Sus\\_scrofa             & 0\\\\\n",
       "\tOdocoileus\\_virginianus & Odocoileus\\_virginianus & 1\\\\\n",
       "\tOryctolagus\\_cuniculus & Oryctolagus\\_cuniculus  & 1\\\\\n",
       "\tOvis\\_aries & Ovis\\_aries             & 0\\\\\n",
       "\tLemur\\_catta & Lemur\\_catta            & 0\\\\\n",
       "\tTupaia\\_chinensis & Tupaia\\_chinensis       & 0\\\\\n",
       "\tEnhydra\\_lutris & Enhydra\\_lutris         & 0\\\\\n",
       "\tFelis\\_catus & Felis\\_catus            & 0\\\\\n",
       "\tCavia\\_porcellus & Cavia\\_porcellus        & 1\\\\\n",
       "\\end{tabular}\n"
      ],
      "text/markdown": [
       "\n",
       "A matrix: 16 x 2 of type chr\n",
       "\n",
       "| <!--/--> | species | coneType |\n",
       "|---|---|---|\n",
       "| Trichechus_manatus | Trichechus_manatus     | 0 |\n",
       "| Equus_caballus | Equus_caballus         | 0 |\n",
       "| Canis_lupus | Canis_lupus            | 1 |\n",
       "| Spermophilus_dauricus | Spermophilus_dauricus  | 1 |\n",
       "| Ursus_maritimus | Ursus_maritimus        | 0 |\n",
       "| Pteropus_vampyrus | Pteropus_vampyrus      | 1 |\n",
       "| Elephantulus_edwardii | Elephantulus_edwardii  | 0 |\n",
       "| Sus_scrofa | Sus_scrofa             | 0 |\n",
       "| Odocoileus_virginianus | Odocoileus_virginianus | 1 |\n",
       "| Oryctolagus_cuniculus | Oryctolagus_cuniculus  | 1 |\n",
       "| Ovis_aries | Ovis_aries             | 0 |\n",
       "| Lemur_catta | Lemur_catta            | 0 |\n",
       "| Tupaia_chinensis | Tupaia_chinensis       | 0 |\n",
       "| Enhydra_lutris | Enhydra_lutris         | 0 |\n",
       "| Felis_catus | Felis_catus            | 0 |\n",
       "| Cavia_porcellus | Cavia_porcellus        | 1 |\n",
       "\n"
      ],
      "text/plain": [
       "                       species                coneType\n",
       "Trichechus_manatus     Trichechus_manatus     0       \n",
       "Equus_caballus         Equus_caballus         0       \n",
       "Canis_lupus            Canis_lupus            1       \n",
       "Spermophilus_dauricus  Spermophilus_dauricus  1       \n",
       "Ursus_maritimus        Ursus_maritimus        0       \n",
       "Pteropus_vampyrus      Pteropus_vampyrus      1       \n",
       "Elephantulus_edwardii  Elephantulus_edwardii  0       \n",
       "Sus_scrofa             Sus_scrofa             0       \n",
       "Odocoileus_virginianus Odocoileus_virginianus 1       \n",
       "Oryctolagus_cuniculus  Oryctolagus_cuniculus  1       \n",
       "Ovis_aries             Ovis_aries             0       \n",
       "Lemur_catta            Lemur_catta            0       \n",
       "Tupaia_chinensis       Tupaia_chinensis       0       \n",
       "Enhydra_lutris         Enhydra_lutris         0       \n",
       "Felis_catus            Felis_catus            0       \n",
       "Cavia_porcellus        Cavia_porcellus        1       "
      ]
     },
     "metadata": {},
     "output_type": "display_data"
    }
   ],
   "source": [
    "#Treat SL as 0 and SM as 1\n",
    "species = c('Trichechus_manatus','Equus_caballus','Canis_lupus','Spermophilus_dauricus','Ursus_maritimus','Pteropus_vampyrus','Elephantulus_edwardii','Sus_scrofa','Odocoileus_virginianus','Oryctolagus_cuniculus','Ovis_aries','Lemur_catta','Tupaia_chinensis','Enhydra_lutris','Felis_catus','Cavia_porcellus')\n",
    "coneType = c(0,0,1,1,0,1,0,0,1,1,0,0,0,0,0,1)\n",
    "traitF <- data.frame(species = species, coneType = coneType)\n",
    "rownames(traitF) <- traitF$species\n",
    "traitM <- as.matrix(traitF)\n",
    "traitM"
   ]
  },
  {
   "cell_type": "code",
   "execution_count": 3,
   "metadata": {
    "vscode": {
     "languageId": "r"
    }
   },
   "outputs": [
    {
     "data": {
      "text/html": [
       "<style>\n",
       ".list-inline {list-style: none; margin:0; padding: 0}\n",
       ".list-inline>li {display: inline-block}\n",
       ".list-inline>li:not(:last-child)::after {content: \"\\00b7\"; padding: 0 .5ex}\n",
       "</style>\n",
       "<ol class=list-inline><li>'Trichechus_manatus'</li><li>'Elephantulus_edwardii'</li><li>'Oryctolagus_cuniculus'</li><li>'Cavia_porcellus'</li><li>'Spermophilus_dauricus'</li><li>'Tupaia_chinensis'</li><li>'Lemur_catta'</li><li>'Pteropus_vampyrus'</li><li>'Sus_scrofa'</li><li>'Odocoileus_virginianus'</li><li>'Ovis_aries'</li><li>'Equus_caballus'</li><li>'Felis_catus'</li><li>'Canis_lupus'</li><li>'Ursus_maritimus'</li><li>'Enhydra_lutris'</li></ol>\n"
      ],
      "text/latex": [
       "\\begin{enumerate*}\n",
       "\\item 'Trichechus\\_manatus'\n",
       "\\item 'Elephantulus\\_edwardii'\n",
       "\\item 'Oryctolagus\\_cuniculus'\n",
       "\\item 'Cavia\\_porcellus'\n",
       "\\item 'Spermophilus\\_dauricus'\n",
       "\\item 'Tupaia\\_chinensis'\n",
       "\\item 'Lemur\\_catta'\n",
       "\\item 'Pteropus\\_vampyrus'\n",
       "\\item 'Sus\\_scrofa'\n",
       "\\item 'Odocoileus\\_virginianus'\n",
       "\\item 'Ovis\\_aries'\n",
       "\\item 'Equus\\_caballus'\n",
       "\\item 'Felis\\_catus'\n",
       "\\item 'Canis\\_lupus'\n",
       "\\item 'Ursus\\_maritimus'\n",
       "\\item 'Enhydra\\_lutris'\n",
       "\\end{enumerate*}\n"
      ],
      "text/markdown": [
       "1. 'Trichechus_manatus'\n",
       "2. 'Elephantulus_edwardii'\n",
       "3. 'Oryctolagus_cuniculus'\n",
       "4. 'Cavia_porcellus'\n",
       "5. 'Spermophilus_dauricus'\n",
       "6. 'Tupaia_chinensis'\n",
       "7. 'Lemur_catta'\n",
       "8. 'Pteropus_vampyrus'\n",
       "9. 'Sus_scrofa'\n",
       "10. 'Odocoileus_virginianus'\n",
       "11. 'Ovis_aries'\n",
       "12. 'Equus_caballus'\n",
       "13. 'Felis_catus'\n",
       "14. 'Canis_lupus'\n",
       "15. 'Ursus_maritimus'\n",
       "16. 'Enhydra_lutris'\n",
       "\n",
       "\n"
      ],
      "text/plain": [
       " [1] \"Trichechus_manatus\"     \"Elephantulus_edwardii\"  \"Oryctolagus_cuniculus\" \n",
       " [4] \"Cavia_porcellus\"        \"Spermophilus_dauricus\"  \"Tupaia_chinensis\"      \n",
       " [7] \"Lemur_catta\"            \"Pteropus_vampyrus\"      \"Sus_scrofa\"            \n",
       "[10] \"Odocoileus_virginianus\" \"Ovis_aries\"             \"Equus_caballus\"        \n",
       "[13] \"Felis_catus\"            \"Canis_lupus\"            \"Ursus_maritimus\"       \n",
       "[16] \"Enhydra_lutris\"        "
      ]
     },
     "metadata": {},
     "output_type": "display_data"
    }
   ],
   "source": [
    "zoonomiaPath = '/Users/tinaryu/brain_epigenetics/project/data/Zoonomia_ChrX_lessGC40_241species_30Consensus.tree'\n",
    "zoonomiaTree <- read.tree(file = zoonomiaPath)\n",
    "removeSpecV <- setdiff(zoonomiaTree$tip.label,species)\n",
    "\n",
    "zoonomiaTreeDrop <- drop.tip(zoonomiaTree,removeSpecV)\n",
    "zoonomiaTreeDrop$tip.label"
   ]
  },
  {
   "cell_type": "code",
   "execution_count": 4,
   "metadata": {
    "vscode": {
     "languageId": "r"
    }
   },
   "outputs": [],
   "source": [
    "pathPeak = '/Users/tinaryu/brain_epigenetics/project/data/L23ITpeakPredM.csv'\n",
    "pathSpecies = '/Users/tinaryu/brain_epigenetics/project/data/L23ITspeciesNames.csv'"
   ]
  },
  {
   "cell_type": "code",
   "execution_count": 5,
   "metadata": {
    "vscode": {
     "languageId": "r"
    }
   },
   "outputs": [],
   "source": [
    "speciesInfoF <- read.csv(file=pathSpecies,stringsAsFactors=F,header=T);\n",
    "peakInfoF <- read.csv(file=pathPeak,header=TRUE,stringsAsFactors=F);\n"
   ]
  },
  {
   "cell_type": "code",
   "execution_count": 6,
   "metadata": {
    "vscode": {
     "languageId": "r"
    }
   },
   "outputs": [
    {
     "data": {
      "text/html": [
       "<table class=\"dataframe\">\n",
       "<caption>A matrix: 5 x 16 of type dbl</caption>\n",
       "<thead>\n",
       "\t<tr><th></th><th scope=col>Trichechus_manatus</th><th scope=col>Equus_caballus</th><th scope=col>Canis_lupus</th><th scope=col>Spermophilus_dauricus</th><th scope=col>Ursus_maritimus</th><th scope=col>Pteropus_vampyrus</th><th scope=col>Elephantulus_edwardii</th><th scope=col>Sus_scrofa</th><th scope=col>Odocoileus_virginianus</th><th scope=col>Oryctolagus_cuniculus</th><th scope=col>Ovis_aries</th><th scope=col>Lemur_catta</th><th scope=col>Tupaia_chinensis</th><th scope=col>Enhydra_lutris</th><th scope=col>Felis_catus</th><th scope=col>Cavia_porcellus</th></tr>\n",
       "</thead>\n",
       "<tbody>\n",
       "\t<tr><th scope=row>hg38:chr1:827294-827795</th><td>      NA</td><td>       NA</td><td>      NA</td><td>      NA</td><td>      NA</td><td>      NA</td><td>      NA</td><td>      NA</td><td>      NA</td><td>      NA</td><td>      NA</td><td>0.896454</td><td>      NA</td><td>      NA</td><td>      NA</td><td>      NA</td></tr>\n",
       "\t<tr><th scope=row>hg38:chr1:1019232-1019733</th><td>      NA</td><td>       NA</td><td>      NA</td><td>      NA</td><td>      NA</td><td>      NA</td><td>      NA</td><td>      NA</td><td>      NA</td><td>      NA</td><td>      NA</td><td>      NA</td><td>      NA</td><td>      NA</td><td>      NA</td><td>      NA</td></tr>\n",
       "\t<tr><th scope=row>hg38:chr1:2414331-2414832</th><td>      NA</td><td>0.1736450</td><td>0.274206</td><td>0.690077</td><td>0.389811</td><td>0.970039</td><td>      NA</td><td>      NA</td><td>0.874791</td><td>      NA</td><td>0.276168</td><td>      NA</td><td>0.946244</td><td>0.858548</td><td>      NA</td><td>0.924502</td></tr>\n",
       "\t<tr><th scope=row>hg38:chr1:32886478-32886979</th><td>0.946243</td><td>0.9631820</td><td>0.286944</td><td>0.439608</td><td>0.489087</td><td>0.971063</td><td>0.907109</td><td>0.940642</td><td>0.930320</td><td>0.942203</td><td>0.161447</td><td>0.702246</td><td>0.350648</td><td>0.798215</td><td>0.219556</td><td>      NA</td></tr>\n",
       "\t<tr><th scope=row>hg38:chr3:51340395-51340896</th><td>0.933330</td><td>0.0719499</td><td>      NA</td><td>0.849795</td><td>      NA</td><td>0.103207</td><td>      NA</td><td>0.956646</td><td>0.936982</td><td>0.975540</td><td>0.856439</td><td>0.922376</td><td>0.945567</td><td>      NA</td><td>0.871231</td><td>      NA</td></tr>\n",
       "</tbody>\n",
       "</table>\n"
      ],
      "text/latex": [
       "A matrix: 5 x 16 of type dbl\n",
       "\\begin{tabular}{r|llllllllllllllll}\n",
       "  & Trichechus\\_manatus & Equus\\_caballus & Canis\\_lupus & Spermophilus\\_dauricus & Ursus\\_maritimus & Pteropus\\_vampyrus & Elephantulus\\_edwardii & Sus\\_scrofa & Odocoileus\\_virginianus & Oryctolagus\\_cuniculus & Ovis\\_aries & Lemur\\_catta & Tupaia\\_chinensis & Enhydra\\_lutris & Felis\\_catus & Cavia\\_porcellus\\\\\n",
       "\\hline\n",
       "\thg38:chr1:827294-827795 &       NA &        NA &       NA &       NA &       NA &       NA &       NA &       NA &       NA &       NA &       NA & 0.896454 &       NA &       NA &       NA &       NA\\\\\n",
       "\thg38:chr1:1019232-1019733 &       NA &        NA &       NA &       NA &       NA &       NA &       NA &       NA &       NA &       NA &       NA &       NA &       NA &       NA &       NA &       NA\\\\\n",
       "\thg38:chr1:2414331-2414832 &       NA & 0.1736450 & 0.274206 & 0.690077 & 0.389811 & 0.970039 &       NA &       NA & 0.874791 &       NA & 0.276168 &       NA & 0.946244 & 0.858548 &       NA & 0.924502\\\\\n",
       "\thg38:chr1:32886478-32886979 & 0.946243 & 0.9631820 & 0.286944 & 0.439608 & 0.489087 & 0.971063 & 0.907109 & 0.940642 & 0.930320 & 0.942203 & 0.161447 & 0.702246 & 0.350648 & 0.798215 & 0.219556 &       NA\\\\\n",
       "\thg38:chr3:51340395-51340896 & 0.933330 & 0.0719499 &       NA & 0.849795 &       NA & 0.103207 &       NA & 0.956646 & 0.936982 & 0.975540 & 0.856439 & 0.922376 & 0.945567 &       NA & 0.871231 &       NA\\\\\n",
       "\\end{tabular}\n"
      ],
      "text/markdown": [
       "\n",
       "A matrix: 5 x 16 of type dbl\n",
       "\n",
       "| <!--/--> | Trichechus_manatus | Equus_caballus | Canis_lupus | Spermophilus_dauricus | Ursus_maritimus | Pteropus_vampyrus | Elephantulus_edwardii | Sus_scrofa | Odocoileus_virginianus | Oryctolagus_cuniculus | Ovis_aries | Lemur_catta | Tupaia_chinensis | Enhydra_lutris | Felis_catus | Cavia_porcellus |\n",
       "|---|---|---|---|---|---|---|---|---|---|---|---|---|---|---|---|---|\n",
       "| hg38:chr1:827294-827795 |       NA |        NA |       NA |       NA |       NA |       NA |       NA |       NA |       NA |       NA |       NA | 0.896454 |       NA |       NA |       NA |       NA |\n",
       "| hg38:chr1:1019232-1019733 |       NA |        NA |       NA |       NA |       NA |       NA |       NA |       NA |       NA |       NA |       NA |       NA |       NA |       NA |       NA |       NA |\n",
       "| hg38:chr1:2414331-2414832 |       NA | 0.1736450 | 0.274206 | 0.690077 | 0.389811 | 0.970039 |       NA |       NA | 0.874791 |       NA | 0.276168 |       NA | 0.946244 | 0.858548 |       NA | 0.924502 |\n",
       "| hg38:chr1:32886478-32886979 | 0.946243 | 0.9631820 | 0.286944 | 0.439608 | 0.489087 | 0.971063 | 0.907109 | 0.940642 | 0.930320 | 0.942203 | 0.161447 | 0.702246 | 0.350648 | 0.798215 | 0.219556 |       NA |\n",
       "| hg38:chr3:51340395-51340896 | 0.933330 | 0.0719499 |       NA | 0.849795 |       NA | 0.103207 |       NA | 0.956646 | 0.936982 | 0.975540 | 0.856439 | 0.922376 | 0.945567 |       NA | 0.871231 |       NA |\n",
       "\n"
      ],
      "text/plain": [
       "                            Trichechus_manatus Equus_caballus Canis_lupus\n",
       "hg38:chr1:827294-827795           NA                  NA            NA   \n",
       "hg38:chr1:1019232-1019733         NA                  NA            NA   \n",
       "hg38:chr1:2414331-2414832         NA           0.1736450      0.274206   \n",
       "hg38:chr1:32886478-32886979 0.946243           0.9631820      0.286944   \n",
       "hg38:chr3:51340395-51340896 0.933330           0.0719499            NA   \n",
       "                            Spermophilus_dauricus Ursus_maritimus\n",
       "hg38:chr1:827294-827795           NA                    NA       \n",
       "hg38:chr1:1019232-1019733         NA                    NA       \n",
       "hg38:chr1:2414331-2414832   0.690077              0.389811       \n",
       "hg38:chr1:32886478-32886979 0.439608              0.489087       \n",
       "hg38:chr3:51340395-51340896 0.849795                    NA       \n",
       "                            Pteropus_vampyrus Elephantulus_edwardii Sus_scrofa\n",
       "hg38:chr1:827294-827795           NA                NA                    NA  \n",
       "hg38:chr1:1019232-1019733         NA                NA                    NA  \n",
       "hg38:chr1:2414331-2414832   0.970039                NA                    NA  \n",
       "hg38:chr1:32886478-32886979 0.971063          0.907109              0.940642  \n",
       "hg38:chr3:51340395-51340896 0.103207                NA              0.956646  \n",
       "                            Odocoileus_virginianus Oryctolagus_cuniculus\n",
       "hg38:chr1:827294-827795           NA                     NA             \n",
       "hg38:chr1:1019232-1019733         NA                     NA             \n",
       "hg38:chr1:2414331-2414832   0.874791                     NA             \n",
       "hg38:chr1:32886478-32886979 0.930320               0.942203             \n",
       "hg38:chr3:51340395-51340896 0.936982               0.975540             \n",
       "                            Ovis_aries Lemur_catta Tupaia_chinensis\n",
       "hg38:chr1:827294-827795           NA   0.896454          NA        \n",
       "hg38:chr1:1019232-1019733         NA         NA          NA        \n",
       "hg38:chr1:2414331-2414832   0.276168         NA    0.946244        \n",
       "hg38:chr1:32886478-32886979 0.161447   0.702246    0.350648        \n",
       "hg38:chr3:51340395-51340896 0.856439   0.922376    0.945567        \n",
       "                            Enhydra_lutris Felis_catus Cavia_porcellus\n",
       "hg38:chr1:827294-827795           NA             NA          NA       \n",
       "hg38:chr1:1019232-1019733         NA             NA          NA       \n",
       "hg38:chr1:2414331-2414832   0.858548             NA    0.924502       \n",
       "hg38:chr1:32886478-32886979 0.798215       0.219556          NA       \n",
       "hg38:chr3:51340395-51340896       NA       0.871231          NA       "
      ]
     },
     "metadata": {},
     "output_type": "display_data"
    }
   ],
   "source": [
    "rownames(peakInfoF) <- peakInfoF$X\n",
    "peakInfoSubsetF = peakInfoF[,species,drop=FALSE]\n",
    "peakInfoSubsetM = as.matrix(peakInfoSubsetF)\n",
    "peakInfoSubsetM[1:5,]"
   ]
  },
  {
   "cell_type": "code",
   "execution_count": 26,
   "metadata": {
    "vscode": {
     "languageId": "r"
    }
   },
   "outputs": [
    {
     "name": "stdout",
     "output_type": "stream",
     "text": [
      "                                      species coneType  curPeak\n",
      "Trichechus_manatus         Trichechus_manatus        0       NA\n",
      "Equus_caballus                 Equus_caballus        0       NA\n",
      "Canis_lupus                       Canis_lupus        1       NA\n",
      "Spermophilus_dauricus   Spermophilus_dauricus        1       NA\n",
      "Ursus_maritimus               Ursus_maritimus        0       NA\n",
      "Pteropus_vampyrus           Pteropus_vampyrus        1       NA\n",
      "Elephantulus_edwardii   Elephantulus_edwardii        0       NA\n",
      "Sus_scrofa                         Sus_scrofa        0       NA\n",
      "Odocoileus_virginianus Odocoileus_virginianus        1       NA\n",
      "Oryctolagus_cuniculus   Oryctolagus_cuniculus        1       NA\n",
      "Ovis_aries                         Ovis_aries        0       NA\n",
      "Lemur_catta                       Lemur_catta        0 0.896454\n",
      "Tupaia_chinensis             Tupaia_chinensis        0       NA\n",
      "Enhydra_lutris                 Enhydra_lutris        0       NA\n",
      "Felis_catus                       Felis_catus        0       NA\n",
      "Cavia_porcellus               Cavia_porcellus        1       NA\n",
      " [1] \"Trichechus_manatus\"     \"Elephantulus_edwardii\"  \"Oryctolagus_cuniculus\" \n",
      " [4] \"Cavia_porcellus\"        \"Spermophilus_dauricus\"  \"Tupaia_chinensis\"      \n",
      " [7] \"Lemur_catta\"            \"Pteropus_vampyrus\"      \"Sus_scrofa\"            \n",
      "[10] \"Odocoileus_virginianus\" \"Ovis_aries\"             \"Equus_caballus\"        \n",
      "[13] \"Felis_catus\"            \"Canis_lupus\"            \"Ursus_maritimus\"       \n",
      "[16] \"Enhydra_lutris\"        \n"
     ]
    },
    {
     "ename": "ERROR",
     "evalue": "Error in phylolm(curPeak ~ coneType, data = traitFtmp, phy = zoonomiaTreeDrop, : names of the data do not match with tip labels.\n",
     "output_type": "error",
     "traceback": [
      "Error in phylolm(curPeak ~ coneType, data = traitFtmp, phy = zoonomiaTreeDrop, : names of the data do not match with tip labels.\nTraceback:\n",
      "1. phylolm(curPeak ~ coneType, data = traitFtmp, phy = zoonomiaTreeDrop, \n .     method = \"BM\")",
      "2. stop(\"names of the data do not match with tip labels.\")"
     ]
    }
   ],
   "source": [
    "########## Loop through the peaks and calculate dichromacy relationship with phylolm ###############\n",
    "#This could take a few minutes\n",
    "\n",
    "testPeaksV <- rownames(peakInfoSubsetF);\n",
    "\n",
    "loopPeaksV <- testPeaksV[1:1000];\n",
    "\n",
    "peakPhyloResultsF <- data.frame(peakId = loopPeaksV, pvalue=rep(NA,length(loopPeaksV)),correlation=rep(NA,length(loopPeaksV)),adjCorrelation=rep(NA,length(loopPeaksV)));\n",
    "\n",
    "rownames(peakPhyloResultsF) <- peakPhyloResultsF$peakId\n",
    "\n",
    "\n",
    "options(warn=-1)\n",
    "\n",
    "for(curPeak in loopPeaksV) {\n",
    "  traitFtmp <- traitF;\n",
    "  traitFtmp$curPeak <- peakInfoSubsetM[curPeak,];\n",
    "  print(traitFtmp)\n",
    "  print(zoonomiaTreeDrop$tip.label)\n",
    "  curLmFit = phylolm(curPeak~coneType,data=traitFtmp,phy=zoonomiaTreeDrop,method=\"BM\");\n",
    "  curLmFitSum <- summary(curLmFit)\n",
    "  peakPhyloResultsF[curPeak,\"pvalue\"] <- curLmFitSum$coefficients[\"longevity\",\"p.value\"]\n",
    "  peakPhyloResultsF[curPeak,\"correlation\"] <- curLmFitSum$r.squared\n",
    "  peakPhyloResultsF[curPeak,\"adjCorrelation\"] <- curLmFitSum$adj.r.squared\n",
    "} \n",
    "\n",
    "options(warn=0)\n",
    "\n",
    "peakPhyloResults2F <- peakPhyloResultsF[order(peakPhyloResultsF$pvalue,decreasing=F),]\n",
    "peakPhyloResults2F[1:10,]\n"
   ]
  },
  {
   "cell_type": "code",
   "execution_count": 93,
   "metadata": {
    "vscode": {
     "languageId": "r"
    }
   },
   "outputs": [
    {
     "name": "stdout",
     "output_type": "stream",
     "text": [
      "[1] \"All species match!\"\n"
     ]
    }
   ],
   "source": [
    "unmatched <- setdiff(rownames(traitF), zoonomiaTreeDrop$tip.label)\n",
    "if(length(unmatched) > 0) {\n",
    "    print(\"Unmatched species:\")\n",
    "    print(unmatched)\n",
    "} else {\n",
    "    print(\"All species match!\")\n",
    "}"
   ]
  },
  {
   "cell_type": "code",
   "execution_count": 92,
   "metadata": {
    "vscode": {
     "languageId": "r"
    }
   },
   "outputs": [
    {
     "data": {
      "text/html": [
       "<style>\n",
       ".list-inline {list-style: none; margin:0; padding: 0}\n",
       ".list-inline>li {display: inline-block}\n",
       ".list-inline>li:not(:last-child)::after {content: \"\\00b7\"; padding: 0 .5ex}\n",
       "</style>\n",
       "<ol class=list-inline><li>'Trichechus_manatus'</li><li>'Equus_caballus'</li><li>'Canis_lupus'</li><li>'Spermophilus_dauricus'</li><li>'Ursus_maritimus'</li><li>'Pteropus_vampyrus'</li><li>'Elephantulus_edwardii'</li><li>'Sus_scrofa'</li><li>'Odocoileus_virginianus'</li><li>'Oryctolagus_cuniculus'</li><li>'Ovis_aries'</li><li>'Lemur_catta'</li><li>'Tupaia_chinensis'</li><li>'Enhydra_lutris'</li><li>'Felis_catus'</li><li>'Cavia_porcellus'</li></ol>\n"
      ],
      "text/latex": [
       "\\begin{enumerate*}\n",
       "\\item 'Trichechus\\_manatus'\n",
       "\\item 'Equus\\_caballus'\n",
       "\\item 'Canis\\_lupus'\n",
       "\\item 'Spermophilus\\_dauricus'\n",
       "\\item 'Ursus\\_maritimus'\n",
       "\\item 'Pteropus\\_vampyrus'\n",
       "\\item 'Elephantulus\\_edwardii'\n",
       "\\item 'Sus\\_scrofa'\n",
       "\\item 'Odocoileus\\_virginianus'\n",
       "\\item 'Oryctolagus\\_cuniculus'\n",
       "\\item 'Ovis\\_aries'\n",
       "\\item 'Lemur\\_catta'\n",
       "\\item 'Tupaia\\_chinensis'\n",
       "\\item 'Enhydra\\_lutris'\n",
       "\\item 'Felis\\_catus'\n",
       "\\item 'Cavia\\_porcellus'\n",
       "\\end{enumerate*}\n"
      ],
      "text/markdown": [
       "1. 'Trichechus_manatus'\n",
       "2. 'Equus_caballus'\n",
       "3. 'Canis_lupus'\n",
       "4. 'Spermophilus_dauricus'\n",
       "5. 'Ursus_maritimus'\n",
       "6. 'Pteropus_vampyrus'\n",
       "7. 'Elephantulus_edwardii'\n",
       "8. 'Sus_scrofa'\n",
       "9. 'Odocoileus_virginianus'\n",
       "10. 'Oryctolagus_cuniculus'\n",
       "11. 'Ovis_aries'\n",
       "12. 'Lemur_catta'\n",
       "13. 'Tupaia_chinensis'\n",
       "14. 'Enhydra_lutris'\n",
       "15. 'Felis_catus'\n",
       "16. 'Cavia_porcellus'\n",
       "\n",
       "\n"
      ],
      "text/plain": [
       " [1] \"Trichechus_manatus\"     \"Equus_caballus\"         \"Canis_lupus\"           \n",
       " [4] \"Spermophilus_dauricus\"  \"Ursus_maritimus\"        \"Pteropus_vampyrus\"     \n",
       " [7] \"Elephantulus_edwardii\"  \"Sus_scrofa\"             \"Odocoileus_virginianus\"\n",
       "[10] \"Oryctolagus_cuniculus\"  \"Ovis_aries\"             \"Lemur_catta\"           \n",
       "[13] \"Tupaia_chinensis\"       \"Enhydra_lutris\"         \"Felis_catus\"           \n",
       "[16] \"Cavia_porcellus\"       "
      ]
     },
     "metadata": {},
     "output_type": "display_data"
    }
   ],
   "source": []
  },
  {
   "cell_type": "code",
   "execution_count": 59,
   "metadata": {
    "vscode": {
     "languageId": "r"
    }
   },
   "outputs": [
    {
     "name": "stdout",
     "output_type": "stream",
     "text": [
      " [1] \"Trichechus_manatus\"     \"Elephantulus_edwardii\"  \"Oryctolagus_cuniculus\" \n",
      " [4] \"Cavia_porcellus\"        \"Spermophilus_dauricus\"  \"Tupaia_chinensis\"      \n",
      " [7] \"Lemur_catta\"            \"Pteropus_vampyrus\"      \"Sus_scrofa\"            \n",
      "[10] \"Odocoileus_virginianus\" \"Ovis_aries\"             \"Equus_caballus\"        \n",
      "[13] \"Felis_catus\"            \"Canis_lupus\"            \"Ursus_maritimus\"       \n",
      "[16] \"Enhydra_lutris\"        \n"
     ]
    }
   ],
   "source": [
    "tip_labels <- zoonomiaTreeDrop$tip.label\n",
    "print(tip_labels)"
   ]
  },
  {
   "cell_type": "code",
   "execution_count": 63,
   "metadata": {
    "vscode": {
     "languageId": "r"
    }
   },
   "outputs": [
    {
     "data": {
      "text/html": [
       "<style>\n",
       ".list-inline {list-style: none; margin:0; padding: 0}\n",
       ".list-inline>li {display: inline-block}\n",
       ".list-inline>li:not(:last-child)::after {content: \"\\00b7\"; padding: 0 .5ex}\n",
       "</style>\n",
       "<ol class=list-inline><li>'Trichechus_manatus'</li><li>'Equus_caballus'</li><li>'Canis_lupus'</li><li>'Spermophilus_dauricus'</li><li>'Ursus_maritimus'</li><li>'Pteropus_vampyrus'</li><li>'Elephantulus_edwardii'</li><li>'Sus_scrofa'</li><li>'Odocoileus_virginianus'</li><li>'Oryctolagus_cuniculus'</li><li>'Ovis_aries'</li><li>'Lemur_catta'</li><li>'Tupaia_chinensis'</li><li>'Enhydra_lutris'</li><li>'Felis_catus'</li><li>'Cavia_porcellus'</li></ol>\n"
      ],
      "text/latex": [
       "\\begin{enumerate*}\n",
       "\\item 'Trichechus\\_manatus'\n",
       "\\item 'Equus\\_caballus'\n",
       "\\item 'Canis\\_lupus'\n",
       "\\item 'Spermophilus\\_dauricus'\n",
       "\\item 'Ursus\\_maritimus'\n",
       "\\item 'Pteropus\\_vampyrus'\n",
       "\\item 'Elephantulus\\_edwardii'\n",
       "\\item 'Sus\\_scrofa'\n",
       "\\item 'Odocoileus\\_virginianus'\n",
       "\\item 'Oryctolagus\\_cuniculus'\n",
       "\\item 'Ovis\\_aries'\n",
       "\\item 'Lemur\\_catta'\n",
       "\\item 'Tupaia\\_chinensis'\n",
       "\\item 'Enhydra\\_lutris'\n",
       "\\item 'Felis\\_catus'\n",
       "\\item 'Cavia\\_porcellus'\n",
       "\\end{enumerate*}\n"
      ],
      "text/markdown": [
       "1. 'Trichechus_manatus'\n",
       "2. 'Equus_caballus'\n",
       "3. 'Canis_lupus'\n",
       "4. 'Spermophilus_dauricus'\n",
       "5. 'Ursus_maritimus'\n",
       "6. 'Pteropus_vampyrus'\n",
       "7. 'Elephantulus_edwardii'\n",
       "8. 'Sus_scrofa'\n",
       "9. 'Odocoileus_virginianus'\n",
       "10. 'Oryctolagus_cuniculus'\n",
       "11. 'Ovis_aries'\n",
       "12. 'Lemur_catta'\n",
       "13. 'Tupaia_chinensis'\n",
       "14. 'Enhydra_lutris'\n",
       "15. 'Felis_catus'\n",
       "16. 'Cavia_porcellus'\n",
       "\n",
       "\n"
      ],
      "text/plain": [
       " [1] \"Trichechus_manatus\"     \"Equus_caballus\"         \"Canis_lupus\"           \n",
       " [4] \"Spermophilus_dauricus\"  \"Ursus_maritimus\"        \"Pteropus_vampyrus\"     \n",
       " [7] \"Elephantulus_edwardii\"  \"Sus_scrofa\"             \"Odocoileus_virginianus\"\n",
       "[10] \"Oryctolagus_cuniculus\"  \"Ovis_aries\"             \"Lemur_catta\"           \n",
       "[13] \"Tupaia_chinensis\"       \"Enhydra_lutris\"         \"Felis_catus\"           \n",
       "[16] \"Cavia_porcellus\"       "
      ]
     },
     "metadata": {},
     "output_type": "display_data"
    }
   ],
   "source": [
    "unique_species <- traitF$species  # Replace 'species_column_name' with the actual name of your species column\n",
    "unique_species"
   ]
  },
  {
   "cell_type": "code",
   "execution_count": 66,
   "metadata": {
    "vscode": {
     "languageId": "r"
    }
   },
   "outputs": [
    {
     "data": {
      "text/html": [
       "16"
      ],
      "text/latex": [
       "16"
      ],
      "text/markdown": [
       "16"
      ],
      "text/plain": [
       "[1] 16"
      ]
     },
     "metadata": {},
     "output_type": "display_data"
    }
   ],
   "source": [
    "length(tip_labels)"
   ]
  },
  {
   "cell_type": "code",
   "execution_count": 67,
   "metadata": {
    "vscode": {
     "languageId": "r"
    }
   },
   "outputs": [],
   "source": [
    "traitFtmp <- traitF[traitF$species %in% tip_labels, ]\n",
    "\n"
   ]
  },
  {
   "cell_type": "code",
   "execution_count": 78,
   "metadata": {
    "vscode": {
     "languageId": "r"
    }
   },
   "outputs": [
    {
     "ename": "ERROR",
     "evalue": "Error in phylolm(curPeak ~ coneType, data = traitFtmp, phy = zoonomiaTreeDrop, : names of the data do not match with tip labels.\n",
     "output_type": "error",
     "traceback": [
      "Error in phylolm(curPeak ~ coneType, data = traitFtmp, phy = zoonomiaTreeDrop, : names of the data do not match with tip labels.\nTraceback:\n",
      "1. phylolm(curPeak ~ coneType, data = traitFtmp, phy = zoonomiaTreeDrop, \n .     method = \"BM\")",
      "2. stop(\"names of the data do not match with tip labels.\")"
     ]
    }
   ],
   "source": [
    "options(warn=-1)\n",
    "\n",
    "for (curPeak in loopPeaksV) {\n",
    "  traitFtmp <- traitF\n",
    "  traitFtmp$curPeak <- peakInfoSubsetM[curPeak, ]\n",
    "  \n",
    "  # Filter to ensure only species in the phylogenetic tree are included\n",
    "  traitFtmp <- traitFtmp[traitFtmp$species %in% tip_labels, ]\n",
    "  \n",
    "\n",
    "  curLmFit = phyloglm(curPeak ~ coneType, data = traitFtmp, phy = zoonomiaTreeDrop, method = \"BM\")\n",
    "  curLmFitSum <- summary(curLmFit)\n",
    "  \n",
    "  peakPhyloResultsF[curPeak, \"pvalue\"] <- curLmFitSum$coefficients[\"coneType\", \"Pr(>|t|)\"]\n",
    "  peakPhyloResultsF[curPeak, \"correlation\"] <- curLmFitSum$r.squared\n",
    "  peakPhyloResultsF[curPeak, \"adjCorrelation\"] <- curLmFitSum$adj.r.squared\n",
    "}\n",
    "\n",
    "options(warn=0)\n",
    "\n",
    "peakPhyloResults2F <- peakPhyloResultsF[order(peakPhyloResultsF$pvalue, decreasing = FALSE), ]\n",
    "peakPhyloResults2F[1:10, ]"
   ]
  }
 ],
 "metadata": {
  "kernelspec": {
   "display_name": "R",
   "language": "R",
   "name": "ir"
  },
  "language_info": {
   "codemirror_mode": "r",
   "file_extension": ".r",
   "mimetype": "text/x-r-source",
   "name": "R",
   "pygments_lexer": "r",
   "version": "4.4.1"
  }
 },
 "nbformat": 4,
 "nbformat_minor": 2
}
